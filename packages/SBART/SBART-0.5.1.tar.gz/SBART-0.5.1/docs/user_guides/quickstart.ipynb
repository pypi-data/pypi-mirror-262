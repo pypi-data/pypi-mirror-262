{
 "cells": [
  {
   "attachments": {},
   "cell_type": "markdown",
   "metadata": {
    "collapsed": false,
    "pycharm": {
     "name": "#%% md\n"
    }
   },
   "source": [
    "# Quick start look into sBART\n",
    "\n",
    "The sBART pipeline provides the user with all the necessary pieces to construct a template matching algorithm, by selecting\n",
    "the Stellar and Telluric templates, the underlying RV model and the method with which new, tentative RVs, are given to the model.\n",
    "\n",
    "In this Section we showcase a small example of building a RV model from the different parts of SBART. At the root of the repository it is also possible to find a *sbart_example.py* which contains the code from this notebook as a single python script\n",
    "\n",
    "**Note:** it is highly advised to not run SBART inside jupyter notebooks, as one might run into issues due to  terminal logging.\n",
    "\n",
    "## Specifying the input and output paths\n",
    "\n",
    "**Note**: the disk files are not present in the GB repository due to space limitations"
   ]
  },
  {
   "cell_type": "code",
   "execution_count": 3,
   "metadata": {
    "collapsed": false,
    "pycharm": {
     "name": "#%%\n"
    },
    "ExecuteTime": {
     "end_time": "2023-06-09T21:34:04.109368895Z",
     "start_time": "2023-06-09T21:34:03.920957926Z"
    }
   },
   "outputs": [],
   "source": [
    "from SBART.Instruments import ESPRESSO, HARPS\n",
    "from pathlib import Path\n",
    "\n",
    "\n",
    "# Either define the path to a text file where each line is a complete path to a S2D file\n",
    "input_filepath = \"\"\n",
    "\n",
    "# or give a list of disk files\n",
    "input_filepath = [i.as_posix() for i in Path(\"/home/amiguel/phd/tools/sBART_private/tests/resources\").glob(\"*.fits\")]\n",
    "\n",
    "instrument = ESPRESSO\n",
    "\n",
    "# Folder in which SBART will store its outputs\n",
    "storage_path = Path(\"/home/amiguel/phd/tools/sBART_private/tests/documentation_outputs\")\n"
   ]
  },
  {
   "cell_type": "code",
   "execution_count": 4,
   "metadata": {},
   "outputs": [
    {
     "name": "stdout",
     "output_type": "stream",
     "text": [
      "Configurations:\n",
      "\n",
      "Name:: bypass_QualCheck\n",
      "\tDescription:: None\n",
      "\tMandatory:: False\n",
      "\tDefault value:: False\n",
      "\tConstraints:: Value from dtype <(<class 'bool'>,)>\n",
      " \n",
      "Name:: open_without_BervCorr\n",
      "\tDescription:: Ensure that the Frame is not BERV corrected, independently of correction being applied or not in the official pipeline\n",
      "\tMandatory:: False\n",
      "\tDefault value:: False\n",
      "\tConstraints:: Value from dtype <(<class 'bool'>,)>\n",
      " \n",
      "Name:: apply_FluxCorr\n",
      "\tDescription:: Apply the blue-red flux correction due to the wavelength dependence of the atmospheric extinction. Only available on data from ESO pipeline (ESPRESSO)\n",
      "\tMandatory:: False\n",
      "\tDefault value:: False\n",
      "\tConstraints:: Value from dtype <(<class 'bool'>,)>\n",
      " \n",
      "Name:: use_air_wavelengths\n",
      "\tDescription:: Use air wavelengths, instead of the vacuum ones\n",
      "\tMandatory:: False\n",
      "\tDefault value:: False\n",
      "\tConstraints:: Value from dtype <(<class 'bool'>,)>\n",
      " \n",
      "Name:: apply_FluxBalance_Norm\n",
      "\tDescription:: None\n",
      "\tMandatory:: False\n",
      "\tDefault value:: False\n",
      "\tConstraints:: Value from dtype <(<class 'bool'>,)>\n",
      " \n",
      "Name:: reject_order_percentage\n",
      "\tDescription:: None\n",
      "\tMandatory:: False\n",
      "\tDefault value:: 0.25\n",
      "\tConstraints:: Value inside interval <(0, 1)>; Edges: True\n",
      " \n",
      "Name:: minimum_order_SNR\n",
      "\tDescription:: SNR threshold under which the spectral order is rejected\n",
      "\tMandatory:: False\n",
      "\tDefault value:: 5\n",
      "\tConstraints:: Value inside interval <[0, inf]>; Edges: True\n",
      " \n",
      "Name:: bypass_ST_designation\n",
      "\tDescription:: None\n",
      "\tMandatory:: False\n",
      "\tDefault value:: None\n",
      "\tConstraints:: Value from list <(None, 'S2D', 'S1D')>\n",
      " \n",
      "Name:: Telluric_Corrected\n",
      "\tDescription:: The Frame was already corrected from telluric features\n",
      "\tMandatory:: False\n",
      "\tDefault value:: False\n",
      "\tConstraints:: Value from dtype <(<class 'bool'>,)>\n",
      " \n",
      "Name:: UseMolecfit\n",
      "\tDescription:: None\n",
      "\tMandatory:: False\n",
      "\tDefault value:: False\n",
      "\tConstraints:: Value from dtype <(<class 'bool'>,)>\n",
      " \n",
      "Name:: use_old_pipeline\n",
      "\tDescription:: Use data from the old pipeline. Only available to selected instruments\n",
      "\tMandatory:: False\n",
      "\tDefault value:: False\n",
      "\tConstraints:: Value from dtype <(<class 'bool'>,)>\n",
      " \n",
      "Name:: SCIRED_CHECK_IS_FATAL\n",
      "\tDescription:: Automatically reject frames with QC SCIRED CHECK = 0 \n",
      "\tMandatory:: False\n",
      "\tDefault value:: True\n",
      "\tConstraints:: Value from dtype <(<class 'bool'>,)>\n",
      " \n",
      "\n"
     ]
    }
   ],
   "source": [
    "# To check the available configurations of ESPRESSO data:\n",
    "ESPRESSO.config_help()"
   ]
  },
  {
   "attachments": {},
   "cell_type": "markdown",
   "metadata": {
    "collapsed": false,
    "pycharm": {
     "name": "#%% md\n"
    }
   },
   "source": [
    "## Configure the pipeline"
   ]
  },
  {
   "cell_type": "code",
   "execution_count": 5,
   "metadata": {
    "collapsed": false,
    "pycharm": {
     "name": "#%%\n"
    },
    "ExecuteTime": {
     "end_time": "2023-06-09T21:34:04.111125514Z",
     "start_time": "2023-06-09T21:34:03.933434383Z"
    }
   },
   "outputs": [],
   "source": [
    "from SBART.utils.units import meter_second\n",
    "rv_method = \"classical\" # Either classical or Laplace\n",
    "\n",
    "# Define the step that will be used for numerical calculations near max/min points\n",
    "RVstep = 0.1 * meter_second\n",
    "\n",
    "# Define the window, around the CCF RV, inside which the models can search for the optimal RV\n",
    "RV_limits = [200*meter_second, 200*meter_second]\n",
    "\n",
    "\n",
    "# List with orders to \"throw\" away\n",
    "orders_to_skip = []\n",
    "\n",
    "# Number of cores to use\n",
    "N_cores = 10\n"
   ]
  },
  {
   "attachments": {},
   "cell_type": "markdown",
   "metadata": {
    "collapsed": false,
    "pycharm": {
     "name": "#%% md\n"
    }
   },
   "source": [
    "### Configure the different settings of SBART"
   ]
  },
  {
   "cell_type": "code",
   "execution_count": 6,
   "metadata": {
    "collapsed": false,
    "pycharm": {
     "name": "#%%\n"
    },
    "ExecuteTime": {
     "end_time": "2023-06-09T21:34:04.141614770Z",
     "start_time": "2023-06-09T21:34:03.950179348Z"
    }
   },
   "outputs": [],
   "source": [
    "# For the S2D loading stage\n",
    "inst_options = {}\n",
    "\n",
    "# For the creation of the Telluric Model (i.e. the \"template generator\")\n",
    "telluric_model_configs = {\"CREATION_MODE\": \"telfit\"\n",
    "                          }\n",
    "\n",
    "# For the creation of the individual Telluric templates\n",
    "telluric_template_genesis_configs = {}\n",
    "\n",
    "\n",
    "# For the creation of the Stellar Model (i.e. the \"template generator\")\n",
    "\n",
    "stellar_model_configs = {}\n",
    "\n",
    "# For the creation of the individual Stellar templates\n",
    "stellar_template_genesis_configs = {\"MINIMUM_NUMBER_OBS\": 2\n",
    "                                    }\n",
    "\n",
    "\n",
    "confsRV = {\"MEMORY_SAVE_MODE\": True}\n",
    "\n",
    "\n"
   ]
  },
  {
   "attachments": {},
   "cell_type": "markdown",
   "metadata": {
    "collapsed": false,
    "pycharm": {
     "name": "#%% md\n"
    }
   },
   "source": [
    "## Setting up the library\n",
    "\n",
    "By default, SBART's logger is disabled and it will not:\n",
    "\n",
    "- print information to the terminal\n",
    "- store a log file to disk\n",
    "\n",
    "To do so, we must enable the logging interface:"
   ]
  },
  {
   "cell_type": "code",
   "execution_count": 7,
   "metadata": {
    "collapsed": false,
    "pycharm": {
     "name": "#%%\n"
    },
    "ExecuteTime": {
     "end_time": "2023-06-09T21:37:40.058195359Z",
     "start_time": "2023-06-09T21:37:40.026550238Z"
    }
   },
   "outputs": [
    {
     "name": "stdout",
     "output_type": "stream",
     "text": [
      "2023-06-09T22:37:40 - \u001B[36mSBART.outside_tools.create_logger\u001B[0m - \u001B[38;2;241;196;15mWARNING\u001B[0m - Currently disabled the multi-folder logger structure\n"
     ]
    }
   ],
   "source": [
    "from SBART.outside_tools.create_logger import setup_SBART_logger\n",
    "\n",
    "setup_SBART_logger(\n",
    "    storage_path=storage_path / \"logs\",\n",
    "    RV_method=rv_method,\n",
    "    instrument=instrument,\n",
    "    log_to_terminal=True,  # Set to True if you want to have logs showing on the terminal,\n",
    "    write_to_file=True\n",
    ")"
   ]
  },
  {
   "attachments": {},
   "cell_type": "markdown",
   "metadata": {
    "collapsed": false,
    "pycharm": {
     "name": "#%% md\n"
    }
   },
   "source": [
    "## Loading data\n",
    "\n",
    "We start by \"pointing\" sBART towards a few observations:"
   ]
  },
  {
   "cell_type": "code",
   "execution_count": 8,
   "metadata": {
    "collapsed": false,
    "pycharm": {
     "name": "#%%\n"
    },
    "ExecuteTime": {
     "end_time": "2023-06-09T21:38:37.135219562Z",
     "start_time": "2023-06-09T21:38:36.586039526Z"
    }
   },
   "outputs": [],
   "source": [
    "from SBART.data_objects import DataClassManager\n",
    "\n",
    "manager = DataClassManager()\n",
    "manager.start()\n",
    "\n",
    "data = manager.DataClass(\n",
    "    input_filepath,\n",
    "    storage_path = storage_path,\n",
    "    instrument=instrument,\n",
    "    instrument_options=inst_options,\n",
    ")"
   ]
  },
  {
   "attachments": {},
   "cell_type": "markdown",
   "metadata": {
    "collapsed": false,
    "pycharm": {
     "name": "#%% md\n"
    }
   },
   "source": [
    "## Pre-processing the data\n",
    "\n",
    "Removing activity-sensitive lines"
   ]
  },
  {
   "attachments": {},
   "cell_type": "markdown",
   "metadata": {
    "collapsed": false,
    "pycharm": {
     "name": "#%% md\n"
    }
   },
   "source": []
  },
  {
   "cell_type": "code",
   "execution_count": 9,
   "metadata": {
    "collapsed": false,
    "pycharm": {
     "name": "#%%\n"
    },
    "ExecuteTime": {
     "end_time": "2023-06-09T21:38:57.660286395Z",
     "start_time": "2023-06-09T21:38:57.649161889Z"
    }
   },
   "outputs": [],
   "source": [
    "from SBART.Quality_Control.activity_indicators import Indicators\n",
    "\n",
    "inds = Indicators()\n",
    "data.remove_activity_lines(inds)"
   ]
  },
  {
   "attachments": {},
   "cell_type": "markdown",
   "metadata": {
    "collapsed": false,
    "pycharm": {
     "name": "#%% md\n"
    }
   },
   "source": [
    "## Creating a telluric model to remove those features"
   ]
  },
  {
   "cell_type": "code",
   "execution_count": 10,
   "metadata": {
    "collapsed": false,
    "pycharm": {
     "name": "#%%\n"
    },
    "ExecuteTime": {
     "end_time": "2023-06-09T21:37:47.239058989Z",
     "start_time": "2023-06-09T21:37:44.481749603Z"
    }
   },
   "outputs": [
    {
     "name": "stdout",
     "output_type": "stream",
     "text": [
      "2023-06-09T22:37:44 - \u001B[36mSBART.Base_Models.TemplateFramework\u001B[0m - \u001B[38;2;40;180;99mINFO\u001B[0m - Starting Telluric Model\n",
      "2023-06-09T22:37:44 - \u001B[36mSBART.utils.UserConfigs\u001B[0m - \u001B[38;2;208;211;212mDEBUG\u001B[0m - Generating internal configs of BASE - TemplateFramework\n",
      "2023-06-09T22:37:44 - \u001B[36mSBART.utils.UserConfigs\u001B[0m - \u001B[38;2;208;211;212mDEBUG\u001B[0m - Configuration <CREATION_MODE> taking the value: telfit\n",
      "2023-06-09T22:37:44 - \u001B[36mSBART.utils.UserConfigs\u001B[0m - \u001B[38;2;40;180;99mINFO\u001B[0m - Checking for any parameter that will take default value\n",
      "2023-06-09T22:37:44 - \u001B[36mSBART.utils.UserConfigs\u001B[0m - \u001B[38;2;208;211;212mDEBUG\u001B[0m - Configuration <APPLICATION_MODE> using the default value: removal\n",
      "2023-06-09T22:37:44 - \u001B[36mSBART.utils.UserConfigs\u001B[0m - \u001B[38;2;208;211;212mDEBUG\u001B[0m - Configuration <EXTENSION_MODE> using the default value: lines\n",
      "2023-06-09T22:37:44 - \u001B[36mSBART.template_creation.TelluricModel\u001B[0m - \u001B[38;2;40;180;99mINFO\u001B[0m - Starting Telluric Model\n",
      "2023-06-09T22:37:44 - \u001B[36mSBART.Base_Models.TemplateFramework\u001B[0m - \u001B[38;2;208;211;212mDEBUG\u001B[0m - Starting the creation of Telluric models!\n",
      "2023-06-09T22:37:44 - \u001B[36mSBART.Base_Models.TemplateFramework\u001B[0m - \u001B[38;2;40;180;99mINFO\u001B[0m - Attempting to load previous Templates from disk before creating them\n",
      "2023-06-09T22:37:44 - \u001B[36mSBART.Base_Models.TemplateFramework\u001B[0m - \u001B[38;2;208;211;212mDEBUG\u001B[0m - Searching in : /home/amiguel/phd/tools/sBART_private/tests/documentation_outputs/templates/Telluric for telfit\n",
      "2023-06-09T22:37:44 - \u001B[36mSBART.template_creation.TelluricModel\u001B[0m - \u001B[38;2;40;180;99mINFO\u001B[0m - Loading Telluric template from disk inside directory\n",
      "2023-06-09T22:37:44 - \u001B[36mSBART.template_creation.TelluricModel\u001B[0m - \u001B[38;2;40;180;99mINFO\u001B[0m - \t/home/amiguel/phd/tools/sBART_private/tests/documentation_outputs/templates/Telluric\n",
      "2023-06-09T22:37:44 - \u001B[36mSBART.template_creation.TelluricModel\u001B[0m - \u001B[38;2;40;180;99mINFO\u001B[0m - Found 1 available templates: ['Telfit_lines_Telluric_ESPRESSO18.fits'] of type Telfit\n",
      "2023-06-09T22:37:44 - \u001B[36mSBART.utils.UserConfigs\u001B[0m - \u001B[38;2;208;211;212mDEBUG\u001B[0m - Generating internal configs of Telfit-Telluric from ESPRESSO18\n",
      "2023-06-09T22:37:44 - \u001B[36mSBART.utils.UserConfigs\u001B[0m - \u001B[38;2;208;211;212mDEBUG\u001B[0m - Configuration <continuum_percentage_drop> taking the value: 1\n",
      "2023-06-09T22:37:44 - \u001B[36mSBART.utils.UserConfigs\u001B[0m - \u001B[38;2;208;211;212mDEBUG\u001B[0m - Configuration <force_download> taking the value: False\n",
      "2023-06-09T22:37:44 - \u001B[36mSBART.utils.UserConfigs\u001B[0m - \u001B[38;2;208;211;212mDEBUG\u001B[0m - Configuration <atmosphere_profile> taking the value: download\n",
      "2023-06-09T22:37:44 - \u001B[36mSBART.utils.UserConfigs\u001B[0m - \u001B[38;2;241;196;15mWARNING\u001B[0m - Telfit-Telluric from ESPRESSO18 received a configuration flag that is not recognized: download_path\n",
      "2023-06-09T22:37:44 - \u001B[36mSBART.utils.UserConfigs\u001B[0m - \u001B[38;2;40;180;99mINFO\u001B[0m - Checking for any parameter that will take default value\n",
      "2023-06-09T22:37:44 - \u001B[36mSBART.utils.UserConfigs\u001B[0m - \u001B[38;2;208;211;212mDEBUG\u001B[0m - Configuration <FIT_MODEL> using the default value: False\n",
      "2023-06-09T22:37:44 - \u001B[36mSBART.utils.UserConfigs\u001B[0m - \u001B[38;2;208;211;212mDEBUG\u001B[0m - Configuration <TELFIT_HUMIDITY_THRESHOLD> using the default value: -1\n",
      "2023-06-09T22:37:44 - \u001B[36mSBART.utils.UserConfigs\u001B[0m - \u001B[38;2;208;211;212mDEBUG\u001B[0m - Configuration <FIT_WAVELENGTH_STEP_SIZE> using the default value: 0.001\n",
      "2023-06-09T22:37:44 - \u001B[36mSBART.utils.UserConfigs\u001B[0m - \u001B[38;2;208;211;212mDEBUG\u001B[0m - Configuration <PARAMS_TO_FIT> using the default value: ['pressure', 'humidity']\n",
      "2023-06-09T22:37:44 - \u001B[36mSBART.Components.SpectrumComponent\u001B[0m - \u001B[38;2;241;196;15mWARNING\u001B[0m - Resetting order status of Telfit-Telluric from ESPRESSO18\n",
      "2023-06-09T22:37:44 - \u001B[36mSBART.Base_Models.Template_Model\u001B[0m - \u001B[38;2;40;180;99mINFO\u001B[0m - Loading Telluric template from disk file:\n",
      "2023-06-09T22:37:44 - \u001B[36mSBART.Base_Models.Template_Model\u001B[0m - \u001B[38;2;40;180;99mINFO\u001B[0m - \tTelfit_lines_Telluric_ESPRESSO18.fits\n",
      "2023-06-09T22:37:44 - \u001B[36mSBART.Base_Models.TemplateFramework\u001B[0m - \u001B[38;2;208;211;212mDEBUG\u001B[0m - Template from ESPRESSO18 has already been loaded.\n",
      "2023-06-09T22:37:44 - \u001B[36mSBART.template_creation.TelluricModel\u001B[0m - \u001B[38;2;40;180;99mINFO\u001B[0m - Using template of type: telfit\n",
      "2023-06-09T22:37:44 - \u001B[36mSBART.utils.UserConfigs\u001B[0m - \u001B[38;2;208;211;212mDEBUG\u001B[0m - Generating internal configs of Telfit-Telluric from ESPRESSO19\n",
      "2023-06-09T22:37:44 - \u001B[36mSBART.utils.UserConfigs\u001B[0m - \u001B[38;2;40;180;99mINFO\u001B[0m - Checking for any parameter that will take default value\n",
      "2023-06-09T22:37:44 - \u001B[36mSBART.utils.UserConfigs\u001B[0m - \u001B[38;2;208;211;212mDEBUG\u001B[0m - Configuration <continuum_percentage_drop> using the default value: 1\n",
      "2023-06-09T22:37:44 - \u001B[36mSBART.utils.UserConfigs\u001B[0m - \u001B[38;2;208;211;212mDEBUG\u001B[0m - Configuration <force_download> using the default value: False\n",
      "2023-06-09T22:37:44 - \u001B[36mSBART.utils.UserConfigs\u001B[0m - \u001B[38;2;208;211;212mDEBUG\u001B[0m - Configuration <atmosphere_profile> using the default value: download\n",
      "2023-06-09T22:37:44 - \u001B[36mSBART.utils.UserConfigs\u001B[0m - \u001B[38;2;208;211;212mDEBUG\u001B[0m - Configuration <FIT_MODEL> using the default value: False\n",
      "2023-06-09T22:37:44 - \u001B[36mSBART.utils.UserConfigs\u001B[0m - \u001B[38;2;208;211;212mDEBUG\u001B[0m - Configuration <TELFIT_HUMIDITY_THRESHOLD> using the default value: -1\n",
      "2023-06-09T22:37:44 - \u001B[36mSBART.utils.UserConfigs\u001B[0m - \u001B[38;2;208;211;212mDEBUG\u001B[0m - Configuration <FIT_WAVELENGTH_STEP_SIZE> using the default value: 0.001\n",
      "2023-06-09T22:37:44 - \u001B[36mSBART.utils.UserConfigs\u001B[0m - \u001B[38;2;208;211;212mDEBUG\u001B[0m - Configuration <PARAMS_TO_FIT> using the default value: ['pressure', 'humidity']\n",
      "2023-06-09T22:37:44 - \u001B[36mSBART.Components.SpectrumComponent\u001B[0m - \u001B[38;2;241;196;15mWARNING\u001B[0m - Resetting order status of Telfit-Telluric from ESPRESSO19\n",
      "2023-06-09T22:37:44 - \u001B[36mSBART.template_creation.telluric_templates.Telluric_Template\u001B[0m - \u001B[38;2;208;211;212mDEBUG\u001B[0m - Template Telfit-Telluric from ESPRESSO19 loading data from the dataClass\n",
      "2023-06-09T22:37:44 - \u001B[36mSBART.template_creation.telluric_templates.Telluric_Template\u001B[0m - \u001B[38;2;241;196;15mWARNING\u001B[0m - ESPRESSO19 has no valid observations. Not computing telluric template\n",
      "2023-06-09T22:37:44 - \u001B[36mSBART.template_creation.telluric_templates.Telluric_Template\u001B[0m - \u001B[38;2;40;180;99mINFO\u001B[0m - Starting creation of Telluric template from ESPRESSO19\n",
      "2023-06-09T22:37:44 - \u001B[36mSBART.template_creation.telluric_templates.Telluric_Template\u001B[0m - \u001B[38;2;241;196;15mWARNING\u001B[0m - ESPRESSO19 has no valid observations. Not computing telluric template\n",
      "2023-06-09T22:37:44 - \u001B[36mSBART.Base_Models.Template_Model\u001B[0m - \u001B[38;2;241;196;15mWARNING\u001B[0m - Template will not be created. Check previous error messages\n",
      "2023-06-09T22:37:44 - \u001B[36mSBART.template_creation.TelluricModel\u001B[0m - \u001B[38;2;40;180;99mINFO\u001B[0m - Using template of type: telfit\n",
      "2023-06-09T22:37:44 - \u001B[36mSBART.utils.UserConfigs\u001B[0m - \u001B[38;2;208;211;212mDEBUG\u001B[0m - Generating internal configs of Telfit-Telluric from ESPRESSO21\n",
      "2023-06-09T22:37:44 - \u001B[36mSBART.utils.UserConfigs\u001B[0m - \u001B[38;2;40;180;99mINFO\u001B[0m - Checking for any parameter that will take default value\n",
      "2023-06-09T22:37:44 - \u001B[36mSBART.utils.UserConfigs\u001B[0m - \u001B[38;2;208;211;212mDEBUG\u001B[0m - Configuration <continuum_percentage_drop> using the default value: 1\n",
      "2023-06-09T22:37:44 - \u001B[36mSBART.utils.UserConfigs\u001B[0m - \u001B[38;2;208;211;212mDEBUG\u001B[0m - Configuration <force_download> using the default value: False\n",
      "2023-06-09T22:37:44 - \u001B[36mSBART.utils.UserConfigs\u001B[0m - \u001B[38;2;208;211;212mDEBUG\u001B[0m - Configuration <atmosphere_profile> using the default value: download\n",
      "2023-06-09T22:37:44 - \u001B[36mSBART.utils.UserConfigs\u001B[0m - \u001B[38;2;208;211;212mDEBUG\u001B[0m - Configuration <FIT_MODEL> using the default value: False\n",
      "2023-06-09T22:37:44 - \u001B[36mSBART.utils.UserConfigs\u001B[0m - \u001B[38;2;208;211;212mDEBUG\u001B[0m - Configuration <TELFIT_HUMIDITY_THRESHOLD> using the default value: -1\n",
      "2023-06-09T22:37:44 - \u001B[36mSBART.utils.UserConfigs\u001B[0m - \u001B[38;2;208;211;212mDEBUG\u001B[0m - Configuration <FIT_WAVELENGTH_STEP_SIZE> using the default value: 0.001\n",
      "2023-06-09T22:37:44 - \u001B[36mSBART.utils.UserConfigs\u001B[0m - \u001B[38;2;208;211;212mDEBUG\u001B[0m - Configuration <PARAMS_TO_FIT> using the default value: ['pressure', 'humidity']\n",
      "2023-06-09T22:37:44 - \u001B[36mSBART.Components.SpectrumComponent\u001B[0m - \u001B[38;2;241;196;15mWARNING\u001B[0m - Resetting order status of Telfit-Telluric from ESPRESSO21\n",
      "2023-06-09T22:37:44 - \u001B[36mSBART.template_creation.telluric_templates.Telluric_Template\u001B[0m - \u001B[38;2;208;211;212mDEBUG\u001B[0m - Template Telfit-Telluric from ESPRESSO21 loading data from the dataClass\n",
      "2023-06-09T22:37:44 - \u001B[36mSBART.template_creation.telluric_templates.Telluric_Template\u001B[0m - \u001B[38;2;241;196;15mWARNING\u001B[0m - ESPRESSO21 has no valid observations. Not computing telluric template\n",
      "2023-06-09T22:37:44 - \u001B[36mSBART.template_creation.telluric_templates.Telluric_Template\u001B[0m - \u001B[38;2;40;180;99mINFO\u001B[0m - Starting creation of Telluric template from ESPRESSO21\n",
      "2023-06-09T22:37:44 - \u001B[36mSBART.template_creation.telluric_templates.Telluric_Template\u001B[0m - \u001B[38;2;241;196;15mWARNING\u001B[0m - ESPRESSO21 has no valid observations. Not computing telluric template\n",
      "2023-06-09T22:37:44 - \u001B[36mSBART.Base_Models.Template_Model\u001B[0m - \u001B[38;2;241;196;15mWARNING\u001B[0m - Template will not be created. Check previous error messages\n",
      "2023-06-09T22:37:44 - \u001B[36mSBART.Base_Models.TemplateFramework\u001B[0m - \u001B[38;2;40;180;99mINFO\u001B[0m - Storing templates from <Telluric> under the directory\n",
      "2023-06-09T22:37:44 - \u001B[36mSBART.Base_Models.TemplateFramework\u001B[0m - \u001B[38;2;40;180;99mINFO\u001B[0m - \t/home/amiguel/phd/tools/sBART_private/tests/documentation_outputs/templates/Telluric\n",
      "2023-06-09T22:37:44 - \u001B[36mSBART.Base_Models.Template_Model\u001B[0m - \u001B[38;2;208;211;212mDEBUG\u001B[0m - Loaded Telluric template will not be saved to disk\n",
      "2023-06-09T22:37:44 - \u001B[36mSBART.Base_Models.Template_Model\u001B[0m - \u001B[38;2;40;180;99mINFO\u001B[0m - The template was not created. Storing nothing to disk\n",
      "2023-06-09T22:37:44 - \u001B[36mSBART.Base_Models.Template_Model\u001B[0m - \u001B[38;2;40;180;99mINFO\u001B[0m - The template was not created. Storing nothing to disk\n"
     ]
    }
   ],
   "source": [
    "from SBART.template_creation.TelluricModel import TelluricModel\n",
    "\n",
    "ModelTell = TelluricModel(\n",
    "    usage_mode=\"individual\",\n",
    "    user_configs=telluric_model_configs,\n",
    "    root_folder_path=storage_path,\n",
    ")\n",
    "\n",
    "ModelTell.Generate_Model(\n",
    "    dataClass=data,\n",
    "    telluric_configs=telluric_template_genesis_configs,\n",
    "    force_computation=False,\n",
    "    store_templates=True,\n",
    ")\n",
    "data.remove_telluric_features(ModelTell)"
   ]
  },
  {
   "attachments": {},
   "cell_type": "markdown",
   "metadata": {
    "collapsed": false,
    "pycharm": {
     "name": "#%% md\n"
    }
   },
   "source": [
    "## Creating the stellar templates\n"
   ]
  },
  {
   "cell_type": "code",
   "execution_count": 11,
   "metadata": {
    "collapsed": false,
    "pycharm": {
     "name": "#%%\n"
    },
    "ExecuteTime": {
     "end_time": "2023-06-09T21:38:10.047642486Z",
     "start_time": "2023-06-09T21:38:09.968641575Z"
    }
   },
   "outputs": [
    {
     "name": "stdout",
     "output_type": "stream",
     "text": [
      "2023-06-09T22:38:09 - \u001B[36mSBART.Base_Models.TemplateFramework\u001B[0m - \u001B[38;2;40;180;99mINFO\u001B[0m - Starting Stellar Model\n",
      "2023-06-09T22:38:09 - \u001B[36mSBART.utils.UserConfigs\u001B[0m - \u001B[38;2;208;211;212mDEBUG\u001B[0m - Generating internal configs of SpectralModel - Stellar\n",
      "2023-06-09T22:38:09 - \u001B[36mSBART.utils.UserConfigs\u001B[0m - \u001B[38;2;40;180;99mINFO\u001B[0m - Checking for any parameter that will take default value\n",
      "2023-06-09T22:38:09 - \u001B[36mSBART.utils.UserConfigs\u001B[0m - \u001B[38;2;208;211;212mDEBUG\u001B[0m - Configuration <CREATION_MODE> using the default value: Sum\n",
      "2023-06-09T22:38:09 - \u001B[36mSBART.utils.UserConfigs\u001B[0m - \u001B[38;2;208;211;212mDEBUG\u001B[0m - Configuration <ALIGNEMENT_RV_SOURCE> using the default value: DRS\n",
      "2023-06-09T22:38:09 - \u001B[36mSBART.utils.UserConfigs\u001B[0m - \u001B[38;2;208;211;212mDEBUG\u001B[0m - Configuration <PREVIOUS_SBART_PATH> using the default value: \n",
      "2023-06-09T22:38:09 - \u001B[36mSBART.utils.UserConfigs\u001B[0m - \u001B[38;2;208;211;212mDEBUG\u001B[0m - Configuration <USE_MERGED_RVS> using the default value: False\n"
     ]
    }
   ],
   "source": [
    "from SBART.template_creation.StellarModel import StellarModel\n",
    "\n",
    "ModelStell = StellarModel(user_configs=stellar_model_configs,\n",
    "                          root_folder_path=storage_path\n",
    "                          )"
   ]
  },
  {
   "attachments": {},
   "cell_type": "markdown",
   "metadata": {
    "collapsed": false,
    "pycharm": {
     "name": "#%% md\n"
    }
   },
   "source": [
    "\n",
    "When creating the stellar templates we can also reject, temporarily, some observations. They will **not** be used to create\n",
    "the stellar template, but they will still be used during the RV extraction."
   ]
  },
  {
   "cell_type": "code",
   "execution_count": 12,
   "metadata": {
    "collapsed": false,
    "pycharm": {
     "name": "#%%\n"
    },
    "ExecuteTime": {
     "end_time": "2023-06-09T21:38:12.092705929Z",
     "start_time": "2023-06-09T21:38:11.761993423Z"
    }
   },
   "outputs": [
    {
     "name": "stdout",
     "output_type": "stream",
     "text": [
      "2023-06-09T22:38:11 - \u001B[36mSBART.template_creation.StellarModel\u001B[0m - \u001B[38;2;40;180;99mINFO\u001B[0m - Applying conditions to creation of stellar template\n",
      "2023-06-09T22:38:11 - \u001B[36mSBART.template_creation.StellarModel\u001B[0m - \u001B[38;2;40;180;99mINFO\u001B[0m - Using CCF RVs as the basis for the creation of the stellar models\n",
      "2023-06-09T22:38:11 - \u001B[36mSBART.Base_Models.TemplateFramework\u001B[0m - \u001B[38;2;208;211;212mDEBUG\u001B[0m - Starting the creation of Stellar models!\n",
      "2023-06-09T22:38:11 - \u001B[36mSBART.Base_Models.TemplateFramework\u001B[0m - \u001B[38;2;40;180;99mINFO\u001B[0m - Attempting to load previous Templates from disk before creating them\n",
      "2023-06-09T22:38:11 - \u001B[36mSBART.Base_Models.TemplateFramework\u001B[0m - \u001B[38;2;208;211;212mDEBUG\u001B[0m - Searching in : /home/amiguel/phd/tools/sBART_private/tests/documentation_outputs/templates/Stellar/Iteration_0 for Sum\n",
      "2023-06-09T22:38:11 - \u001B[36mSBART.Base_Models.TemplateFramework\u001B[0m - \u001B[38;2;40;180;99mINFO\u001B[0m - Loading Stellar template of type Sum from disk inside directory\n",
      "2023-06-09T22:38:11 - \u001B[36mSBART.Base_Models.TemplateFramework\u001B[0m - \u001B[38;2;40;180;99mINFO\u001B[0m - \t/home/amiguel/phd/tools/sBART_private/tests/documentation_outputs/templates/Stellar/Iteration_0\n",
      "2023-06-09T22:38:11 - \u001B[36mSBART.Base_Models.TemplateFramework\u001B[0m - \u001B[38;2;40;180;99mINFO\u001B[0m - Found 0 available templates: [] of type Sum\n",
      "2023-06-09T22:38:11 - \u001B[36mSBART.Base_Models.TemplateFramework\u001B[0m - \u001B[38;2;241;196;15mWARNING\u001B[0m - Could not find template to load in /home/amiguel/phd/tools/sBART_private/tests/documentation_outputs/templates/Stellar/Iteration_0\n",
      "2023-06-09T22:38:11 - \u001B[36mSBART.Base_Models.TemplateFramework\u001B[0m - \u001B[38;2;40;180;99mINFO\u001B[0m - No templates to load from disk. Creating all from scratch\n",
      "2023-06-09T22:38:11 - \u001B[36mSBART.template_creation.StellarModel\u001B[0m - \u001B[38;2;241;196;15mWARNING\u001B[0m - Key <ALIGNEMENT_RV_SOURCE> from Stellar Model over-riding the one from the template configs\n",
      "2023-06-09T22:38:11 - \u001B[36mSBART.utils.UserConfigs\u001B[0m - \u001B[38;2;208;211;212mDEBUG\u001B[0m - Generating internal configs of Sum-Stellar from ESPRESSO18\n",
      "2023-06-09T22:38:11 - \u001B[36mSBART.utils.UserConfigs\u001B[0m - \u001B[38;2;208;211;212mDEBUG\u001B[0m - Configuration <MINIMUM_NUMBER_OBS> taking the value: 2\n",
      "2023-06-09T22:38:11 - \u001B[36mSBART.utils.UserConfigs\u001B[0m - \u001B[38;2;208;211;212mDEBUG\u001B[0m - Configuration <ALIGNEMENT_RV_SOURCE> taking the value: DRS\n",
      "2023-06-09T22:38:11 - \u001B[36mSBART.utils.UserConfigs\u001B[0m - \u001B[38;2;40;180;99mINFO\u001B[0m - Checking for any parameter that will take default value\n",
      "2023-06-09T22:38:11 - \u001B[36mSBART.utils.UserConfigs\u001B[0m - \u001B[38;2;208;211;212mDEBUG\u001B[0m - Configuration <NUMBER_WORKERS> using the default value: 1\n",
      "2023-06-09T22:38:11 - \u001B[36mSBART.utils.UserConfigs\u001B[0m - \u001B[38;2;208;211;212mDEBUG\u001B[0m - Configuration <MEMORY_SAVE_MODE> using the default value: False\n",
      "2023-06-09T22:38:11 - \u001B[36mSBART.utils.UserConfigs\u001B[0m - \u001B[38;2;208;211;212mDEBUG\u001B[0m - Configuration <INTERPOL_MODE> using the default value: splines\n",
      "2023-06-09T22:38:11 - \u001B[36mSBART.utils.UserConfigs\u001B[0m - \u001B[38;2;208;211;212mDEBUG\u001B[0m - Configuration <SPLINE_TYPE> using the default value: cubic\n",
      "2023-06-09T22:38:11 - \u001B[36mSBART.utils.UserConfigs\u001B[0m - \u001B[38;2;208;211;212mDEBUG\u001B[0m - Configuration <INTERPOLATION_ERR_PROP> using the default value: interpolation\n",
      "2023-06-09T22:38:11 - \u001B[36mSBART.Components.SpectrumComponent\u001B[0m - \u001B[38;2;241;196;15mWARNING\u001B[0m - Resetting order status of Sum-Stellar from ESPRESSO18\n",
      "2023-06-09T22:38:11 - \u001B[36mSBART.template_creation.stellar_templates.Stellar_Template\u001B[0m - \u001B[38;2;40;180;99mINFO\u001B[0m - Starting creation of Stellar template from ESPRESSO18\n",
      "2023-06-09T22:38:11 - \u001B[36mSBART.template_creation.stellar_templates.Stellar_Template\u001B[0m - \u001B[38;2;40;180;99mINFO\u001B[0m - Evaluating spectral conditions to select the valid observations from ESPRESSO18\n",
      "2023-06-09T22:38:11 - \u001B[36mSBART.template_creation.stellar_templates.sum_stellar\u001B[0m - \u001B[38;2;231;76;60mCRITICAL\u001B[0m - Stellar template creation failed due to: 'NoneType' object has no attribute 'get_custom_mask'\n",
      "\u001B[33m\u001B[1mTraceback (most recent call last):\u001B[0m\n",
      "\n",
      "  File \"/usr/lib/python3.8/runpy.py\", line 194, in _run_module_as_main\n",
      "    return _run_code(code, main_globals, None,\n",
      "           │         │     └ {'__name__': '__main__', '__doc__': 'Entry point for launching an IPython kernel.\\n\\nThis is separate from the ipykernel pack...\n",
      "           │         └ <code object <module> at 0x7fbfdb3c49d0, file \"/home/amiguel/.virtualenvs/sbart-xwoIdkmx-py3.8/lib/python3.8/site-packages/ip...\n",
      "           └ <function _run_code at 0x7fbfdb35f430>\n",
      "  File \"/usr/lib/python3.8/runpy.py\", line 87, in _run_code\n",
      "    exec(code, run_globals)\n",
      "         │     └ {'__name__': '__main__', '__doc__': 'Entry point for launching an IPython kernel.\\n\\nThis is separate from the ipykernel pack...\n",
      "         └ <code object <module> at 0x7fbfdb3c49d0, file \"/home/amiguel/.virtualenvs/sbart-xwoIdkmx-py3.8/lib/python3.8/site-packages/ip...\n",
      "  File \"/home/amiguel/.virtualenvs/sbart-xwoIdkmx-py3.8/lib/python3.8/site-packages/ipykernel_launcher.py\", line 17, in <module>\n",
      "    app.launch_new_instance()\n",
      "    │   └ <bound method Application.launch_instance of <class 'ipykernel.kernelapp.IPKernelApp'>>\n",
      "    └ <module 'ipykernel.kernelapp' from '/home/amiguel/.virtualenvs/sbart-xwoIdkmx-py3.8/lib/python3.8/site-packages/ipykernel/ker...\n",
      "  File \"/home/amiguel/.virtualenvs/sbart-xwoIdkmx-py3.8/lib/python3.8/site-packages/traitlets/config/application.py\", line 978, in launch_instance\n",
      "    app.start()\n",
      "    │   └ <function IPKernelApp.start at 0x7fbfd49f33a0>\n",
      "    └ <ipykernel.kernelapp.IPKernelApp object at 0x7fbfdb4716a0>\n",
      "  File \"/home/amiguel/.virtualenvs/sbart-xwoIdkmx-py3.8/lib/python3.8/site-packages/ipykernel/kernelapp.py\", line 712, in start\n",
      "    self.io_loop.start()\n",
      "    │    │       └ <function BaseAsyncIOLoop.start at 0x7fbfd750b0d0>\n",
      "    │    └ <tornado.platform.asyncio.AsyncIOMainLoop object at 0x7fbfd49e7e80>\n",
      "    └ <ipykernel.kernelapp.IPKernelApp object at 0x7fbfdb4716a0>\n",
      "  File \"/home/amiguel/.virtualenvs/sbart-xwoIdkmx-py3.8/lib/python3.8/site-packages/tornado/platform/asyncio.py\", line 215, in start\n",
      "    self.asyncio_loop.run_forever()\n",
      "    │    │            └ <function BaseEventLoop.run_forever at 0x7fbfda1fd9d0>\n",
      "    │    └ <_UnixSelectorEventLoop running=True closed=False debug=False>\n",
      "    └ <tornado.platform.asyncio.AsyncIOMainLoop object at 0x7fbfd49e7e80>\n",
      "  File \"/usr/lib/python3.8/asyncio/base_events.py\", line 570, in run_forever\n",
      "    self._run_once()\n",
      "    │    └ <function BaseEventLoop._run_once at 0x7fbfda200550>\n",
      "    └ <_UnixSelectorEventLoop running=True closed=False debug=False>\n",
      "  File \"/usr/lib/python3.8/asyncio/base_events.py\", line 1859, in _run_once\n",
      "    handle._run()\n",
      "    │      └ <function Handle._run at 0x7fbfda6c1310>\n",
      "    └ <Handle <TaskWakeupMethWrapper object at 0x7fbf8eade940>(<Future finis...7d0>, ...],))>)>\n",
      "  File \"/usr/lib/python3.8/asyncio/events.py\", line 81, in _run\n",
      "    self._context.run(self._callback, *self._args)\n",
      "    │    │            │    │           │    └ <member '_args' of 'Handle' objects>\n",
      "    │    │            │    │           └ <Handle <TaskWakeupMethWrapper object at 0x7fbf8eade940>(<Future finis...7d0>, ...],))>)>\n",
      "    │    │            │    └ <member '_callback' of 'Handle' objects>\n",
      "    │    │            └ <Handle <TaskWakeupMethWrapper object at 0x7fbf8eade940>(<Future finis...7d0>, ...],))>)>\n",
      "    │    └ <member '_context' of 'Handle' objects>\n",
      "    └ <Handle <TaskWakeupMethWrapper object at 0x7fbf8eade940>(<Future finis...7d0>, ...],))>)>\n",
      "  File \"/home/amiguel/.virtualenvs/sbart-xwoIdkmx-py3.8/lib/python3.8/site-packages/ipykernel/kernelbase.py\", line 508, in dispatch_queue\n",
      "    await self.process_one()\n",
      "          │    └ <function Kernel.process_one at 0x7fbfd5570820>\n",
      "          └ <ipykernel.ipkernel.IPythonKernel object at 0x7fbfd49c42e0>\n",
      "  File \"/home/amiguel/.virtualenvs/sbart-xwoIdkmx-py3.8/lib/python3.8/site-packages/ipykernel/kernelbase.py\", line 497, in process_one\n",
      "    await dispatch(*args)\n",
      "          │         └ ([<zmq.sugar.frame.Frame object at 0x7fbfd00ffd50>, <zmq.sugar.frame.Frame object at 0x7fbfd00ffe00>, <zmq.sugar.frame.Frame ...\n",
      "          └ <bound method Kernel.dispatch_shell of <ipykernel.ipkernel.IPythonKernel object at 0x7fbfd49c42e0>>\n",
      "  File \"/home/amiguel/.virtualenvs/sbart-xwoIdkmx-py3.8/lib/python3.8/site-packages/ipykernel/kernelbase.py\", line 404, in dispatch_shell\n",
      "    await result\n",
      "          └ <coroutine object Kernel.execute_request at 0x7fbf8eabe8c0>\n",
      "  File \"/home/amiguel/.virtualenvs/sbart-xwoIdkmx-py3.8/lib/python3.8/site-packages/ipykernel/kernelbase.py\", line 728, in execute_request\n",
      "    reply_content = await reply_content\n",
      "                          └ <coroutine object IPythonKernel.do_execute at 0x7fbf8eb37dc0>\n",
      "  File \"/home/amiguel/.virtualenvs/sbart-xwoIdkmx-py3.8/lib/python3.8/site-packages/ipykernel/ipkernel.py\", line 390, in do_execute\n",
      "    res = shell.run_cell(code, store_history=store_history, silent=silent)\n",
      "          │     │        │                   │                     └ False\n",
      "          │     │        │                   └ True\n",
      "          │     │        └ 'from SBART.utils.spectral_conditions import Empty_condition\\n\\nStellarTemplateConditions = Empty_condition()\\n\\nModelStell.G...\n",
      "          │     └ <function ZMQInteractiveShell.run_cell at 0x7fbfd49e6ca0>\n",
      "          └ <ipykernel.zmqshell.ZMQInteractiveShell object at 0x7fbfd49c4850>\n",
      "  File \"/home/amiguel/.virtualenvs/sbart-xwoIdkmx-py3.8/lib/python3.8/site-packages/ipykernel/zmqshell.py\", line 528, in run_cell\n",
      "    return super().run_cell(*args, **kwargs)\n",
      "                             │       └ {'store_history': True, 'silent': False}\n",
      "                             └ ('from SBART.utils.spectral_conditions import Empty_condition\\n\\nStellarTemplateConditions = Empty_condition()\\n\\nModelStell....\n",
      "  File \"/home/amiguel/.virtualenvs/sbart-xwoIdkmx-py3.8/lib/python3.8/site-packages/IPython/core/interactiveshell.py\", line 2863, in run_cell\n",
      "    result = self._run_cell(\n",
      "             │    └ <function InteractiveShell._run_cell at 0x7fbfd604aa60>\n",
      "             └ <ipykernel.zmqshell.ZMQInteractiveShell object at 0x7fbfd49c4850>\n",
      "  File \"/home/amiguel/.virtualenvs/sbart-xwoIdkmx-py3.8/lib/python3.8/site-packages/IPython/core/interactiveshell.py\", line 2909, in _run_cell\n",
      "    return runner(coro)\n",
      "           │      └ <coroutine object InteractiveShell.run_cell_async at 0x7fbf8ead60c0>\n",
      "           └ <function _pseudo_sync_runner at 0x7fbfd63fe4c0>\n",
      "  File \"/home/amiguel/.virtualenvs/sbart-xwoIdkmx-py3.8/lib/python3.8/site-packages/IPython/core/async_helpers.py\", line 129, in _pseudo_sync_runner\n",
      "    coro.send(None)\n",
      "    │    └ <method 'send' of 'coroutine' objects>\n",
      "    └ <coroutine object InteractiveShell.run_cell_async at 0x7fbf8ead60c0>\n",
      "  File \"/home/amiguel/.virtualenvs/sbart-xwoIdkmx-py3.8/lib/python3.8/site-packages/IPython/core/interactiveshell.py\", line 3106, in run_cell_async\n",
      "    has_raised = await self.run_ast_nodes(code_ast.body, cell_name,\n",
      "                       │    │             │        │     └ '/tmp/ipykernel_86644/1335568502.py'\n",
      "                       │    │             │        └ [<_ast.ImportFrom object at 0x7fbf8ea67e20>, <_ast.Assign object at 0x7fbf8ea67040>, <_ast.Expr object at 0x7fbf4469f880>, <_...\n",
      "                       │    │             └ <_ast.Module object at 0x7fbf8ea67730>\n",
      "                       │    └ <function InteractiveShell.run_ast_nodes at 0x7fbfd604adc0>\n",
      "                       └ <ipykernel.zmqshell.ZMQInteractiveShell object at 0x7fbfd49c4850>\n",
      "  File \"/home/amiguel/.virtualenvs/sbart-xwoIdkmx-py3.8/lib/python3.8/site-packages/IPython/core/interactiveshell.py\", line 3309, in run_ast_nodes\n",
      "    if await self.run_code(code, result, async_=asy):\n",
      "             │    │        │     │              └ False\n",
      "             │    │        │     └ <ExecutionResult object at 7fbf8ea67a90, execution_count=25 error_before_exec=None error_in_exec=None info=<ExecutionInfo obj...\n",
      "             │    │        └ <code object <cell line: 5> at 0x7fbf8eac00e0, file \"/tmp/ipykernel_86644/1335568502.py\", line 5>\n",
      "             │    └ <function InteractiveShell.run_code at 0x7fbfd604ae50>\n",
      "             └ <ipykernel.zmqshell.ZMQInteractiveShell object at 0x7fbfd49c4850>\n",
      "  File \"/home/amiguel/.virtualenvs/sbart-xwoIdkmx-py3.8/lib/python3.8/site-packages/IPython/core/interactiveshell.py\", line 3369, in run_code\n",
      "    exec(code_obj, self.user_global_ns, self.user_ns)\n",
      "         │         │    │               │    └ {'__name__': '__main__', '__doc__': 'Automatically created module for IPython interactive environment', '__package__': None, ...\n",
      "         │         │    │               └ <ipykernel.zmqshell.ZMQInteractiveShell object at 0x7fbfd49c4850>\n",
      "         │         │    └ <property object at 0x7fbfd64014a0>\n",
      "         │         └ <ipykernel.zmqshell.ZMQInteractiveShell object at 0x7fbfd49c4850>\n",
      "         └ <code object <cell line: 5> at 0x7fbf8eac00e0, file \"/tmp/ipykernel_86644/1335568502.py\", line 5>\n",
      "\n",
      "  File \"\u001B[32m/tmp/ipykernel_86644/\u001B[0m\u001B[32m\u001B[1m1335568502.py\u001B[0m\", line \u001B[33m5\u001B[0m, in \u001B[35m<cell line: 5>\u001B[0m\n",
      "    \u001B[1mModelStell\u001B[0m\u001B[35m\u001B[1m.\u001B[0m\u001B[1mGenerate_Model\u001B[0m\u001B[1m(\u001B[0m\n",
      "    \u001B[36m│          └ \u001B[0m\u001B[36m\u001B[1m<function StellarModel.Generate_Model at 0x7fbf6c3f5040>\u001B[0m\n",
      "    \u001B[36m└ \u001B[0m\u001B[36m\u001B[1mModel handling: {'ESPRESSO18': None, 'ESPRESSO19': None, 'ESPRESSO21': None}\u001B[0m\n",
      "\n",
      "  File \"\u001B[32m/home/amiguel/phd/tools/sBART_private/SBART/template_creation/\u001B[0m\u001B[32m\u001B[1mStellarModel.py\u001B[0m\", line \u001B[33m162\u001B[0m, in \u001B[35mGenerate_Model\u001B[0m\n",
      "    \u001B[1msuper\u001B[0m\u001B[1m(\u001B[0m\u001B[1m)\u001B[0m\u001B[35m\u001B[1m.\u001B[0m\u001B[1mGenerate_Model\u001B[0m\u001B[1m(\u001B[0m\n",
      "\n",
      "  File \"\u001B[32m/home/amiguel/phd/tools/sBART_private/SBART/Base_Models/\u001B[0m\u001B[32m\u001B[1mTemplateFramework.py\u001B[0m\", line \u001B[33m135\u001B[0m, in \u001B[35mGenerate_Model\u001B[0m\n",
      "    \u001B[1mself\u001B[0m\u001B[35m\u001B[1m.\u001B[0m\u001B[1mtemplates\u001B[0m\u001B[1m[\u001B[0m\u001B[1msubInst\u001B[0m\u001B[1m]\u001B[0m \u001B[35m\u001B[1m=\u001B[0m \u001B[1mself\u001B[0m\u001B[35m\u001B[1m.\u001B[0m\u001B[1m_compute_template\u001B[0m\u001B[1m(\u001B[0m\n",
      "    \u001B[36m│    │         │          │    └ \u001B[0m\u001B[36m\u001B[1m<function StellarModel._compute_template at 0x7fbf6c3f51f0>\u001B[0m\n",
      "    \u001B[36m│    │         │          └ \u001B[0m\u001B[36m\u001B[1mModel handling: {'ESPRESSO18': None, 'ESPRESSO19': None, 'ESPRESSO21': None}\u001B[0m\n",
      "    \u001B[36m│    │         └ \u001B[0m\u001B[36m\u001B[1m'ESPRESSO18'\u001B[0m\n",
      "    \u001B[36m│    └ \u001B[0m\u001B[36m\u001B[1m{'ESPRESSO18': None, 'ESPRESSO19': None, 'ESPRESSO21': None}\u001B[0m\n",
      "    \u001B[36m└ \u001B[0m\u001B[36m\u001B[1mModel handling: {'ESPRESSO18': None, 'ESPRESSO19': None, 'ESPRESSO21': None}\u001B[0m\n",
      "\n",
      "  File \"\u001B[32m/home/amiguel/phd/tools/sBART_private/SBART/template_creation/\u001B[0m\u001B[32m\u001B[1mStellarModel.py\u001B[0m\", line \u001B[33m196\u001B[0m, in \u001B[35m_compute_template\u001B[0m\n",
      "    \u001B[1mstellar_template\u001B[0m\u001B[35m\u001B[1m.\u001B[0m\u001B[1mcreate_stellar_template\u001B[0m\u001B[1m(\u001B[0m\n",
      "    \u001B[36m│                └ \u001B[0m\u001B[36m\u001B[1m<function ensure_invalid_template.<locals>.inner1 at 0x7fbf6dfb7790>\u001B[0m\n",
      "    \u001B[36m└ \u001B[0m\u001B[36m\u001B[1mSum-Stellar from ESPRESSO18\u001B[0m\n",
      "\n",
      "  File \"\u001B[32m/home/amiguel/phd/tools/sBART_private/SBART/utils/\u001B[0m\u001B[32m\u001B[1mcustom_exceptions.py\u001B[0m\", line \u001B[33m94\u001B[0m, in \u001B[35minner1\u001B[0m\n",
      "    \u001B[1mfunc\u001B[0m\u001B[1m(\u001B[0m\u001B[1mself\u001B[0m\u001B[1m,\u001B[0m \u001B[35m\u001B[1m*\u001B[0m\u001B[1margs\u001B[0m\u001B[1m,\u001B[0m \u001B[35m\u001B[1m**\u001B[0m\u001B[1mkwargs\u001B[0m\u001B[1m)\u001B[0m\n",
      "    \u001B[36m│    │      │       └ \u001B[0m\u001B[36m\u001B[1m{'dataClass': <AutoProxy[DataClass] object, typeid 'DataClass' at 0x7fbf8eb12430>, 'conditions': ['No conditions']}\u001B[0m\n",
      "    \u001B[36m│    │      └ \u001B[0m\u001B[36m\u001B[1m()\u001B[0m\n",
      "    \u001B[36m│    └ \u001B[0m\u001B[36m\u001B[1mSum-Stellar from ESPRESSO18\u001B[0m\n",
      "    \u001B[36m└ \u001B[0m\u001B[36m\u001B[1m<function SumStellar.create_stellar_template at 0x7fbf6dfb7700>\u001B[0m\n",
      "\n",
      "> File \"\u001B[32m/home/amiguel/phd/tools/sBART_private/SBART/template_creation/stellar_templates/\u001B[0m\u001B[32m\u001B[1msum_stellar.py\u001B[0m\", line \u001B[33m89\u001B[0m, in \u001B[35mcreate_stellar_template\u001B[0m\n",
      "    \u001B[1mself\u001B[0m\u001B[35m\u001B[1m.\u001B[0m\u001B[1mlaunch_parallel\u001B[0m\u001B[1m(\u001B[0m\u001B[1mdataClass\u001B[0m\u001B[1m)\u001B[0m\n",
      "    \u001B[36m│    │               └ \u001B[0m\u001B[36m\u001B[1m<AutoProxy[DataClass] object, typeid 'DataClass' at 0x7fbf8eb12430>\u001B[0m\n",
      "    \u001B[36m│    └ \u001B[0m\u001B[36m\u001B[1m<function SumStellar.launch_parallel at 0x7fbf6dfb7820>\u001B[0m\n",
      "    \u001B[36m└ \u001B[0m\u001B[36m\u001B[1mSum-Stellar from ESPRESSO18\u001B[0m\n",
      "\n",
      "  File \"\u001B[32m/home/amiguel/phd/tools/sBART_private/SBART/template_creation/stellar_templates/\u001B[0m\u001B[32m\u001B[1msum_stellar.py\u001B[0m\", line \u001B[33m172\u001B[0m, in \u001B[35mlaunch_parallel\u001B[0m\n",
      "    \u001B[1mwave_reference\u001B[0m\u001B[1m,\u001B[0m \u001B[1m_\u001B[0m\u001B[1m,\u001B[0m \u001B[1m_\u001B[0m\u001B[1m,\u001B[0m \u001B[1m_\u001B[0m \u001B[35m\u001B[1m=\u001B[0m \u001B[1mdataClass\u001B[0m\u001B[35m\u001B[1m.\u001B[0m\u001B[1mget_frame_arrays_by_ID\u001B[0m\u001B[1m(\u001B[0m\u001B[1mchosen_epochID\u001B[0m\u001B[1m)\u001B[0m\n",
      "    \u001B[36m                          │         │                      └ \u001B[0m\u001B[36m\u001B[1m0\u001B[0m\n",
      "    \u001B[36m                          │         └ \u001B[0m\u001B[36m\u001B[1m<function get_frame_arrays_by_ID at 0x7fbf8eacb670>\u001B[0m\n",
      "    \u001B[36m                          └ \u001B[0m\u001B[36m\u001B[1m<AutoProxy[DataClass] object, typeid 'DataClass' at 0x7fbf8eb12430>\u001B[0m\n",
      "\n",
      "  File \"<string>\", line 2, in get_frame_arrays_by_ID\n",
      "  File \"/usr/lib/python3.8/multiprocessing/managers.py\", line 850, in _callmethod\n",
      "    raise convert_to_error(kind, result)\n",
      "          │                │     └ AttributeError(\"'NoneType' object has no attribute 'get_custom_mask'\")\n",
      "          │                └ '#ERROR'\n",
      "          └ <function convert_to_error at 0x7fbf6eba14c0>\n",
      "\n",
      "\u001B[31m\u001B[1mAttributeError\u001B[0m:\u001B[1m 'NoneType' object has no attribute 'get_custom_mask'\u001B[0m\n"
     ]
    },
    {
     "name": "stderr",
     "output_type": "stream",
     "text": [
      "2023-06-09T22:38:11 - SBART.template_creation.stellar_templates.sum_stellar - CRITICAL - Stellar template creation failed due to: 'NoneType' object has no attribute 'get_custom_mask'\n",
      "Traceback (most recent call last):\n",
      "\n",
      "  File \"/usr/lib/python3.8/runpy.py\", line 194, in _run_module_as_main\n",
      "    return _run_code(code, main_globals, None,\n",
      "           │         │     └ {'__name__': '__main__', '__doc__': 'Entry point for launching an IPython kernel.\\n\\nThis is separate from the ipykernel pack...\n",
      "           │         └ <code object <module> at 0x7fbfdb3c49d0, file \"/home/amiguel/.virtualenvs/sbart-xwoIdkmx-py3.8/lib/python3.8/site-packages/ip...\n",
      "           └ <function _run_code at 0x7fbfdb35f430>\n",
      "  File \"/usr/lib/python3.8/runpy.py\", line 87, in _run_code\n",
      "    exec(code, run_globals)\n",
      "         │     └ {'__name__': '__main__', '__doc__': 'Entry point for launching an IPython kernel.\\n\\nThis is separate from the ipykernel pack...\n",
      "         └ <code object <module> at 0x7fbfdb3c49d0, file \"/home/amiguel/.virtualenvs/sbart-xwoIdkmx-py3.8/lib/python3.8/site-packages/ip...\n",
      "  File \"/home/amiguel/.virtualenvs/sbart-xwoIdkmx-py3.8/lib/python3.8/site-packages/ipykernel_launcher.py\", line 17, in <module>\n",
      "    app.launch_new_instance()\n",
      "    │   └ <bound method Application.launch_instance of <class 'ipykernel.kernelapp.IPKernelApp'>>\n",
      "    └ <module 'ipykernel.kernelapp' from '/home/amiguel/.virtualenvs/sbart-xwoIdkmx-py3.8/lib/python3.8/site-packages/ipykernel/ker...\n",
      "  File \"/home/amiguel/.virtualenvs/sbart-xwoIdkmx-py3.8/lib/python3.8/site-packages/traitlets/config/application.py\", line 978, in launch_instance\n",
      "    app.start()\n",
      "    │   └ <function IPKernelApp.start at 0x7fbfd49f33a0>\n",
      "    └ <ipykernel.kernelapp.IPKernelApp object at 0x7fbfdb4716a0>\n",
      "  File \"/home/amiguel/.virtualenvs/sbart-xwoIdkmx-py3.8/lib/python3.8/site-packages/ipykernel/kernelapp.py\", line 712, in start\n",
      "    self.io_loop.start()\n",
      "    │    │       └ <function BaseAsyncIOLoop.start at 0x7fbfd750b0d0>\n",
      "    │    └ <tornado.platform.asyncio.AsyncIOMainLoop object at 0x7fbfd49e7e80>\n",
      "    └ <ipykernel.kernelapp.IPKernelApp object at 0x7fbfdb4716a0>\n",
      "  File \"/home/amiguel/.virtualenvs/sbart-xwoIdkmx-py3.8/lib/python3.8/site-packages/tornado/platform/asyncio.py\", line 215, in start\n",
      "    self.asyncio_loop.run_forever()\n",
      "    │    │            └ <function BaseEventLoop.run_forever at 0x7fbfda1fd9d0>\n",
      "    │    └ <_UnixSelectorEventLoop running=True closed=False debug=False>\n",
      "    └ <tornado.platform.asyncio.AsyncIOMainLoop object at 0x7fbfd49e7e80>\n",
      "  File \"/usr/lib/python3.8/asyncio/base_events.py\", line 570, in run_forever\n",
      "    self._run_once()\n",
      "    │    └ <function BaseEventLoop._run_once at 0x7fbfda200550>\n",
      "    └ <_UnixSelectorEventLoop running=True closed=False debug=False>\n",
      "  File \"/usr/lib/python3.8/asyncio/base_events.py\", line 1859, in _run_once\n",
      "    handle._run()\n",
      "    │      └ <function Handle._run at 0x7fbfda6c1310>\n",
      "    └ <Handle <TaskWakeupMethWrapper object at 0x7fbf8eade940>(<Future finis...7d0>, ...],))>)>\n",
      "  File \"/usr/lib/python3.8/asyncio/events.py\", line 81, in _run\n",
      "    self._context.run(self._callback, *self._args)\n",
      "    │    │            │    │           │    └ <member '_args' of 'Handle' objects>\n",
      "    │    │            │    │           └ <Handle <TaskWakeupMethWrapper object at 0x7fbf8eade940>(<Future finis...7d0>, ...],))>)>\n",
      "    │    │            │    └ <member '_callback' of 'Handle' objects>\n",
      "    │    │            └ <Handle <TaskWakeupMethWrapper object at 0x7fbf8eade940>(<Future finis...7d0>, ...],))>)>\n",
      "    │    └ <member '_context' of 'Handle' objects>\n",
      "    └ <Handle <TaskWakeupMethWrapper object at 0x7fbf8eade940>(<Future finis...7d0>, ...],))>)>\n",
      "  File \"/home/amiguel/.virtualenvs/sbart-xwoIdkmx-py3.8/lib/python3.8/site-packages/ipykernel/kernelbase.py\", line 508, in dispatch_queue\n",
      "    await self.process_one()\n",
      "          │    └ <function Kernel.process_one at 0x7fbfd5570820>\n",
      "          └ <ipykernel.ipkernel.IPythonKernel object at 0x7fbfd49c42e0>\n",
      "  File \"/home/amiguel/.virtualenvs/sbart-xwoIdkmx-py3.8/lib/python3.8/site-packages/ipykernel/kernelbase.py\", line 497, in process_one\n",
      "    await dispatch(*args)\n",
      "          │         └ ([<zmq.sugar.frame.Frame object at 0x7fbfd00ffd50>, <zmq.sugar.frame.Frame object at 0x7fbfd00ffe00>, <zmq.sugar.frame.Frame ...\n",
      "          └ <bound method Kernel.dispatch_shell of <ipykernel.ipkernel.IPythonKernel object at 0x7fbfd49c42e0>>\n",
      "  File \"/home/amiguel/.virtualenvs/sbart-xwoIdkmx-py3.8/lib/python3.8/site-packages/ipykernel/kernelbase.py\", line 404, in dispatch_shell\n",
      "    await result\n",
      "          └ <coroutine object Kernel.execute_request at 0x7fbf8eabe8c0>\n",
      "  File \"/home/amiguel/.virtualenvs/sbart-xwoIdkmx-py3.8/lib/python3.8/site-packages/ipykernel/kernelbase.py\", line 728, in execute_request\n",
      "    reply_content = await reply_content\n",
      "                          └ <coroutine object IPythonKernel.do_execute at 0x7fbf8eb37dc0>\n",
      "  File \"/home/amiguel/.virtualenvs/sbart-xwoIdkmx-py3.8/lib/python3.8/site-packages/ipykernel/ipkernel.py\", line 390, in do_execute\n",
      "    res = shell.run_cell(code, store_history=store_history, silent=silent)\n",
      "          │     │        │                   │                     └ False\n",
      "          │     │        │                   └ True\n",
      "          │     │        └ 'from SBART.utils.spectral_conditions import Empty_condition\\n\\nStellarTemplateConditions = Empty_condition()\\n\\nModelStell.G...\n",
      "          │     └ <function ZMQInteractiveShell.run_cell at 0x7fbfd49e6ca0>\n",
      "          └ <ipykernel.zmqshell.ZMQInteractiveShell object at 0x7fbfd49c4850>\n",
      "  File \"/home/amiguel/.virtualenvs/sbart-xwoIdkmx-py3.8/lib/python3.8/site-packages/ipykernel/zmqshell.py\", line 528, in run_cell\n",
      "    return super().run_cell(*args, **kwargs)\n",
      "                             │       └ {'store_history': True, 'silent': False}\n",
      "                             └ ('from SBART.utils.spectral_conditions import Empty_condition\\n\\nStellarTemplateConditions = Empty_condition()\\n\\nModelStell....\n",
      "  File \"/home/amiguel/.virtualenvs/sbart-xwoIdkmx-py3.8/lib/python3.8/site-packages/IPython/core/interactiveshell.py\", line 2863, in run_cell\n",
      "    result = self._run_cell(\n",
      "             │    └ <function InteractiveShell._run_cell at 0x7fbfd604aa60>\n",
      "             └ <ipykernel.zmqshell.ZMQInteractiveShell object at 0x7fbfd49c4850>\n",
      "  File \"/home/amiguel/.virtualenvs/sbart-xwoIdkmx-py3.8/lib/python3.8/site-packages/IPython/core/interactiveshell.py\", line 2909, in _run_cell\n",
      "    return runner(coro)\n",
      "           │      └ <coroutine object InteractiveShell.run_cell_async at 0x7fbf8ead60c0>\n",
      "           └ <function _pseudo_sync_runner at 0x7fbfd63fe4c0>\n",
      "  File \"/home/amiguel/.virtualenvs/sbart-xwoIdkmx-py3.8/lib/python3.8/site-packages/IPython/core/async_helpers.py\", line 129, in _pseudo_sync_runner\n",
      "    coro.send(None)\n",
      "    │    └ <method 'send' of 'coroutine' objects>\n",
      "    └ <coroutine object InteractiveShell.run_cell_async at 0x7fbf8ead60c0>\n",
      "  File \"/home/amiguel/.virtualenvs/sbart-xwoIdkmx-py3.8/lib/python3.8/site-packages/IPython/core/interactiveshell.py\", line 3106, in run_cell_async\n",
      "    has_raised = await self.run_ast_nodes(code_ast.body, cell_name,\n",
      "                       │    │             │        │     └ '/tmp/ipykernel_86644/1335568502.py'\n",
      "                       │    │             │        └ [<_ast.ImportFrom object at 0x7fbf8ea67e20>, <_ast.Assign object at 0x7fbf8ea67040>, <_ast.Expr object at 0x7fbf4469f880>, <_...\n",
      "                       │    │             └ <_ast.Module object at 0x7fbf8ea67730>\n",
      "                       │    └ <function InteractiveShell.run_ast_nodes at 0x7fbfd604adc0>\n",
      "                       └ <ipykernel.zmqshell.ZMQInteractiveShell object at 0x7fbfd49c4850>\n",
      "  File \"/home/amiguel/.virtualenvs/sbart-xwoIdkmx-py3.8/lib/python3.8/site-packages/IPython/core/interactiveshell.py\", line 3309, in run_ast_nodes\n",
      "    if await self.run_code(code, result, async_=asy):\n",
      "             │    │        │     │              └ False\n",
      "             │    │        │     └ <ExecutionResult object at 7fbf8ea67a90, execution_count=25 error_before_exec=None error_in_exec=None info=<ExecutionInfo obj...\n",
      "             │    │        └ <code object <cell line: 5> at 0x7fbf8eac00e0, file \"/tmp/ipykernel_86644/1335568502.py\", line 5>\n",
      "             │    └ <function InteractiveShell.run_code at 0x7fbfd604ae50>\n",
      "             └ <ipykernel.zmqshell.ZMQInteractiveShell object at 0x7fbfd49c4850>\n",
      "  File \"/home/amiguel/.virtualenvs/sbart-xwoIdkmx-py3.8/lib/python3.8/site-packages/IPython/core/interactiveshell.py\", line 3369, in run_code\n",
      "    exec(code_obj, self.user_global_ns, self.user_ns)\n",
      "         │         │    │               │    └ {'__name__': '__main__', '__doc__': 'Automatically created module for IPython interactive environment', '__package__': None, ...\n",
      "         │         │    │               └ <ipykernel.zmqshell.ZMQInteractiveShell object at 0x7fbfd49c4850>\n",
      "         │         │    └ <property object at 0x7fbfd64014a0>\n",
      "         │         └ <ipykernel.zmqshell.ZMQInteractiveShell object at 0x7fbfd49c4850>\n",
      "         └ <code object <cell line: 5> at 0x7fbf8eac00e0, file \"/tmp/ipykernel_86644/1335568502.py\", line 5>\n",
      "\n",
      "  File \"/tmp/ipykernel_86644/1335568502.py\", line 5, in <cell line: 5>\n",
      "    ModelStell.Generate_Model(\n",
      "    │          └ <function StellarModel.Generate_Model at 0x7fbf6c3f5040>\n",
      "    └ Model handling: {'ESPRESSO18': None, 'ESPRESSO19': None, 'ESPRESSO21': None}\n",
      "\n",
      "  File \"/home/amiguel/phd/tools/sBART_private/SBART/template_creation/StellarModel.py\", line 162, in Generate_Model\n",
      "    super().Generate_Model(\n",
      "\n",
      "  File \"/home/amiguel/phd/tools/sBART_private/SBART/Base_Models/TemplateFramework.py\", line 135, in Generate_Model\n",
      "    self.templates[subInst] = self._compute_template(\n",
      "    │    │         │          │    └ <function StellarModel._compute_template at 0x7fbf6c3f51f0>\n",
      "    │    │         │          └ Model handling: {'ESPRESSO18': None, 'ESPRESSO19': None, 'ESPRESSO21': None}\n",
      "    │    │         └ 'ESPRESSO18'\n",
      "    │    └ {'ESPRESSO18': None, 'ESPRESSO19': None, 'ESPRESSO21': None}\n",
      "    └ Model handling: {'ESPRESSO18': None, 'ESPRESSO19': None, 'ESPRESSO21': None}\n",
      "\n",
      "  File \"/home/amiguel/phd/tools/sBART_private/SBART/template_creation/StellarModel.py\", line 196, in _compute_template\n",
      "    stellar_template.create_stellar_template(\n",
      "    │                └ <function ensure_invalid_template.<locals>.inner1 at 0x7fbf6dfb7790>\n",
      "    └ Sum-Stellar from ESPRESSO18\n",
      "\n",
      "  File \"/home/amiguel/phd/tools/sBART_private/SBART/utils/custom_exceptions.py\", line 94, in inner1\n",
      "    func(self, *args, **kwargs)\n",
      "    │    │      │       └ {'dataClass': <AutoProxy[DataClass] object, typeid 'DataClass' at 0x7fbf8eb12430>, 'conditions': ['No conditions']}\n",
      "    │    │      └ ()\n",
      "    │    └ Sum-Stellar from ESPRESSO18\n",
      "    └ <function SumStellar.create_stellar_template at 0x7fbf6dfb7700>\n",
      "\n",
      "> File \"/home/amiguel/phd/tools/sBART_private/SBART/template_creation/stellar_templates/sum_stellar.py\", line 89, in create_stellar_template\n",
      "    self.launch_parallel(dataClass)\n",
      "    │    │               └ <AutoProxy[DataClass] object, typeid 'DataClass' at 0x7fbf8eb12430>\n",
      "    │    └ <function SumStellar.launch_parallel at 0x7fbf6dfb7820>\n",
      "    └ Sum-Stellar from ESPRESSO18\n",
      "\n",
      "  File \"/home/amiguel/phd/tools/sBART_private/SBART/template_creation/stellar_templates/sum_stellar.py\", line 172, in launch_parallel\n",
      "    wave_reference, _, _, _ = dataClass.get_frame_arrays_by_ID(chosen_epochID)\n",
      "                              │         │                      └ 0\n",
      "                              │         └ <function get_frame_arrays_by_ID at 0x7fbf8eacb670>\n",
      "                              └ <AutoProxy[DataClass] object, typeid 'DataClass' at 0x7fbf8eb12430>\n",
      "\n",
      "  File \"<string>\", line 2, in get_frame_arrays_by_ID\n",
      "  File \"/usr/lib/python3.8/multiprocessing/managers.py\", line 850, in _callmethod\n",
      "    raise convert_to_error(kind, result)\n",
      "          │                │     └ AttributeError(\"'NoneType' object has no attribute 'get_custom_mask'\")\n",
      "          │                └ '#ERROR'\n",
      "          └ <function convert_to_error at 0x7fbf6eba14c0>\n",
      "\n",
      "AttributeError: 'NoneType' object has no attribute 'get_custom_mask'\n"
     ]
    },
    {
     "name": "stdout",
     "output_type": "stream",
     "text": [
      "2023-06-09T22:38:11 - \u001B[36mSBART.template_creation.stellar_templates.sum_stellar\u001B[0m - \u001B[38;2;40;180;99mINFO\u001B[0m - Closing shared memory interfaces of the Stellar template\n",
      "2023-06-09T22:38:11 - \u001B[36mSBART.template_creation.stellar_templates.Stellar_Template\u001B[0m - \u001B[38;2;208;211;212mDEBUG\u001B[0m - Cleaning the shared memory interfaces from the Stellar template creation\n",
      "2023-06-09T22:38:11 - \u001B[36mSBART.template_creation.stellar_templates.Stellar_Template\u001B[0m - \u001B[38;2;208;211;212mDEBUG\u001B[0m - Sum-Stellar from ESPRESSO18 closing the workers\n",
      "2023-06-09T22:38:11 - \u001B[36mSBART.template_creation.stellar_templates.Stellar_Template\u001B[0m - \u001B[38;2;208;211;212mDEBUG\u001B[0m - Sum-Stellar from ESPRESSO18 closing the communication queues\n",
      "2023-06-09T22:38:11 - \u001B[36mSBART.template_creation.stellar_templates.Stellar_Template\u001B[0m - \u001B[38;2;208;211;212mDEBUG\u001B[0m - Sum-Stellar from ESPRESSO18 closing the shared memory array\n",
      "2023-06-09T22:38:11 - \u001B[36mSBART.template_creation.stellar_templates.sum_stellar\u001B[0m - \u001B[38;2;241;196;15mWARNING\u001B[0m - Computation of SNR from stellar template temporarily disabled!\n",
      "2023-06-09T22:38:11 - \u001B[36mSBART.template_creation.StellarModel\u001B[0m - \u001B[38;2;241;196;15mWARNING\u001B[0m - Key <ALIGNEMENT_RV_SOURCE> from Stellar Model over-riding the one from the template configs\n",
      "2023-06-09T22:38:11 - \u001B[36mSBART.utils.UserConfigs\u001B[0m - \u001B[38;2;208;211;212mDEBUG\u001B[0m - Generating internal configs of Sum-Stellar from ESPRESSO19\n",
      "2023-06-09T22:38:11 - \u001B[36mSBART.utils.UserConfigs\u001B[0m - \u001B[38;2;208;211;212mDEBUG\u001B[0m - Configuration <MINIMUM_NUMBER_OBS> taking the value: 2\n",
      "2023-06-09T22:38:11 - \u001B[36mSBART.utils.UserConfigs\u001B[0m - \u001B[38;2;208;211;212mDEBUG\u001B[0m - Configuration <ALIGNEMENT_RV_SOURCE> taking the value: DRS\n",
      "2023-06-09T22:38:11 - \u001B[36mSBART.utils.UserConfigs\u001B[0m - \u001B[38;2;40;180;99mINFO\u001B[0m - Checking for any parameter that will take default value\n",
      "2023-06-09T22:38:11 - \u001B[36mSBART.utils.UserConfigs\u001B[0m - \u001B[38;2;208;211;212mDEBUG\u001B[0m - Configuration <NUMBER_WORKERS> using the default value: 1\n",
      "2023-06-09T22:38:11 - \u001B[36mSBART.utils.UserConfigs\u001B[0m - \u001B[38;2;208;211;212mDEBUG\u001B[0m - Configuration <MEMORY_SAVE_MODE> using the default value: False\n",
      "2023-06-09T22:38:11 - \u001B[36mSBART.utils.UserConfigs\u001B[0m - \u001B[38;2;208;211;212mDEBUG\u001B[0m - Configuration <INTERPOL_MODE> using the default value: splines\n",
      "2023-06-09T22:38:11 - \u001B[36mSBART.utils.UserConfigs\u001B[0m - \u001B[38;2;208;211;212mDEBUG\u001B[0m - Configuration <SPLINE_TYPE> using the default value: cubic\n",
      "2023-06-09T22:38:11 - \u001B[36mSBART.utils.UserConfigs\u001B[0m - \u001B[38;2;208;211;212mDEBUG\u001B[0m - Configuration <INTERPOLATION_ERR_PROP> using the default value: interpolation\n",
      "2023-06-09T22:38:11 - \u001B[36mSBART.Components.SpectrumComponent\u001B[0m - \u001B[38;2;241;196;15mWARNING\u001B[0m - Resetting order status of Sum-Stellar from ESPRESSO19\n",
      "2023-06-09T22:38:11 - \u001B[36mSBART.template_creation.stellar_templates.Stellar_Template\u001B[0m - \u001B[38;2;40;180;99mINFO\u001B[0m - Starting creation of Stellar template from ESPRESSO19\n",
      "2023-06-09T22:38:11 - \u001B[36mSBART.template_creation.stellar_templates.Stellar_Template\u001B[0m - \u001B[38;2;231;76;60mCRITICAL\u001B[0m - ESPRESSO19 has no valid observations. Not computing Stellar template\n"
     ]
    },
    {
     "name": "stderr",
     "output_type": "stream",
     "text": [
      "2023-06-09T22:38:11 - SBART.template_creation.stellar_templates.Stellar_Template - CRITICAL - ESPRESSO19 has no valid observations. Not computing Stellar template\n"
     ]
    },
    {
     "name": "stdout",
     "output_type": "stream",
     "text": [
      "2023-06-09T22:38:11 - \u001B[36mSBART.Base_Models.Template_Model\u001B[0m - \u001B[38;2;241;196;15mWARNING\u001B[0m - Template will not be created. Check previous error messages\n",
      "2023-06-09T22:38:11 - \u001B[36mSBART.template_creation.StellarModel\u001B[0m - \u001B[38;2;241;196;15mWARNING\u001B[0m - Key <ALIGNEMENT_RV_SOURCE> from Stellar Model over-riding the one from the template configs\n",
      "2023-06-09T22:38:11 - \u001B[36mSBART.utils.UserConfigs\u001B[0m - \u001B[38;2;208;211;212mDEBUG\u001B[0m - Generating internal configs of Sum-Stellar from ESPRESSO21\n",
      "2023-06-09T22:38:11 - \u001B[36mSBART.utils.UserConfigs\u001B[0m - \u001B[38;2;208;211;212mDEBUG\u001B[0m - Configuration <MINIMUM_NUMBER_OBS> taking the value: 2\n",
      "2023-06-09T22:38:11 - \u001B[36mSBART.utils.UserConfigs\u001B[0m - \u001B[38;2;208;211;212mDEBUG\u001B[0m - Configuration <ALIGNEMENT_RV_SOURCE> taking the value: DRS\n",
      "2023-06-09T22:38:11 - \u001B[36mSBART.utils.UserConfigs\u001B[0m - \u001B[38;2;40;180;99mINFO\u001B[0m - Checking for any parameter that will take default value\n",
      "2023-06-09T22:38:11 - \u001B[36mSBART.utils.UserConfigs\u001B[0m - \u001B[38;2;208;211;212mDEBUG\u001B[0m - Configuration <NUMBER_WORKERS> using the default value: 1\n",
      "2023-06-09T22:38:11 - \u001B[36mSBART.utils.UserConfigs\u001B[0m - \u001B[38;2;208;211;212mDEBUG\u001B[0m - Configuration <MEMORY_SAVE_MODE> using the default value: False\n",
      "2023-06-09T22:38:11 - \u001B[36mSBART.utils.UserConfigs\u001B[0m - \u001B[38;2;208;211;212mDEBUG\u001B[0m - Configuration <INTERPOL_MODE> using the default value: splines\n",
      "2023-06-09T22:38:11 - \u001B[36mSBART.utils.UserConfigs\u001B[0m - \u001B[38;2;208;211;212mDEBUG\u001B[0m - Configuration <SPLINE_TYPE> using the default value: cubic\n",
      "2023-06-09T22:38:11 - \u001B[36mSBART.utils.UserConfigs\u001B[0m - \u001B[38;2;208;211;212mDEBUG\u001B[0m - Configuration <INTERPOLATION_ERR_PROP> using the default value: interpolation\n",
      "2023-06-09T22:38:11 - \u001B[36mSBART.Components.SpectrumComponent\u001B[0m - \u001B[38;2;241;196;15mWARNING\u001B[0m - Resetting order status of Sum-Stellar from ESPRESSO21\n",
      "2023-06-09T22:38:11 - \u001B[36mSBART.template_creation.stellar_templates.Stellar_Template\u001B[0m - \u001B[38;2;40;180;99mINFO\u001B[0m - Starting creation of Stellar template from ESPRESSO21\n",
      "2023-06-09T22:38:11 - \u001B[36mSBART.template_creation.stellar_templates.Stellar_Template\u001B[0m - \u001B[38;2;231;76;60mCRITICAL\u001B[0m - ESPRESSO21 has no valid observations. Not computing Stellar template\n"
     ]
    },
    {
     "name": "stderr",
     "output_type": "stream",
     "text": [
      "2023-06-09T22:38:11 - SBART.template_creation.stellar_templates.Stellar_Template - CRITICAL - ESPRESSO21 has no valid observations. Not computing Stellar template\n"
     ]
    },
    {
     "name": "stdout",
     "output_type": "stream",
     "text": [
      "2023-06-09T22:38:11 - \u001B[36mSBART.Base_Models.Template_Model\u001B[0m - \u001B[38;2;241;196;15mWARNING\u001B[0m - Template will not be created. Check previous error messages\n",
      "2023-06-09T22:38:11 - \u001B[36mSBART.Base_Models.TemplateFramework\u001B[0m - \u001B[38;2;40;180;99mINFO\u001B[0m - Storing templates from <Stellar> under the directory\n",
      "2023-06-09T22:38:11 - \u001B[36mSBART.Base_Models.TemplateFramework\u001B[0m - \u001B[38;2;40;180;99mINFO\u001B[0m - \t/home/amiguel/phd/tools/sBART_private/tests/documentation_outputs/templates/Stellar/Iteration_0\n",
      "2023-06-09T22:38:11 - \u001B[36mSBART.Base_Models.Template_Model\u001B[0m - \u001B[38;2;40;180;99mINFO\u001B[0m - Storing Sum-Stellar from ESPRESSO18 to disk\n",
      "2023-06-09T22:38:11 - \u001B[36mSBART.Base_Models.Template_Model\u001B[0m - \u001B[38;2;241;196;15mWARNING\u001B[0m - Disabled removal of old disk files!\n"
     ]
    },
    {
     "ename": "AttributeError",
     "evalue": "'NoneType' object has no attribute 'get_custom_mask'",
     "output_type": "error",
     "traceback": [
      "\u001B[0;31m---------------------------------------------------------------------------\u001B[0m",
      "\u001B[0;31mAttributeError\u001B[0m                            Traceback (most recent call last)",
      "Input \u001B[0;32mIn [25]\u001B[0m, in \u001B[0;36m<cell line: 5>\u001B[0;34m()\u001B[0m\n\u001B[1;32m      1\u001B[0m \u001B[38;5;28;01mfrom\u001B[39;00m \u001B[38;5;21;01mSBART\u001B[39;00m\u001B[38;5;21;01m.\u001B[39;00m\u001B[38;5;21;01mutils\u001B[39;00m\u001B[38;5;21;01m.\u001B[39;00m\u001B[38;5;21;01mspectral_conditions\u001B[39;00m \u001B[38;5;28;01mimport\u001B[39;00m Empty_condition\n\u001B[1;32m      3\u001B[0m StellarTemplateConditions \u001B[38;5;241m=\u001B[39m Empty_condition()\n\u001B[0;32m----> 5\u001B[0m \u001B[43mModelStell\u001B[49m\u001B[38;5;241;43m.\u001B[39;49m\u001B[43mGenerate_Model\u001B[49m\u001B[43m(\u001B[49m\n\u001B[1;32m      6\u001B[0m \u001B[43m        \u001B[49m\u001B[43mdata\u001B[49m\u001B[43m,\u001B[49m\n\u001B[1;32m      7\u001B[0m \u001B[43m        \u001B[49m\u001B[43mstellar_template_genesis_configs\u001B[49m\u001B[43m,\u001B[49m\n\u001B[1;32m      8\u001B[0m \u001B[43m        \u001B[49m\u001B[43mStellarTemplateConditions\u001B[49m\u001B[43m,\u001B[49m\n\u001B[1;32m      9\u001B[0m \u001B[43m        \u001B[49m\u001B[43mforce_computation\u001B[49m\u001B[38;5;241;43m=\u001B[39;49m\u001B[38;5;28;43;01mFalse\u001B[39;49;00m\u001B[43m,\u001B[49m\n\u001B[1;32m     10\u001B[0m \u001B[43m    \u001B[49m\u001B[43m)\u001B[49m\n\u001B[1;32m     12\u001B[0m ModelStell\u001B[38;5;241m.\u001B[39mstore_templates_to_disk(storage_path)\n\u001B[1;32m     14\u001B[0m data\u001B[38;5;241m.\u001B[39mingest_StellarModel(ModelStell)\n",
      "File \u001B[0;32m~/phd/tools/sBART_private/SBART/template_creation/StellarModel.py:177\u001B[0m, in \u001B[0;36mStellarModel.Generate_Model\u001B[0;34m(self, dataClass, template_configs, conditions, force_computation, store_templates)\u001B[0m\n\u001B[1;32m    170\u001B[0m     temp\u001B[38;5;241m.\u001B[39mupdate_RV_source_info(\n\u001B[1;32m    171\u001B[0m         iteration_number\u001B[38;5;241m=\u001B[39m\u001B[38;5;28mself\u001B[39m\u001B[38;5;241m.\u001B[39miteration_number,\n\u001B[1;32m    172\u001B[0m         RV_source\u001B[38;5;241m=\u001B[39m\u001B[38;5;28mself\u001B[39m\u001B[38;5;241m.\u001B[39mRV_source,\n\u001B[1;32m    173\u001B[0m         merged_source\u001B[38;5;241m=\u001B[39m\u001B[38;5;28mself\u001B[39m\u001B[38;5;241m.\u001B[39m_internal_configs[\u001B[38;5;124m\"\u001B[39m\u001B[38;5;124mUSE_MERGED_RVS\u001B[39m\u001B[38;5;124m\"\u001B[39m],\n\u001B[1;32m    174\u001B[0m     )\n\u001B[1;32m    176\u001B[0m \u001B[38;5;28;01mif\u001B[39;00m store_templates:\n\u001B[0;32m--> 177\u001B[0m     \u001B[38;5;28;43mself\u001B[39;49m\u001B[38;5;241;43m.\u001B[39;49m\u001B[43mstore_templates_to_disk\u001B[49m\u001B[43m(\u001B[49m\u001B[43m)\u001B[49m\n",
      "File \u001B[0;32m~/phd/tools/sBART_private/SBART/Base_Models/TemplateFramework.py:244\u001B[0m, in \u001B[0;36mTemplateFramework.store_templates_to_disk\u001B[0;34m(self, clobber)\u001B[0m\n\u001B[1;32m    241\u001B[0m logger\u001B[38;5;241m.\u001B[39minfo(\u001B[38;5;124m\"\u001B[39m\u001B[38;5;130;01m\\t\u001B[39;00m\u001B[38;5;124m\"\u001B[39m \u001B[38;5;241m+\u001B[39m storage_path)\n\u001B[1;32m    243\u001B[0m \u001B[38;5;28;01mfor\u001B[39;00m template \u001B[38;5;129;01min\u001B[39;00m \u001B[38;5;28mself\u001B[39m\u001B[38;5;241m.\u001B[39mtemplates\u001B[38;5;241m.\u001B[39mvalues():\n\u001B[0;32m--> 244\u001B[0m     \u001B[43mtemplate\u001B[49m\u001B[38;5;241;43m.\u001B[39;49m\u001B[43mtrigger_data_storage\u001B[49m\u001B[43m(\u001B[49m\u001B[43mclobber\u001B[49m\u001B[38;5;241;43m=\u001B[39;49m\u001B[43mclobber\u001B[49m\u001B[43m)\u001B[49m\n",
      "File \u001B[0;32m~/phd/tools/sBART_private/SBART/template_creation/stellar_templates/Stellar_Template.py:253\u001B[0m, in \u001B[0;36mStellarTemplate.trigger_data_storage\u001B[0;34m(self, clobber)\u001B[0m\n\u001B[1;32m    251\u001B[0m \u001B[38;5;28;01mdef\u001B[39;00m \u001B[38;5;21mtrigger_data_storage\u001B[39m(\u001B[38;5;28mself\u001B[39m, clobber) \u001B[38;5;241m-\u001B[39m\u001B[38;5;241m>\u001B[39m NoReturn:\n\u001B[1;32m    252\u001B[0m     \u001B[38;5;28;01mtry\u001B[39;00m:\n\u001B[0;32m--> 253\u001B[0m         \u001B[38;5;28;43msuper\u001B[39;49m\u001B[43m(\u001B[49m\u001B[43m)\u001B[49m\u001B[38;5;241;43m.\u001B[39;49m\u001B[43mtrigger_data_storage\u001B[49m\u001B[43m(\u001B[49m\u001B[43mclobber\u001B[49m\u001B[43m)\u001B[49m\n\u001B[1;32m    254\u001B[0m         \u001B[38;5;28mself\u001B[39m\u001B[38;5;241m.\u001B[39m_store_json_information()\n\u001B[1;32m    255\u001B[0m         \u001B[38;5;28mself\u001B[39m\u001B[38;5;241m.\u001B[39mstore_metrics()\n",
      "File \u001B[0;32m~/phd/tools/sBART_private/SBART/Base_Models/Template_Model.py:93\u001B[0m, in \u001B[0;36mBaseTemplate.trigger_data_storage\u001B[0;34m(self, clobber)\u001B[0m\n\u001B[1;32m     90\u001B[0m     logger\u001B[38;5;241m.\u001B[39minfo(\u001B[38;5;124m\"\u001B[39m\u001B[38;5;124mThe template was not created. Storing nothing to disk\u001B[39m\u001B[38;5;124m\"\u001B[39m)\n\u001B[1;32m     91\u001B[0m     \u001B[38;5;28;01mraise\u001B[39;00m custom_exceptions\u001B[38;5;241m.\u001B[39mFailedStorage\n\u001B[0;32m---> 93\u001B[0m \u001B[38;5;28;43mself\u001B[39;49m\u001B[38;5;241;43m.\u001B[39;49m\u001B[43mstore_template\u001B[49m\u001B[43m(\u001B[49m\u001B[43mclobber\u001B[49m\u001B[38;5;241;43m=\u001B[39;49m\u001B[43mclobber\u001B[49m\u001B[43m)\u001B[49m\n",
      "File \u001B[0;32m~/phd/tools/sBART_private/SBART/template_creation/stellar_templates/Stellar_Template.py:312\u001B[0m, in \u001B[0;36mStellarTemplate.store_template\u001B[0;34m(self, clobber)\u001B[0m\n\u001B[1;32m    309\u001B[0m hdu_wave \u001B[38;5;241m=\u001B[39m fits\u001B[38;5;241m.\u001B[39mImageHDU(data\u001B[38;5;241m=\u001B[39m\u001B[38;5;28mself\u001B[39m\u001B[38;5;241m.\u001B[39mwavelengths, header\u001B[38;5;241m=\u001B[39mheader, name\u001B[38;5;241m=\u001B[39m\u001B[38;5;124m\"\u001B[39m\u001B[38;5;124mWAVE\u001B[39m\u001B[38;5;124m\"\u001B[39m)\n\u001B[1;32m    310\u001B[0m hdu_temp \u001B[38;5;241m=\u001B[39m fits\u001B[38;5;241m.\u001B[39mImageHDU(data\u001B[38;5;241m=\u001B[39m\u001B[38;5;28mself\u001B[39m\u001B[38;5;241m.\u001B[39mspectra, header\u001B[38;5;241m=\u001B[39mheader, name\u001B[38;5;241m=\u001B[39m\u001B[38;5;124m\"\u001B[39m\u001B[38;5;124mTEMP\u001B[39m\u001B[38;5;124m\"\u001B[39m)\n\u001B[0;32m--> 312\u001B[0m mask \u001B[38;5;241m=\u001B[39m \u001B[38;5;28;43mself\u001B[39;49m\u001B[38;5;241;43m.\u001B[39;49m\u001B[43mspectral_mask\u001B[49m\u001B[38;5;241;43m.\u001B[39;49m\u001B[43mget_custom_mask\u001B[49m()\u001B[38;5;241m.\u001B[39mastype(\u001B[38;5;28mint\u001B[39m)\n\u001B[1;32m    314\u001B[0m hdu_mask \u001B[38;5;241m=\u001B[39m fits\u001B[38;5;241m.\u001B[39mImageHDU(data\u001B[38;5;241m=\u001B[39mmask, header\u001B[38;5;241m=\u001B[39mheader, name\u001B[38;5;241m=\u001B[39m\u001B[38;5;124m\"\u001B[39m\u001B[38;5;124mMASK\u001B[39m\u001B[38;5;124m\"\u001B[39m)\n\u001B[1;32m    315\u001B[0m hdu_uncerts \u001B[38;5;241m=\u001B[39m fits\u001B[38;5;241m.\u001B[39mImageHDU(data\u001B[38;5;241m=\u001B[39m\u001B[38;5;28mself\u001B[39m\u001B[38;5;241m.\u001B[39muncertainties, header\u001B[38;5;241m=\u001B[39mheader, name\u001B[38;5;241m=\u001B[39m\u001B[38;5;124m\"\u001B[39m\u001B[38;5;124mUNCERTAINTIES\u001B[39m\u001B[38;5;124m\"\u001B[39m)\n",
      "\u001B[0;31mAttributeError\u001B[0m: 'NoneType' object has no attribute 'get_custom_mask'"
     ]
    }
   ],
   "source": [
    "from SBART.utils.spectral_conditions import Empty_condition\n",
    "\n",
    "StellarTemplateConditions = Empty_condition()\n",
    "\n",
    "ModelStell.Generate_Model(\n",
    "        data,\n",
    "        stellar_template_genesis_configs,\n",
    "        StellarTemplateConditions,\n",
    "        force_computation=False,\n",
    "    )\n",
    "\n",
    "ModelStell.store_templates_to_disk(storage_path)\n",
    "\n",
    "data.ingest_StellarModel(ModelStell)\n"
   ]
  },
  {
   "attachments": {},
   "cell_type": "markdown",
   "metadata": {
    "collapsed": false,
    "pycharm": {
     "name": "#%% md\n"
    }
   },
   "source": [
    "## Extracting Radial Velocities\n",
    "\n",
    "Lastly, we only need to define the RV model that we want to use"
   ]
  },
  {
   "cell_type": "code",
   "execution_count": 13,
   "metadata": {
    "collapsed": false,
    "pycharm": {
     "name": "#%%\n"
    }
   },
   "outputs": [
    {
     "name": "stderr",
     "output_type": "stream",
     "text": [
      "/home/amiguel/phd/tools/sBART_private/src/SBART/data_objects/RV_cube.py:792: RuntimeWarning: invalid value encountered in divide\n",
      "  empty_array /= np.max(empty_array, axis=1)[:, None]  # normalize across the orders\n",
      "/home/amiguel/phd/tools/sBART_private/src/SBART/utils/math_tools/weighted_mean.py:13: RuntimeWarning: invalid value encountered in divide\n",
      "  final_RV = np.nansum(np.multiply(weights, orders_RV), axis=1) / sum_weights\n",
      "/home/amiguel/phd/tools/sBART_private/src/SBART/utils/math_tools/weighted_mean.py:17: RuntimeWarning: divide by zero encountered in divide\n",
      "  final_error = np.sqrt(1 / (sum_weights))\n",
      "/home/amiguel/phd/tools/sBART_private/src/SBART/data_objects/RV_cube.py:792: RuntimeWarning: invalid value encountered in divide\n",
      "  empty_array /= np.max(empty_array, axis=1)[:, None]  # normalize across the orders\n",
      "/home/amiguel/phd/tools/sBART_private/.venv/lib/python3.8/site-packages/matplotlib/axes/_axes.py:1148: RuntimeWarning: All-NaN axis encountered\n",
      "  miny = np.nanmin(masked_verts[..., 1])\n",
      "/home/amiguel/phd/tools/sBART_private/.venv/lib/python3.8/site-packages/matplotlib/axes/_axes.py:1149: RuntimeWarning: All-NaN axis encountered\n",
      "  maxy = np.nanmax(masked_verts[..., 1])\n"
     ]
    }
   ],
   "source": [
    "from SBART.rv_calculation.RV_Bayesian.RV_Bayesian import RV_Bayesian\n",
    "from SBART.rv_calculation.rv_stepping.RV_step import RV_step\n",
    "from SBART.Samplers import chi_squared_sampler, Laplace_approx\n",
    "import os\n",
    "\n",
    "\n",
    "if rv_method == \"classical\":\n",
    "    sampler = chi_squared_sampler(RVstep, RV_limits)\n",
    "    rv_model = RV_step(\n",
    "        processes=N_cores,\n",
    "        RV_configs=confsRV,\n",
    "        sampler=sampler,\n",
    "    )\n",
    "\n",
    "    orders = orders_to_skip\n",
    "elif rv_method == \"Laplace\":\n",
    "    sampler = Laplace_approx(RVstep, RV_limits)\n",
    "    rv_model = RV_Bayesian(\n",
    "        processes=N_cores,\n",
    "        RV_configs=confsRV,\n",
    "        sampler=sampler,\n",
    "    )\n",
    "    orders = os.path.join(storage_path, \"Iteration_0/RV_step\")\n",
    "else:\n",
    "    raise Exception\n",
    "\n",
    "# warning is raised as this was ran over simulated data and we used a non-existing target name\n",
    "rv_model.run_routine(data, storage_path, orders)"
   ]
  }
 ],
 "metadata": {
  "kernelspec": {
   "display_name": "Python 3",
   "language": "python",
   "name": "python3"
  },
  "language_info": {
   "codemirror_mode": {
    "name": "ipython",
    "version": 3
   },
   "file_extension": ".py",
   "mimetype": "text/x-python",
   "name": "python",
   "nbconvert_exporter": "python",
   "pygments_lexer": "ipython3",
   "version": "3.8.12"
  }
 },
 "nbformat": 4,
 "nbformat_minor": 0
}
