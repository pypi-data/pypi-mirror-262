{
 "cells": [
  {
   "cell_type": "code",
   "execution_count": 1,
   "metadata": {},
   "outputs": [
    {
     "name": "stdout",
     "output_type": "stream",
     "text": [
      "<class 'aglog.formatter.iso8601_formatter.Iso8601Formatter'>\n"
     ]
    }
   ],
   "source": [
    "import dotenv\n",
    "\n",
    "dotenv.load_dotenv()\n",
    "\n",
    "\n",
    "import logging\n",
    "\n",
    "from aglog import dict_config_from_yaml\n",
    "\n",
    "dict_config_from_yaml(\"slack.yaml\")"
   ]
  },
  {
   "cell_type": "code",
   "execution_count": 2,
   "metadata": {},
   "outputs": [
    {
     "name": "stderr",
     "output_type": "stream",
     "text": [
      "2024-02-17T22:08:51.977+09:00 Hello, Slack!!\n"
     ]
    }
   ],
   "source": [
    "logger = logging.getLogger(\"slack\")\n",
    "logger.debug(\"Hello, Slack!!\")\n",
    "logger.info(f\"lsls: {datetime.now()}\")\n",
    "logger.warning(\"Hello, Slack!!\")\n",
    "\n",
    "try:\n",
    "    1 / 0\n",
    "except Exception as e:\n",
    "    logger.exception(\"Hello, Slack!!\")\n",
    "logger.critical(\"Hello, Slack!!\")"
   ]
  }
 ],
 "metadata": {
  "kernelspec": {
   "display_name": ".venv",
   "language": "python",
   "name": "python3"
  },
  "language_info": {
   "codemirror_mode": {
    "name": "ipython",
    "version": 3
   },
   "file_extension": ".py",
   "mimetype": "text/x-python",
   "name": "python",
   "nbconvert_exporter": "python",
   "pygments_lexer": "ipython3",
   "version": "3.10.13"
  }
 },
 "nbformat": 4,
 "nbformat_minor": 2
}
