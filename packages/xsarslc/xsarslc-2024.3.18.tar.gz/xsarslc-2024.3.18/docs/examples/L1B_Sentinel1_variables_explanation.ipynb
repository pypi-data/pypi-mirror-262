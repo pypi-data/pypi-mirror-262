{
 "cells": [
  {
   "cell_type": "markdown",
   "id": "17096862-46fb-4c14-81a8-af7fc3c98715",
   "metadata": {},
   "source": [
    "#  Sentinel-1 Level-1B IFREMER variables explanation"
   ]
  },
  {
   "cell_type": "markdown",
   "id": "f2b176bb-89a6-42c7-a76c-90fd7c2a6c04",
   "metadata": {},
   "source": [
    "Although some variables need extra explanation about why there are present, how they are computed and how to properly use them.\n",
    "\n",
    "A dedicated Python library is available to use IFREMER Sentinel-1 Level-1B products: https://slcl1butils.readthedocs.io"
   ]
  },
  {
   "cell_type": "code",
   "execution_count": null,
   "id": "c3c77c7c-4f2c-45e3-9949-f25b00c8c4f7",
   "metadata": {
    "tags": []
   },
   "outputs": [],
   "source": [
    "from xsarslc.get_test_files import get_test_file\n",
    "import xarray as xr\n",
    "# https://cyclobs.ifremer.fr/static/sarwing_datarmor/xsardata/S1B_IW_XSP__1SDV_20200925T173737_20200925T173804_023535_02CB5D_E473.SAFE/s1b-iw1-slc-vv-20200925t173739-20200925t173804-023535-02cb5d-004_L1B_xspec_IFR_1.4k.nc.zip\n",
    "#localpath = get_test_file('S1B_IW_XSP__1SDV_20200925T173737_20200925T173804_023535_02CB5D_E473.SAFE/s1b-iw1-slc-vv-20200925t173739-20200925t173804-023535-02cb5d-004_L1B_xspec_IFR_1.4k.nc')\n",
    "localpath = get_test_file('s1b-iw1-slc-vv-20200925t173739-20200925t173804-023535-02cb5d-004_L1B_xspec_IFR_1.4k.nc')\n",
    "localpath"
   ]
  },
  {
   "cell_type": "code",
   "execution_count": null,
   "id": "70f20816-0a02-4739-811a-61d55ba9ff77",
   "metadata": {
    "tags": []
   },
   "outputs": [],
   "source": [
    "import os\n",
    "#localpath_tweaked = os.path.join(os.path.dirname(os.path.dirname(localpath)),os.path.basename(localpath))\n",
    "#print(localpath_tweaked,os.path.exists(localpath_tweaked))\n",
    "print(os.path.exists(localpath))\n",
    "ds = xr.open_dataset(localpath,group='intraburst')\n",
    "ds"
   ]
  },
  {
   "cell_type": "markdown",
   "id": "2ae1736b-5ff9-4d09-8d66-6f1e46c67fd9",
   "metadata": {},
   "source": [
    "## wavenumbers in range axis: \"k_rg\""
   ]
  },
  {
   "cell_type": "markdown",
   "id": "b956aa0f-633d-4744-93c8-fd737958c2ed",
   "metadata": {},
   "source": [
    "\"k_rg\" variable slightly depends on each tile because the pixel spacing is not the same in the IW sub-swath. \n",
    "\n",
    "We made the choice to have a constant dk (in range and azimuth) for all the tiles/cross-spectrum, and we achieved a 10e-3 consistency as a maximum point-to-point difference wavenumbers . \n",
    "\n",
    "This strategy allows to compare a spectra to another."
   ]
  },
  {
   "cell_type": "code",
   "execution_count": null,
   "id": "e2ea60bd-f97a-4f9a-bfe4-7106fff0825d",
   "metadata": {
    "tags": []
   },
   "outputs": [],
   "source": [
    "k_rg1 = ds['k_rg'].isel(burst=2,tile_sample=1)\n",
    "k_rg2 = ds['k_rg'].isel(burst=2,tile_sample=3)\n",
    "k_rg1"
   ]
  },
  {
   "cell_type": "code",
   "execution_count": null,
   "id": "74f98554-de11-4bdc-8be7-b90f081efdf6",
   "metadata": {
    "tags": []
   },
   "outputs": [],
   "source": [
    "from matplotlib import pyplot as plt\n",
    "k_rg1.plot(label=\"burst=2,tile_sample=1\",linestyle='--',lw=5)\n",
    "k_rg2.plot(label=\"burst=2,tile_sample=2\")\n",
    "plt.legend()"
   ]
  },
  {
   "cell_type": "code",
   "execution_count": null,
   "id": "375ed794-685e-40cf-86e1-86491ec8227f",
   "metadata": {
    "tags": []
   },
   "outputs": [],
   "source": [
    "(k_rg1-k_rg2).plot()\n",
    "plt.title('difference between 2 different k_rg')"
   ]
  },
  {
   "cell_type": "markdown",
   "id": "b4e18a59-e8c6-417d-8ee8-9f523166c4bb",
   "metadata": {},
   "source": [
    "The difference between the 2 vectors of wave numbers is super small but for users who might want to stack the different cross spectrum, a first step would be to assign a single k_rg to all the cross spectrum."
   ]
  },
  {
   "cell_type": "markdown",
   "id": "ba5e8bb6-f405-41a8-ba1e-ea8e1eedd27d",
   "metadata": {},
   "source": [
    "## SAR image complexe cartesian cross spectrum"
   ]
  },
  {
   "cell_type": "markdown",
   "id": "cc00731f-4d36-415b-b9cd-4e1790dd68f8",
   "metadata": {},
   "source": [
    "The \"xpsectra_{0-1-2}tau_*\" is split in real and imaginary part because netCDF4 file format does not allow to store complex values.\n",
    "\n",
    "\n",
    "Also only half of the spectrum along the range wavenumbers is stored in the netCDF files to save space.\n"
   ]
  },
  {
   "cell_type": "code",
   "execution_count": null,
   "id": "55b125db-426d-4f42-9c5f-54f13bbe32e2",
   "metadata": {
    "tags": []
   },
   "outputs": [],
   "source": [
    "# recompose complexe SAr image cross spectrum from real and imaginary part\n",
    "for tautau in range(3):\n",
    "    ds['xspectra_%stau'%tautau] = ds['xspectra_%stau_Re'%tautau] + 1j*ds['xspectra_%stau_Im'%tautau]\n",
    "    #ds = ds.drop(['xspectra_%stau_Re'%tautau,'xspectra_%stau_Im'%tautau])\n",
    "one_cartesian_xsp = ds['xspectra_2tau'].isel({'burst':6,'tile_line':0,'tile_sample':2,'2tau':0})\n",
    "one_cartesian_xsp = one_cartesian_xsp.assign_coords({'freq_line':one_cartesian_xsp.k_az,'freq_sample':one_cartesian_xsp.k_rg})\n",
    "one_cartesian_xsp"
   ]
  },
  {
   "cell_type": "code",
   "execution_count": null,
   "id": "54d8cb15-ea43-4813-8656-c0ffa2e24945",
   "metadata": {
    "tags": []
   },
   "outputs": [],
   "source": [
    "from matplotlib import colors as mcolors\n",
    "cmap = mcolors.LinearSegmentedColormap.from_list(\"\", [\"white\",\"violet\",\"mediumpurple\",\"cyan\",\"springgreen\",\"yellow\",\"red\"])\n",
    "\n",
    "abs(one_cartesian_xsp.real).plot(cmap=cmap)\n",
    "plt.grid(True)"
   ]
  },
  {
   "cell_type": "markdown",
   "id": "7255d5ff-7e9b-4b25-b072-9aece0c00eb5",
   "metadata": {},
   "source": [
    "## landmask"
   ]
  },
  {
   "cell_type": "markdown",
   "id": "2b379623-0da0-4a66-8788-c816bd1a7310",
   "metadata": {},
   "source": [
    "The \"land_flag\" annotated in the sample of L1B product comes from `cartopy` 10 m resolution polygons. \n",
    "\n",
    "cartopy/shapefiles/natural_earth/physical/: https://www.naturalearthdata.com/"
   ]
  },
  {
   "cell_type": "code",
   "execution_count": null,
   "id": "330f2725-5543-4ec2-a0a5-8217cadbdc6a",
   "metadata": {
    "tags": []
   },
   "outputs": [],
   "source": [
    "ds['land_flag'].plot()"
   ]
  },
  {
   "cell_type": "markdown",
   "id": "08fb723f-d58a-4f38-9c7d-6f1e55ba7fd0",
   "metadata": {
    "execution": {
     "iopub.execute_input": "2023-06-09T13:42:27.743323Z",
     "iopub.status.busy": "2023-06-09T13:42:27.743065Z",
     "iopub.status.idle": "2023-06-09T13:42:27.889404Z",
     "shell.execute_reply": "2023-06-09T13:42:27.888768Z",
     "shell.execute_reply.started": "2023-06-09T13:42:27.743307Z"
    },
    "tags": []
   },
   "source": [
    "## variance of cross spectrum"
   ]
  },
  {
   "cell_type": "markdown",
   "id": "65543275-1405-430a-9c46-5877845abdf5",
   "metadata": {},
   "source": [
    "\"var_xspectra_{0-1-2}tau\" is the variance of the different periodograms while \"xpsectra_{0-1-2}tau\" is the mean of the periodograms computed within a given tile.\n",
    "\n",
    "These variables **var_xspectra_{0-1-2}tau** are defined on the same grid than the cross spectrum **xpsectra_{0-1-2}tau**. They are also splitted in Real part and Imaginary part in the netCDF files, and they are also stored on the half part of the wavenumer along range axis since they are symmetric.\n"
   ]
  },
  {
   "cell_type": "code",
   "execution_count": null,
   "id": "be7cd3c2-c791-4f8f-812e-00b5f24bafcd",
   "metadata": {
    "tags": []
   },
   "outputs": [],
   "source": [
    "ds['var_xspectra_2tau'].isel(tile_line=0,tile_sample=0,burst=3).squeeze().plot(cmap=cmap)"
   ]
  }
 ],
 "metadata": {
  "kernelspec": {
   "display_name": "Python 3 (ipykernel)",
   "language": "python",
   "name": "python3"
  },
  "language_info": {
   "codemirror_mode": {
    "name": "ipython",
    "version": 3
   },
   "file_extension": ".py",
   "mimetype": "text/x-python",
   "name": "python",
   "nbconvert_exporter": "python",
   "pygments_lexer": "ipython3",
   "version": "3.9.15"
  },
  "toc-autonumbering": true
 },
 "nbformat": 4,
 "nbformat_minor": 5
}
