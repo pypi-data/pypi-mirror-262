{
 "cells": [
  {
   "cell_type": "markdown",
   "metadata": {},
   "source": [
    "# Get some example data\n",
    "\n",
    "To provide some example of execution of this software, we provide a small example dataset, namely the [PlaSMA](http://plasma.riken.jp/) dataset that can be freely download from the network.\n",
    "\n",
    "The dataset is provided in NIST MS format (`.msp`), so we first need to write a function to convert such format to the *tab-separated-values* (`.tsv`) used to compute the molecular descriptors. During the conversion, only entries with an InChiKey, the SMILES and with positive ionization mode are kept.\n",
    "\n",
    "We can preserve how many information we want from the original file, provided that:\n",
    "\n",
    "* the file is in *tab-separated-values*,\n",
    "* the first field is the *retention time*,\n",
    "* the last field is the *SMILES*.\n",
    "\n",
    "Since the computation of the molecular descriptors is performed in parallel, the output file is not guaranteed to have the same order as the input file, for this reason it can be a good idea to preserve at least the InChIKey to be able to match the original data with the one with computed molecular descriptors."
   ]
  },
  {
   "cell_type": "code",
   "execution_count": 1,
   "metadata": {},
   "outputs": [],
   "source": [
    "# A function converting MSP file to TSV file (while filtering out negative ion mode records and records with no SMILES)\n",
    "\n",
    "import csv\n",
    "\n",
    "def msp2tsv(src, dst, extra_keys = ('INCHIKEY', 'NAME')):\n",
    "  keys = ('RETENTIONTIME', ) + extra_keys + ('SMILES', )\n",
    "  keys_set = frozenset(keys)\n",
    "  csv_writer = csv.writer(dst, delimiter = '\\t', quotechar = '\"', quoting = csv.QUOTE_MINIMAL)\n",
    "  record = dict()\n",
    "  for line in src:\n",
    "    line = line.strip()\n",
    "    if not line:\n",
    "      if keys_set <= set(record.keys()) and 'IONMODE' in record and record['IONMODE'] == 'Positive':\n",
    "        csv_writer.writerow(record[k] for k in keys)\n",
    "      record = dict()\n",
    "    else:\n",
    "      key, *value = line.split(': ', 1)\n",
    "      if value: record[key] = value[0]"
   ]
  },
  {
   "cell_type": "markdown",
   "metadata": {},
   "source": [
    "We now can use such function to save a TSV file while downloading the MSP original dataset directly from the PlaSMA website (without saving it on the local disk)."
   ]
  },
  {
   "cell_type": "code",
   "execution_count": 2,
   "metadata": {},
   "outputs": [],
   "source": [
    "from urllib.request import urlopen\n",
    "\n",
    "# The URL of the dataset, can be found on http://plasma.riken.jp/menta.cgi/plasma/plant_chemical_diversity_download\n",
    "\n",
    "PLASMA__DATASET_URL = 'http://plasma.riken.jp/menta.cgi/plasma/get_msp_all'\n",
    "\n",
    "with urlopen(PLASMA__DATASET_URL) as msp_src, open('plasma.tsv', mode = 'w') as tsv_dst:\n",
    "  src = msp_src.read().decode('utf-8').splitlines()\n",
    "  msp2tsv(src, tsv_dst)"
   ]
  },
  {
   "cell_type": "markdown",
   "metadata": {},
   "source": [
    "Let's count the number of lines to check that it worked."
   ]
  },
  {
   "cell_type": "code",
   "execution_count": 3,
   "metadata": {},
   "outputs": [
    {
     "name": "stdout",
     "output_type": "stream",
     "text": [
      "799\n"
     ]
    }
   ],
   "source": [
    "with open('plasma.tsv', 'r') as inf: print(len(inf.readlines()))"
   ]
  },
  {
   "cell_type": "markdown",
   "metadata": {},
   "source": [
    "# Compute the molecular descriptors"
   ]
  },
  {
   "cell_type": "code",
   "execution_count": 4,
   "metadata": {},
   "outputs": [
    {
     "name": "stderr",
     "output_type": "stream",
     "text": [
      "Computing   5% \u001b[33m│█▉                               │\u001b[0m  46/799 (0:00:05 / 0:01:21) "
     ]
    },
    {
     "name": "stdout",
     "output_type": "stream",
     "text": [
      "107409 not found\n"
     ]
    },
    {
     "name": "stderr",
     "output_type": "stream",
     "text": [
      "Computing   8% \u001b[33m│██▊                              │\u001b[0m  67/799 (0:00:06 / 0:01:05) "
     ]
    },
    {
     "name": "stdout",
     "output_type": "stream",
     "text": [
      "7205 not found\n"
     ]
    },
    {
     "name": "stderr",
     "output_type": "stream",
     "text": [
      "Computing  45% \u001b[33m│██████████████▉                  │\u001b[0m 363/799 (0:00:15 / 0:00:18) "
     ]
    },
    {
     "name": "stdout",
     "output_type": "stream",
     "text": [
      "208203 not found\n"
     ]
    },
    {
     "name": "stderr",
     "output_type": "stream",
     "text": [
      "Computing 100% \u001b[33m│█████████████████████████████████│\u001b[0m 799/799 (0:00:51 / 0:00:00) \n"
     ]
    }
   ],
   "source": [
    "from jp2rt import add_descriptors_via_tsv\n",
    "\n",
    "add_descriptors_via_tsv('plasma.tsv', 'plasma+descriptors.tsv')"
   ]
  }
 ],
 "metadata": {
  "kernelspec": {
   "display_name": "venv",
   "language": "python",
   "name": "python3"
  },
  "language_info": {
   "codemirror_mode": {
    "name": "ipython",
    "version": 3
   },
   "file_extension": ".py",
   "mimetype": "text/x-python",
   "name": "python",
   "nbconvert_exporter": "python",
   "pygments_lexer": "ipython3",
   "version": "3.10.12"
  }
 },
 "nbformat": 4,
 "nbformat_minor": 2
}
