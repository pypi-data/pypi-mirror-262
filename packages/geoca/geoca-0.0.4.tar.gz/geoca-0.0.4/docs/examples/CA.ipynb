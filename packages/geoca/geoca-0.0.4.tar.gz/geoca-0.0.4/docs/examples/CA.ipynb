{
  "cells": [
    {
      "cell_type": "markdown",
      "metadata": {
        "id": "_4bXYaBOOnjG"
      },
      "source": [
        "[![Open In Colab](https://colab.research.google.com/assets/colab-badge.svg)](https://colab.research.google.com/drive/1y_mtXLHAqGvRqpUdEC4ilHsZY-zICs4E)\n",
        "\n",
        "Uncomment the following line to install [geoca](https://haorui-jiang.github.io/geoca/) if needed."
      ]
    },
    {
      "cell_type": "code",
      "execution_count": null,
      "metadata": {
        "id": "CmOVEhuiOnjH"
      },
      "outputs": [],
      "source": [
        "# !pip install geoca"
      ]
    },
    {
      "cell_type": "markdown",
      "metadata": {
        "id": "dFa4fdU9OnjH"
      },
      "source": [
        "Import two modules, **rasterconvert** and **cellularautomata**.\n",
        "\n",
        "Use **rasterconvert** for converting raster data formats and **cellularautomata** for running CA models."
      ]
    },
    {
      "cell_type": "code",
      "execution_count": null,
      "metadata": {
        "id": "4YKTJLNJOnjH"
      },
      "outputs": [],
      "source": [
        "from geoca import rasterconvert, cellularautomata"
      ]
    },
    {
      "cell_type": "markdown",
      "metadata": {
        "id": "xHv5ggPLOnjI"
      },
      "source": [
        "**rasterconvert.raster_list(file_path)**:\n",
        "- Read raster data from a file, convert NoData values to None, and convert the data into a Python list."
      ]
    },
    {
      "cell_type": "code",
      "execution_count": null,
      "metadata": {
        "id": "BasOtVZ5OnjI"
      },
      "outputs": [],
      "source": [
        "raster_file = \"Data/raster.tif\"\n",
        "data_list = rasterconvert.raster_list(raster_file)\n",
        "\n",
        "# Read the first 100 rows of a data list and output all non-None values\n",
        "for row in data_list[:100]:\n",
        "    non_none_values = [value for value in row if value is not None]\n",
        "    if non_none_values:\n",
        "        print(non_none_values)"
      ]
    },
    {
      "cell_type": "code",
      "execution_count": null,
      "metadata": {
        "id": "N91bIkfzOnjI"
      },
      "outputs": [],
      "source": [
        "# Set the file paths for the original raster data and the new raster data to be output\n",
        "input_raster_path = raster_file\n",
        "output_raster_path = \"Data/result.tif\""
      ]
    },
    {
      "cell_type": "markdown",
      "metadata": {
        "id": "9Lamnbk8OnjI"
      },
      "source": [
        "**cellularautomata.run_ca_iterations(iterations, data_list, population_num=10)**:\n",
        "- Run a cellular automata simulation for migration of population based on raster data."
      ]
    },
    {
      "cell_type": "code",
      "execution_count": null,
      "metadata": {
        "id": "zrtooTlbOnjI"
      },
      "outputs": [],
      "source": [
        "# Run the cellular automata simulation for 5 iterations with an initial population count of 10 at each pixel\n",
        "new_data = cellularautomata.run_ca_iterations(5, data_list, population_num=10)"
      ]
    },
    {
      "cell_type": "markdown",
      "metadata": {
        "id": "ts4DP8fUOnjI"
      },
      "source": [
        "**rasterconvert.process_raster_data(input_raster_path, output_raster_path, new_data, nodata_value)**:\n",
        "- Create a raster template based on the input raster, process the raster data by replacing pixel values with the new data."
      ]
    },
    {
      "cell_type": "code",
      "execution_count": null,
      "metadata": {
        "id": "Zpr-vAgfOnjI"
      },
      "outputs": [],
      "source": [
        "rasterconvert.process_raster_data(input_raster_path, output_raster_path, new_data, 0)"
      ]
    }
  ],
  "metadata": {
    "colab": {
      "provenance": []
    },
    "kernelspec": {
      "display_name": "Python 3",
      "language": "python",
      "name": "python3"
    },
    "language_info": {
      "codemirror_mode": {
        "name": "ipython",
        "version": 3
      },
      "file_extension": ".py",
      "mimetype": "text/x-python",
      "name": "python",
      "nbconvert_exporter": "python",
      "pygments_lexer": "ipython3",
      "version": "0.0.0"
    }
  },
  "nbformat": 4,
  "nbformat_minor": 0
}
