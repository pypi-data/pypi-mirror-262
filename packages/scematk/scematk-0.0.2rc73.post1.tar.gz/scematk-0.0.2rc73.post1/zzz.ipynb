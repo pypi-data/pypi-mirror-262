{
 "cells": [
  {
   "cell_type": "code",
   "execution_count": 1,
   "metadata": {},
   "outputs": [
    {
     "ename": "ImportError",
     "evalue": "cannot import name 'RGBToLAB' from 'scematk.process.colour._lab_transform' (/Users/hwarden/Documents/scematk/env/lib/python3.12/site-packages/scematk/process/colour/_lab_transform.py)",
     "output_type": "error",
     "traceback": [
      "\u001b[0;31m---------------------------------------------------------------------------\u001b[0m",
      "\u001b[0;31mImportError\u001b[0m                               Traceback (most recent call last)",
      "Cell \u001b[0;32mIn[1], line 2\u001b[0m\n\u001b[1;32m      1\u001b[0m \u001b[38;5;28;01mfrom\u001b[39;00m \u001b[38;5;21;01mscematk\u001b[39;00m\u001b[38;5;21;01m.\u001b[39;00m\u001b[38;5;21;01mprocess\u001b[39;00m \u001b[38;5;28;01mimport\u001b[39;00m Processor\n\u001b[0;32m----> 2\u001b[0m \u001b[38;5;28;01mfrom\u001b[39;00m \u001b[38;5;21;01mscematk\u001b[39;00m\u001b[38;5;21;01m.\u001b[39;00m\u001b[38;5;21;01mprocess\u001b[39;00m\u001b[38;5;21;01m.\u001b[39;00m\u001b[38;5;21;01mcolour\u001b[39;00m \u001b[38;5;28;01mimport\u001b[39;00m RGBToGrey, GreyToOD\n\u001b[1;32m      4\u001b[0m processor \u001b[38;5;241m=\u001b[39m Processor()\u001b[38;5;241m.\u001b[39madd_process(RGBToGrey())\u001b[38;5;241m.\u001b[39madd_process(GreyToOD())\n\u001b[1;32m      5\u001b[0m processor\n",
      "File \u001b[0;32m~/Documents/scematk/env/lib/python3.12/site-packages/scematk/process/colour/__init__.py:3\u001b[0m\n\u001b[1;32m      1\u001b[0m \u001b[38;5;28;01mfrom\u001b[39;00m \u001b[38;5;21;01m.\u001b[39;00m\u001b[38;5;21;01m_grey_transform\u001b[39;00m \u001b[38;5;28;01mimport\u001b[39;00m RGBToGrey\n\u001b[1;32m      2\u001b[0m \u001b[38;5;28;01mfrom\u001b[39;00m \u001b[38;5;21;01m.\u001b[39;00m\u001b[38;5;21;01m_hsv_transform\u001b[39;00m \u001b[38;5;28;01mimport\u001b[39;00m RGBToHSV\n\u001b[0;32m----> 3\u001b[0m \u001b[38;5;28;01mfrom\u001b[39;00m \u001b[38;5;21;01m.\u001b[39;00m\u001b[38;5;21;01m_lab_transform\u001b[39;00m \u001b[38;5;28;01mimport\u001b[39;00m RGBToLAB\n\u001b[1;32m      4\u001b[0m \u001b[38;5;28;01mfrom\u001b[39;00m \u001b[38;5;21;01m.\u001b[39;00m\u001b[38;5;21;01m_od_transform\u001b[39;00m \u001b[38;5;28;01mimport\u001b[39;00m GreyToOD, RGBToOD\n\u001b[1;32m      6\u001b[0m __all__ \u001b[38;5;241m=\u001b[39m [\n\u001b[1;32m      7\u001b[0m     \u001b[38;5;124m\"\u001b[39m\u001b[38;5;124mRGBToGrey\u001b[39m\u001b[38;5;124m\"\u001b[39m,\n\u001b[1;32m      8\u001b[0m     \u001b[38;5;124m\"\u001b[39m\u001b[38;5;124mRGBToHSV\u001b[39m\u001b[38;5;124m\"\u001b[39m,\n\u001b[0;32m   (...)\u001b[0m\n\u001b[1;32m     11\u001b[0m     \u001b[38;5;124m\"\u001b[39m\u001b[38;5;124mRGBToOD\u001b[39m\u001b[38;5;124m\"\u001b[39m,\n\u001b[1;32m     12\u001b[0m ]\n",
      "\u001b[0;31mImportError\u001b[0m: cannot import name 'RGBToLAB' from 'scematk.process.colour._lab_transform' (/Users/hwarden/Documents/scematk/env/lib/python3.12/site-packages/scematk/process/colour/_lab_transform.py)"
     ]
    }
   ],
   "source": [
    "from scematk.process import Processor\n",
    "from scematk.process.colour import RGBToGrey, GreyToOD\n",
    "\n",
    "processor = Processor().add_process(RGBToGrey()).add_process(GreyToOD())\n",
    "processor"
   ]
  },
  {
   "cell_type": "code",
   "execution_count": null,
   "metadata": {},
   "outputs": [],
   "source": []
  }
 ],
 "metadata": {
  "kernelspec": {
   "display_name": "Python 3",
   "language": "python",
   "name": "python3"
  },
  "language_info": {
   "codemirror_mode": {
    "name": "ipython",
    "version": 3
   },
   "file_extension": ".py",
   "mimetype": "text/x-python",
   "name": "python",
   "nbconvert_exporter": "python",
   "pygments_lexer": "ipython3",
   "version": "3.12.2"
  }
 },
 "nbformat": 4,
 "nbformat_minor": 2
}
