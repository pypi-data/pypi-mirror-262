{
 "cells": [
  {
   "cell_type": "markdown",
   "metadata": {},
   "source": [
    "## Testing Notebook\n"
   ]
  },
  {
   "cell_type": "code",
   "execution_count": null,
   "metadata": {},
   "outputs": [],
   "source": [
    "%load_ext autoreload\n",
    "%autoreload 2\n",
    "\n",
    "from fibsem import utils, acquire, patterning\n",
    "from fibsem.structures import BeamType\n",
    "from pprint import pprint\n",
    "import matplotlib.pyplot as plt\n",
    "\n",
    "\n",
    "microscope, settings = utils.setup_session()"
   ]
  },
  {
   "cell_type": "code",
   "execution_count": null,
   "metadata": {},
   "outputs": [],
   "source": [
    "## apply configuration\n",
    "\n",
    "microscope.apply_configuration()\n",
    "\n",
    "\n",
    "electron = microscope.get_beam_system_settings(beam_type=BeamType.ELECTRON)\n",
    "pprint(electron.to_dict())\n",
    "\n",
    "ion = microscope.get_beam_system_settings(beam_type=BeamType.ION)\n",
    "pprint(ion.to_dict())\n",
    "\n"
   ]
  },
  {
   "cell_type": "code",
   "execution_count": null,
   "metadata": {},
   "outputs": [],
   "source": [
    "# flat to beams\n",
    "microscope.move_flat_to_beam(beam_type=BeamType.ELECTRON)"
   ]
  },
  {
   "cell_type": "code",
   "execution_count": null,
   "metadata": {},
   "outputs": [],
   "source": [
    "microscope.move_flat_to_beam(beam_type=BeamType.ION)"
   ]
  },
  {
   "cell_type": "code",
   "execution_count": null,
   "metadata": {},
   "outputs": [],
   "source": [
    "state = microscope.get_microscope_state()\n",
    "\n",
    "pprint(state.to_dict())"
   ]
  },
  {
   "cell_type": "code",
   "execution_count": null,
   "metadata": {},
   "outputs": [],
   "source": [
    "# move to state\n",
    "microscope.set_microscope_state(state)"
   ]
  },
  {
   "cell_type": "code",
   "execution_count": null,
   "metadata": {},
   "outputs": [],
   "source": [
    "## manipulator\n",
    "\n",
    "microscope.insert_manipulator(\"PARK\")\n",
    "\n",
    "\n",
    "settings.image.hfw = 400e-6\n",
    "eb_image, ib_image = acquire.take_reference_images(microscope, settings.image)\n",
    "\n",
    "fig, ax = plt.subplots(1,2, figsize=(10,5))\n",
    "ax[0].imshow(eb_image.data, cmap=\"gray\")\n",
    "ax[1].imshow(ib_image.data, cmap=\"gray\")\n",
    "\n",
    "plt.show()\n"
   ]
  },
  {
   "cell_type": "code",
   "execution_count": null,
   "metadata": {},
   "outputs": [],
   "source": [
    "\n",
    "from autolamella.workflows import actions\n",
    "actions.move_needle_to_liftout_position(microscope)\n",
    "\n",
    "settings.image.hfw = 400e-6\n",
    "eb_image, ib_image = acquire.take_reference_images(microscope, settings.image)\n",
    "\n",
    "fig, ax = plt.subplots(1,2, figsize=(10,5))\n",
    "ax[0].imshow(eb_image.data, cmap=\"gray\")\n",
    "ax[1].imshow(ib_image.data, cmap=\"gray\")\n",
    "\n",
    "plt.show()\n"
   ]
  },
  {
   "cell_type": "code",
   "execution_count": null,
   "metadata": {},
   "outputs": [],
   "source": [
    "microscope.move_manipulator_corrected(dx=10e-6, dy=10e-6, beam_type=BeamType.ELECTRON)\n",
    "\n",
    "settings.image.hfw = 400e-6\n",
    "eb_image, ib_image = acquire.take_reference_images(microscope, settings.image)\n",
    "\n",
    "fig, ax = plt.subplots(1,2, figsize=(10,5))\n",
    "ax[0].imshow(eb_image.data, cmap=\"gray\")\n",
    "ax[1].imshow(ib_image.data, cmap=\"gray\")\n",
    "\n",
    "plt.show()\n",
    "\n",
    "microscope.move_manipulator_corrected(dx=10e-6, dy=10e-6, beam_type=BeamType.ION)\n",
    "\n",
    "settings.image.hfw = 400e-6\n",
    "eb_image, ib_image = acquire.take_reference_images(microscope, settings.image)\n",
    "\n",
    "fig, ax = plt.subplots(1,2, figsize=(10,5))\n",
    "ax[0].imshow(eb_image.data, cmap=\"gray\")\n",
    "ax[1].imshow(ib_image.data, cmap=\"gray\")\n",
    "\n",
    "plt.show()"
   ]
  },
  {
   "cell_type": "code",
   "execution_count": null,
   "metadata": {},
   "outputs": [],
   "source": [
    "# chamber camera\n",
    "image = microscope.acquire_chamber_image()\n",
    "\n",
    "plt.imshow(image.data, cmap=\"gray\")\n",
    "plt.show()\n"
   ]
  },
  {
   "cell_type": "code",
   "execution_count": null,
   "metadata": {},
   "outputs": [],
   "source": [
    "# waffle dry run - full\n",
    "\n",
    "# serial liftout - prep, mill trench, liftout"
   ]
  },
  {
   "cell_type": "code",
   "execution_count": null,
   "metadata": {},
   "outputs": [],
   "source": [
    "%load_ext autoreload\n",
    "%autoreload 2\n",
    "\n",
    "from fibsem import utils, acquire, patterning\n"
   ]
  },
  {
   "cell_type": "code",
   "execution_count": null,
   "metadata": {},
   "outputs": [],
   "source": []
  },
  {
   "cell_type": "code",
   "execution_count": null,
   "metadata": {},
   "outputs": [],
   "source": [
    "\n",
    "microscope, settings = utils.setup_session(protocol_path=\"../../autolamella/autolamella/protocol/protocol-serial-liftout.yaml\")\n",
    "\n",
    "from fibsem.structures import BeamType\n",
    "settings.image.hfw = 80e-6\n",
    "settings.image.beam_type = BeamType.ION\n",
    "image = acquire.acquire_image(microscope, settings.image)\n",
    "\n",
    "stages = patterning.get_milling_stages(\"prepare-copper-release\", settings.protocol[\"milling\"])\n",
    "\n",
    "\n",
    "from fibsem.ui.utils import _draw_milling_stages_on_image\n",
    "\n",
    "# plot\n",
    "fig = _draw_milling_stages_on_image(image, stages)\n"
   ]
  },
  {
   "cell_type": "code",
   "execution_count": null,
   "metadata": {},
   "outputs": [],
   "source": []
  },
  {
   "cell_type": "markdown",
   "metadata": {},
   "source": [
    "### Archive Models\n"
   ]
  },
  {
   "cell_type": "code",
   "execution_count": null,
   "metadata": {},
   "outputs": [],
   "source": [
    "from fibsem.segmentation.model import load_model\n",
    "\n",
    "\n",
    "import glob, os\n",
    "\n",
    "from fibsem.structures import FibsemImage\n",
    "from fibsem.detection import detection\n",
    "\n",
    "# image = FibsemImage.load(\"../fibsem/detection/test_image.tif\")\n",
    "\n",
    "model = load_model(\"archive/autoliftout-latest.pt\")\n",
    "\n",
    "\n",
    "\n",
    "PATH = \"/home/patrick/github/data/autolamella-paper/model-development/train/liftout/test\"\n",
    "\n",
    "filenames = glob.glob(os.path.join(PATH, \"*.tif\"))\n",
    "\n",
    "for fname in filenames[:10]:\n",
    "    image = FibsemImage.load(fname)\n",
    "    features = [detection.NeedleTip(), detection.LamellaRightEdge()]\n",
    "    det = detection.detect_features(image, model, features)\n",
    "    detection.plot_detection(det)\n",
    "\n"
   ]
  },
  {
   "cell_type": "markdown",
   "metadata": {},
   "source": [
    "#### Serial Liftout examples"
   ]
  },
  {
   "cell_type": "code",
   "execution_count": null,
   "metadata": {},
   "outputs": [],
   "source": [
    "%load_ext autoreload\n",
    "%autoreload 2\n",
    "\n",
    "\n",
    "from fibsem.segmentation.model import load_model\n",
    "from fibsem.segmentation.utils import plot_segmentations\n",
    "import glob, os\n",
    "import matplotlib.pyplot as plt\n",
    "\n",
    "model = load_model(\"autolamella-serial-liftout-20240107.pt\")\n",
    "\n",
    "filenames = [\"00065\", \"00089\", \"00146\", \n",
    "             \"03691\", \"03870\", \"07670\", \n",
    "             \"06477\", \"08041\", \"08229\"]\n",
    "\n",
    "\n",
    "SAVE_PATH = \"/home/patrick/github/data/autolamella-paper/model-development/eval/serial-liftout-v1/best-v1\"\n",
    "\n",
    "for fname in filenames:\n",
    "    print(fname)\n",
    "    image = FibsemImage.load(f\"/home/patrick/github/data/autolamella-paper/model-development/train/serial-liftout/test/{fname}.tif\")\n",
    "\n",
    "    mask = model.inference(image.data, rgb=False)[0]    \n",
    "    \n",
    "\n",
    "    fig = plot_segmentations(image, mask)\n",
    "\n",
    "    # save figure, dpi=300, no axes\n",
    "    fig.savefig(os.path.join(SAVE_PATH, f\"{fname}.png\"), dpi=300, bbox_inches=\"tight\", pad_inches=0)\n",
    "    plt.close(fig)\n",
    "\n"
   ]
  },
  {
   "cell_type": "code",
   "execution_count": null,
   "metadata": {},
   "outputs": [],
   "source": [
    "import tifffile as tff\n",
    "import os\n",
    "\n",
    "input_path = \"/home/patrick/github/data/mmtest/\"\n",
    "output_path = os.path.join(input_path, \"sliced\")\n",
    "os.makedirs(output_path, exist_ok=True)\n",
    "\n",
    "# read full image\n",
    "filename = os.path.join(input_path, \"MM001.tif\")\n",
    "image = tff.imread(filename)\n",
    "print(image.shape)\n",
    "for i in range(image.shape[0]):\n",
    "\n",
    "    basename = os.path.basename(filename).replace(\".tif\", f\"_{i:04d}.tif\")\n",
    "    print(f\"Saving slice {i} as {basename}.\")\n",
    "\n",
    "    # save as tiff\n",
    "    tff.imwrite(os.path.join(output_path, basename), image[i])\n",
    "\n"
   ]
  },
  {
   "cell_type": "code",
   "execution_count": null,
   "metadata": {},
   "outputs": [],
   "source": []
  },
  {
   "cell_type": "markdown",
   "metadata": {},
   "source": [
    "### MMTEST\n"
   ]
  },
  {
   "cell_type": "code",
   "execution_count": 9,
   "metadata": {},
   "outputs": [
    {
     "name": "stdout",
     "output_type": "stream",
     "text": [
      "(2048, 2048) uint8\n",
      "(2048, 2048) uint8\n",
      "(2048, 2048) uint8\n",
      "(2048, 2048) uint8\n",
      "(2048, 2048) uint8\n"
     ]
    }
   ],
   "source": [
    "PATH = \"/home/patrick/github/data/mmtest/raw_images/labels\"\n",
    "\n",
    "import os, glob\n",
    "\n",
    "filenames = glob.glob(os.path.join(PATH, \"**.tif\"))  \n",
    "\n",
    "\n",
    "import tifffile as tff\n",
    "\n",
    "for fname in filenames:\n",
    "    image = tff.imread(fname)\n",
    "    print(image.shape, image.dtype)\n",
    "\n",
    "\n",
    "    # convert to uint8\n",
    "    # image = image.astype(\"uint8\")\n",
    "    # tff.imwrite(fname, image)"
   ]
  },
  {
   "cell_type": "code",
   "execution_count": null,
   "metadata": {},
   "outputs": [],
   "source": []
  }
 ],
 "metadata": {
  "kernelspec": {
   "display_name": "fibsem",
   "language": "python",
   "name": "python3"
  },
  "language_info": {
   "codemirror_mode": {
    "name": "ipython",
    "version": 3
   },
   "file_extension": ".py",
   "mimetype": "text/x-python",
   "name": "python",
   "nbconvert_exporter": "python",
   "pygments_lexer": "ipython3",
   "version": "3.9.18"
  }
 },
 "nbformat": 4,
 "nbformat_minor": 2
}
