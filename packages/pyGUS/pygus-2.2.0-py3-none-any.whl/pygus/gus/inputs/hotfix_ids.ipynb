{
 "cells": [
  {
   "cell_type": "code",
   "execution_count": 7,
   "metadata": {},
   "outputs": [
    {
     "data": {
      "text/html": [
       "<div>\n",
       "<style scoped>\n",
       "    .dataframe tbody tr th:only-of-type {\n",
       "        vertical-align: middle;\n",
       "    }\n",
       "\n",
       "    .dataframe tbody tr th {\n",
       "        vertical-align: top;\n",
       "    }\n",
       "\n",
       "    .dataframe thead th {\n",
       "        text-align: right;\n",
       "    }\n",
       "</style>\n",
       "<table border=\"1\" class=\"dataframe\">\n",
       "  <thead>\n",
       "    <tr style=\"text-align: right;\">\n",
       "      <th></th>\n",
       "      <th>Unnamed: 0</th>\n",
       "      <th>id</th>\n",
       "      <th>species</th>\n",
       "      <th>height</th>\n",
       "      <th>dbh</th>\n",
       "      <th>lat</th>\n",
       "      <th>lng</th>\n",
       "      <th>condition</th>\n",
       "    </tr>\n",
       "  </thead>\n",
       "  <tbody>\n",
       "    <tr>\n",
       "      <th>0</th>\n",
       "      <td>0</td>\n",
       "      <td>30469</td>\n",
       "      <td>acer pseudoplatanus</td>\n",
       "      <td>9</td>\n",
       "      <td>5.08</td>\n",
       "      <td>52.329086</td>\n",
       "      <td>4.894478</td>\n",
       "      <td>fair</td>\n",
       "    </tr>\n",
       "    <tr>\n",
       "      <th>1</th>\n",
       "      <td>1</td>\n",
       "      <td>28796</td>\n",
       "      <td>fagus sylvatica</td>\n",
       "      <td>6</td>\n",
       "      <td>2.54</td>\n",
       "      <td>52.334703</td>\n",
       "      <td>4.852537</td>\n",
       "      <td>good</td>\n",
       "    </tr>\n",
       "    <tr>\n",
       "      <th>2</th>\n",
       "      <td>2</td>\n",
       "      <td>32778</td>\n",
       "      <td>pinus nigra</td>\n",
       "      <td>18</td>\n",
       "      <td>12.70</td>\n",
       "      <td>52.329103</td>\n",
       "      <td>4.893633</td>\n",
       "      <td>excellent</td>\n",
       "    </tr>\n",
       "    <tr>\n",
       "      <th>3</th>\n",
       "      <td>3</td>\n",
       "      <td>21947</td>\n",
       "      <td>tilia cordata</td>\n",
       "      <td>24</td>\n",
       "      <td>17.78</td>\n",
       "      <td>52.325920</td>\n",
       "      <td>4.892907</td>\n",
       "      <td>fair</td>\n",
       "    </tr>\n",
       "    <tr>\n",
       "      <th>4</th>\n",
       "      <td>4</td>\n",
       "      <td>22883</td>\n",
       "      <td>fraxinus excelsior</td>\n",
       "      <td>24</td>\n",
       "      <td>17.78</td>\n",
       "      <td>52.326184</td>\n",
       "      <td>4.892449</td>\n",
       "      <td>good</td>\n",
       "    </tr>\n",
       "  </tbody>\n",
       "</table>\n",
       "</div>"
      ],
      "text/plain": [
       "   Unnamed: 0     id              species  height    dbh        lat       lng  \\\n",
       "0           0  30469  acer pseudoplatanus       9   5.08  52.329086  4.894478   \n",
       "1           1  28796      fagus sylvatica       6   2.54  52.334703  4.852537   \n",
       "2           2  32778          pinus nigra      18  12.70  52.329103  4.893633   \n",
       "3           3  21947        tilia cordata      24  17.78  52.325920  4.892907   \n",
       "4           4  22883   fraxinus excelsior      24  17.78  52.326184  4.892449   \n",
       "\n",
       "   condition  \n",
       "0       fair  \n",
       "1       good  \n",
       "2  excellent  \n",
       "3       fair  \n",
       "4       good  "
      ]
     },
     "execution_count": 7,
     "metadata": {},
     "output_type": "execute_result"
    }
   ],
   "source": [
    "import os\n",
    "import pandas as pd\n",
    "import numpy as np\n",
    "from pygus.gus.utilities import filter_dataframe_to_bounding_box\n",
    "df = pd.read_csv(os.path.join(\"adam_bbox.csv\"))\n",
    "df.head()"
   ]
  },
  {
   "cell_type": "code",
   "execution_count": 8,
   "metadata": {},
   "outputs": [],
   "source": [
    "# replace id column with ascending integers\n",
    "df[\"id\"] = np.arange(0,1000)\n",
    "df.to_csv(\"amsterdam_all_trees_1000_species.csv\", index=False)"
   ]
  },
  {
   "cell_type": "code",
   "execution_count": null,
   "metadata": {},
   "outputs": [],
   "source": []
  }
 ],
 "metadata": {
  "kernelspec": {
   "display_name": ".venv",
   "language": "python",
   "name": "python3"
  },
  "language_info": {
   "codemirror_mode": {
    "name": "ipython",
    "version": 3
   },
   "file_extension": ".py",
   "mimetype": "text/x-python",
   "name": "python",
   "nbconvert_exporter": "python",
   "pygments_lexer": "ipython3",
   "version": "3.10.13"
  }
 },
 "nbformat": 4,
 "nbformat_minor": 2
}
