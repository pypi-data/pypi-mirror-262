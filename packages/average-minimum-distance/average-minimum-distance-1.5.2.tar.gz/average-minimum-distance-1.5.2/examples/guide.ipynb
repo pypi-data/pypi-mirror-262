{
 "cells": [
  {
   "cell_type": "code",
   "execution_count": 4,
   "metadata": {},
   "outputs": [],
   "source": [
    "# run to pretty-print results\n",
    "import numpy as np\n",
    "import warnings\n",
    "np.set_printoptions(precision=5, suppress=True)\n",
    "warnings.filterwarnings(\"ignore\", category=DeprecationWarning)"
   ]
  },
  {
   "attachments": {},
   "cell_type": "markdown",
   "metadata": {},
   "source": [
    "Install ``average-minimum-distance`` with pip:\n",
    "```shell\n",
    "$ pip install average-minimum-distance\n",
    "```\n",
    "\n",
    "\n",
    "``amd.compare()`` compares crystals from CIF files by AMD or PDD descriptors, for example"
   ]
  },
  {
   "cell_type": "code",
   "execution_count": 5,
   "metadata": {},
   "outputs": [
    {
     "name": "stdout",
     "output_type": "stream",
     "text": [
      "           crystal_1  crystal_2  crystal_3  crystal_4\n",
      "crystal_1   0.000000   1.319907   0.975221   2.023880\n",
      "crystal_2   1.319907   0.000000   0.520115   0.703973\n",
      "crystal_3   0.975221   0.520115   0.000000   1.072211\n",
      "crystal_4   2.023880   0.703973   1.072211   0.000000 \n",
      "\n",
      "              crystal_1  crystal_2  crystal_3  crystal_4\n",
      "crystal_1_v2    0.05948   1.353296   1.001504   2.046805\n"
     ]
    }
   ],
   "source": [
    "import amd\n",
    "\n",
    "# compare items in example_crystals.cif pairwise by AMD, k=100\n",
    "df = amd.compare('example_crystals.cif', by='AMD', k=100)\n",
    "print(df, '\\n')\n",
    "# compare item in this cif against items in the other by PDD, k=100\n",
    "df = amd.compare('example_crystal_1_v2.cif', 'example_crystals.cif', by='PDD', k=100)\n",
    "print(df)"
   ]
  },
  {
   "attachments": {},
   "cell_type": "markdown",
   "metadata": {},
   "source": [
    "The distance matrix returned is a pandas DataFrame. ``amd.compare()`` can also accept paths to folders or lists of paths.\n",
    "\n",
    "``amd.compare()`` reads crystals from CIFs, calculates their descriptors and compares them, but these steps can be done separately if needed (see below). ``amd.compare()`` accepts several optional parameters, see [the documentation for a full list](https://average-minimum-distance.readthedocs.io/en/latest/Getting_Started.html#list-of-optional-parameters)."
   ]
  },
  {
   "cell_type": "markdown",
   "metadata": {},
   "source": [
    "# Reading cifs"
   ]
  },
  {
   "attachments": {},
   "cell_type": "markdown",
   "metadata": {},
   "source": [
    "To read CIF files, use ```amd.CifReader``` (the .cifs used in this notebook can be found in the examples folder). If any structure in a cif cannot be read into a periodic set, it is skipped and a warning is printed. The reader yields ```PeriodicSet``` objects, which can be handed directly to the AMD/PDD calculator functions below."
   ]
  },
  {
   "cell_type": "code",
   "execution_count": 4,
   "metadata": {},
   "outputs": [
    {
     "name": "stdout",
     "output_type": "stream",
     "text": [
      "PeriodicSet(crystal_1: 92 points (92 asym) in 3 dims, abcαβγ=23.22,23.23,7.28,90,90,120)\n",
      "PeriodicSet(crystal_2: 92 points (92 asym) in 3 dims, abcαβγ=7.25,13.04,20.66,72.46,86.35,74.04)\n",
      "PeriodicSet(crystal_3: 184 points (184 asym) in 3 dims, abcαβγ=22.32,22.32,7.33,90,90,90)\n",
      "PeriodicSet(crystal_4: 184 points (184 asym) in 3 dims, abcαβγ=21.49,7.28,14.91,90,81.69,90)\n"
     ]
    }
   ],
   "source": [
    "import amd\n",
    "\n",
    "# Read a cif with more than one structure into a list\n",
    "periodic_sets = list(amd.CifReader('example_crystals.cif'))\n",
    "\n",
    "# Lazily reads a cif with more than one structure\n",
    "for periodic_set in amd.CifReader('example_crystals.cif'):\n",
    "    print(periodic_set)\n",
    "\n",
    "# .read() returns one periodic set if there is exactly one, otherwise returns a list.\n",
    "structure = amd.CifReader('example_crystals.cif').read()"
   ]
  },
  {
   "attachments": {},
   "cell_type": "markdown",
   "metadata": {},
   "source": [
    "Setting ```remove_hydrogens=True``` will remove Hydrogen atoms. See https://average-minimum-distance.readthedocs.io/en/latest/Reading_cifs.html for a list of all optional arguments, e.g. for handling disorder."
   ]
  },
  {
   "cell_type": "code",
   "execution_count": 5,
   "metadata": {},
   "outputs": [
    {
     "name": "stdout",
     "output_type": "stream",
     "text": [
      "[8 7 6 6 6 6 6 1 1 1 8 7 6 6 6 6 1 1 8 7 6 6 6 6 1 1 7 6 6 6 6 1 1 1 7 6 6\n",
      " 6 1 1 7 6 6 6 1 1 8 7 6 6 6 6 6 1 1 1 8 7 6 6 6 6 1 1 8 7 6 6 6 6 1 1 7 6\n",
      " 6 6 6 1 1 1 7 6 6 6 1 1 7 6 6 6 1 1]\n",
      "[8 7 6 6 6 6 6 8 7 6 6 6 6 8 7 6 6 6 6 7 6 6 6 6 7 6 6 6 7 6 6 6 8 7 6 6 6\n",
      " 6 6 8 7 6 6 6 6 8 7 6 6 6 6 7 6 6 6 6 7 6 6 6 7 6 6 6]\n"
     ]
    }
   ],
   "source": [
    "import amd\n",
    "\n",
    "# T2_gamma.cif contains one crystal\n",
    "c1_withH = amd.CifReader('example_crystal_1_v2.cif').read()\n",
    "print(c1_withH.types)  # atomic numbers\n",
    "c1_noH = amd.CifReader('example_crystal_1_v2.cif', remove_hydrogens=True).read()\n",
    "print(c1_noH.types)"
   ]
  },
  {
   "cell_type": "markdown",
   "metadata": {},
   "source": [
    "# Calculating AMDs and PDDs"
   ]
  },
  {
   "attachments": {},
   "cell_type": "markdown",
   "metadata": {},
   "source": [
    "The functions ```amd.AMD``` and ```amd.PDD``` take a crystal (and an integer parameter ```k```) and calculate a descriptor. The crystal can be either an output of a ``CifReader``, or you can manually make a pair of NumPy arrays (motif, cell). ``k`` is the number of neighbouring atoms to consider for each atom in a unit cell; generally ``k=100`` is a sensible value to make structurally similar crystals have close distances.\n",
    "\n",
    "An AMD is a vector length ``k``, while a PDD is a matrix with ``k+1`` columns (the first column contains weights of each row) and generally one row for each symmetrically unique motif point."
   ]
  },
  {
   "cell_type": "code",
   "execution_count": 19,
   "metadata": {},
   "outputs": [
    {
     "name": "stdout",
     "output_type": "stream",
     "text": [
      "[1.09496 1.6112  1.63668 2.16994 2.32097 2.46125 2.5297  2.68423 2.76638\n",
      " 2.94424 3.14361 3.34288 3.43191 3.60956 3.71822 3.89075 3.96334 4.07937\n",
      " 4.13787 4.32556 4.4114  4.49442 4.58891 4.65277 4.69401 4.78252 4.84996\n",
      " 4.91108 4.96605 5.07076 5.19625 5.29167 5.34259 5.39523 5.48512 5.59889\n",
      " 5.66037 5.74949 5.81719 5.87116 5.92866 5.96055 6.03031 6.11592 6.15089\n",
      " 6.21287 6.24386 6.35346 6.3785  6.42105 6.50781 6.54674 6.5997  6.64295\n",
      " 6.72106 6.81119 6.85539 6.88668 6.92079 6.94661 6.96826 7.02369 7.0654\n",
      " 7.11497 7.17574 7.21257 7.28026 7.34532 7.40293 7.45709 7.45987 7.51745\n",
      " 7.56279 7.59403 7.62179 7.68789 7.71134 7.78182 7.80129 7.83915 7.87106\n",
      " 7.91019 7.94117 7.97491 7.98909 8.03783 8.10649 8.13512 8.15912 8.24342\n",
      " 8.26936 8.31808 8.34697 8.4137  8.43892 8.47465 8.48789 8.51937 8.58087\n",
      " 8.66164]\n"
     ]
    }
   ],
   "source": [
    "import amd\n",
    "\n",
    "k = 100\n",
    "# crystal_1_v2.cif contains one crystal\n",
    "gamma = amd.CifReader('example_crystal_1_v2.cif').read()\n",
    "gamma_amd = amd.AMD(gamma, k)\n",
    "print(gamma_amd)\n",
    "\n",
    "# List of amds from a .cif with several structures\n",
    "exp_structures = amd.CifReader('example_crystals.cif')\n",
    "exp_amds = [amd.AMD(periodic_set, k) for periodic_set in exp_structures]"
   ]
  },
  {
   "cell_type": "code",
   "execution_count": 18,
   "metadata": {},
   "outputs": [
    {
     "name": "stdout",
     "output_type": "stream",
     "text": [
      "PDD dims: (40, 101)\n",
      "weights: [0.02174 0.02174 0.02174 0.02174 0.02174 0.02174 0.02174 0.02174 0.04348\n",
      " 0.04348 0.02174 0.02174 0.02174 0.02174 0.02174 0.02174 0.02174 0.02174\n",
      " 0.04348 0.04348 0.02174 0.02174 0.02174 0.02174 0.02174 0.02174 0.02174\n",
      " 0.02174 0.02174 0.02174 0.02174 0.02174 0.02174 0.02174 0.04348 0.02174\n",
      " 0.02174 0.02174 0.02174 0.04348]\n",
      "distances: [[0.89126 1.36137 1.38153 ... 8.93477 9.01536 9.03127]\n",
      " [0.89126 1.92567 1.96379 ... 8.82148 8.82157 8.92923]\n",
      " [0.89126 1.36137 1.38153 ... 8.93477 9.01721 9.03127]\n",
      " ...\n",
      " [1.37527 1.38175 1.39694 ... 8.58104 8.61946 8.61976]\n",
      " [1.37527 1.38175 1.39694 ... 8.58104 8.61946 8.61976]\n",
      " [1.3753  1.38179 1.39694 ... 8.58106 8.61955 8.61981]]\n"
     ]
    }
   ],
   "source": [
    "import amd\n",
    "\n",
    "# The PDD interface is the same as AMD\n",
    "gamma = amd.CifReader('example_crystal_1_v2.cif').read()\n",
    "gamma_pdd = amd.PDD(gamma, 100)\n",
    "print('PDD dims:', gamma_pdd.shape)\n",
    "print('weights:', gamma_pdd[:, 0])  # first column has weights\n",
    "print('distances:', gamma_pdd[:, 1:])  # rest of the matrix is distances"
   ]
  },
  {
   "cell_type": "code",
   "execution_count": 20,
   "metadata": {},
   "outputs": [
    {
     "name": "stdout",
     "output_type": "stream",
     "text": [
      "[[1.      1.      1.      1.      1.      1.      1.      1.41421 1.41421\n",
      "  1.41421 1.41421]]\n"
     ]
    }
   ],
   "source": [
    "import amd\n",
    "import numpy as np\n",
    "\n",
    "# AMD/PDD accepts a tuple (motif, cell) of arrays of Cartesian coordinates\n",
    "motif = np.array([[0,0,0]]) # one point at the origin\n",
    "cell = np.identity(3)  # cubic unit cell\n",
    "cubic_pdd = amd.PDD((motif, cell), 10)\n",
    "print(cubic_pdd)"
   ]
  },
  {
   "cell_type": "markdown",
   "metadata": {},
   "source": [
    "# Comparing AMDs and PDDs"
   ]
  },
  {
   "attachments": {},
   "cell_type": "markdown",
   "metadata": {},
   "source": [
    "There are several functions which compare by AMD or PDD. The names 'cdist' and 'pdist' come from SciPy: cdist is for comparing one set against another, whereas pdist takes one set and compares it pairwise.  So to compare with AMDs, use ```amd.AMD_pdist``` or ```amd.AMD_cdist``` and to compare with PDDs use ```amd.PDD_pdist``` or ```amd.PDD_cdist```. The code below compares T2_gamma.cif to structures in T2_experimental.cif by AMD with k = 100:"
   ]
  },
  {
   "cell_type": "code",
   "execution_count": 24,
   "metadata": {},
   "outputs": [
    {
     "name": "stdout",
     "output_type": "stream",
     "text": [
      "crystal_1 0.022073635461426155\n",
      "crystal_3 0.9904434092760033\n",
      "crystal_2 1.3351299035517776\n",
      "crystal_4 2.0391032569149043\n",
      "crystal_5 2.220926933111067\n"
     ]
    }
   ],
   "source": [
    "import amd\n",
    "import numpy as np\n",
    "\n",
    "k = 100\n",
    "crystal_1 = amd.CifReader('example_crystal_1_v2.cif').read()\n",
    "example_structures = list(amd.CifReader('example_crystals.cif'))\n",
    "crystal_1_amd = amd.AMD(crystal_1, k)\n",
    "example_amds = [amd.AMD(s, k) for s in example_structures]\n",
    "# compare crystal_1 AMD against the others\n",
    "dm = amd.AMD_cdist(crystal_1_amd, example_amds)\n",
    "# print structs in T2_experimental in order of distance to T2_gamma \n",
    "for i in np.argsort(dm)[0]:\n",
    "    print(example_structures[i].name, dm[0][i])"
   ]
  },
  {
   "attachments": {},
   "cell_type": "markdown",
   "metadata": {},
   "source": [
    "The output of these functions mimic scipy's [cdist](scipy.spatial.distance.cdist) and [pdist](https://docs.scipy.org/doc/scipy/reference/generated/scipy.spatial.distance.pdist.html), cdist returns a 2D distance matrix and pdist returns a 'condensed distance vector' ([see scipy's squareform](https://docs.scipy.org/doc/scipy/reference/generated/scipy.spatial.distance.squareform.html)).\n",
    "\n",
    "These functions take the same optional arguments. If you want to change the defaults to see the effect on comparisons, details are in the readme and documentation. Briefly, ```metric``` (default 'chebyshev', aka l-infinity) is the metric used to compare AMDs or the rows of PDDs, it can be any metric accepted by [scipy's cdist function](https://docs.scipy.org/doc/scipy/reference/generated/scipy.spatial.distance.cdist.html). ```k``` (default None) is the value of k to use when comparing, it just truncates the inputs to a smaller length if an int. \n",
    "\n",
    " The functions that use PDD also take a parameter ```verbose``` which if true will print an ETA to the terminal."
   ]
  },
  {
   "cell_type": "code",
   "execution_count": 25,
   "metadata": {},
   "outputs": [
    {
     "name": "stdout",
     "output_type": "stream",
     "text": [
      "condensed distance matrix:\n",
      " [1.34387 0.98718 2.03303 2.21326 0.74984 0.78152 0.93999 1.1476  1.29733\n",
      " 0.45593]\n",
      "symmetric 2D distance matrix:\n",
      " [[0.      1.34387 0.98718 2.03303 2.21326]\n",
      " [1.34387 0.      0.74984 0.78152 0.93999]\n",
      " [0.98718 0.74984 0.      1.1476  1.29733]\n",
      " [2.03303 0.78152 1.1476  0.      0.45593]\n",
      " [2.21326 0.93999 1.29733 0.45593 0.     ]]\n"
     ]
    }
   ],
   "source": [
    "import amd\n",
    "\n",
    "k = 100\n",
    "example_structs = list(amd.CifReader('example_crystals.cif'))\n",
    "example_pdds = [amd.PDD(periodic_set, k) for periodic_set in example_structs]\n",
    "\n",
    "# compare experimental structures pairwise, return a condensed distance matrix\n",
    "cdm = amd.PDD_pdist(example_pdds)\n",
    "print('condensed distance matrix:\\n', cdm)\n",
    "\n",
    "# This converts the condensed distance matrix to a 2D symmetric distance matrix\n",
    "from scipy.spatial.distance import squareform\n",
    "dm = squareform(cdm)\n",
    "print('symmetric 2D distance matrix:\\n', dm)"
   ]
  }
 ],
 "metadata": {
  "interpreter": {
   "hash": "b8c8c5ce77f0a56d737781878b0ca562042a67810df8c1d8f961440ba451b97c"
  },
  "kernelspec": {
   "display_name": "Python 3.7.0 64-bit ('Python37')",
   "name": "python3"
  },
  "language_info": {
   "codemirror_mode": {
    "name": "ipython",
    "version": 3
   },
   "file_extension": ".py",
   "mimetype": "text/x-python",
   "name": "python",
   "nbconvert_exporter": "python",
   "pygments_lexer": "ipython3",
   "version": "3.9.13"
  },
  "orig_nbformat": 3
 },
 "nbformat": 4,
 "nbformat_minor": 2
}
