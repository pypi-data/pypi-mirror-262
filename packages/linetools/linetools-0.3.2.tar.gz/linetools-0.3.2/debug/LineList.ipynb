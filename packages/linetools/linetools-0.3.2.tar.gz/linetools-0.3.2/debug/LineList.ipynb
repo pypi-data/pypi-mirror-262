{
 "cells": [
  {
   "cell_type": "markdown",
   "metadata": {},
   "source": [
    "# Debugging LineList"
   ]
  },
  {
   "cell_type": "markdown",
   "metadata": {},
   "source": [
    "## SII, Cl II bug in Morton 2003"
   ]
  },
  {
   "cell_type": "code",
   "execution_count": 2,
   "metadata": {
    "collapsed": true
   },
   "outputs": [],
   "source": [
    "from linetools.lists import parse as llp\n",
    "from linetools.lists import linelist as lll"
   ]
  },
  {
   "cell_type": "code",
   "execution_count": 15,
   "metadata": {
    "collapsed": false
   },
   "outputs": [
    {
     "name": "stdout",
     "output_type": "stream",
     "text": [
      "linetools.lists.parse: Reading linelist --- \n",
      "   /Users/xavier/local/Python/linetools/linetools/data/lines/morton03_table2.fits.gz\n",
      "linetools.lists.parse: Reading linelist --- \n",
      "   /Users/xavier/local/Python/linetools/linetools/data/lines/morton00_table2.fits.gz\n",
      "linetools.lists.parse: Reading linelist --- \n",
      "   /Users/xavier/local/Python/linetools/linetools/data/lines/verner94_tab6.fits\n",
      "linetools.lists.parse: Reading linelist --- \n",
      "   /Users/xavier/local/Python/linetools/linetools/data/lines/EUV_lines.ascii\n",
      "read_sets: Using set file -- \n",
      "  /Users/xavier/local/Python/linetools/linetools/lists/sets/llist_v0.3.ascii\n"
     ]
    }
   ],
   "source": [
    "ism = lll.LineList('ISM')"
   ]
  },
  {
   "cell_type": "code",
   "execution_count": 16,
   "metadata": {
    "collapsed": false
   },
   "outputs": [
    {
     "data": {
      "text/plain": [
       "{'A': <Quantity 49400000.0 1 / s>,\n",
       " 'Am': 0,\n",
       " 'Ej': <Quantity 0.0 1 / cm>,\n",
       " 'Ek': <Quantity 93999.88 1 / cm>,\n",
       " 'Ex': <Quantity 0.0 1 / cm>,\n",
       " 'Jj': 0.0,\n",
       " 'Jk': 0.0,\n",
       " 'Ref': 'Morton2003',\n",
       " 'Z': 17,\n",
       " 'col0': masked,\n",
       " 'col6': masked,\n",
       " 'el': 0,\n",
       " 'f': 0.0050299999999999997,\n",
       " 'gamma': <Quantity 49400000.0 1 / s>,\n",
       " 'gj': 5,\n",
       " 'gk': 3,\n",
       " 'group': 1,\n",
       " 'ion': 2,\n",
       " 'mol': '',\n",
       " 'name': 'ClII 1063',\n",
       " 'nj': 0,\n",
       " 'nk': 0,\n",
       " 'wrest': <Quantity 1063.8311 Angstrom>}"
      ]
     },
     "execution_count": 16,
     "metadata": {},
     "output_type": "execute_result"
    }
   ],
   "source": [
    "ism['ClII 1063']"
   ]
  },
  {
   "cell_type": "code",
   "execution_count": 19,
   "metadata": {
    "collapsed": false
   },
   "outputs": [
    {
     "data": {
      "text/html": [
       "&lt;QTable masked=True length=2&gt;\n",
       "<table id=\"table4454428432\">\n",
       "<thead><tr><th>A</th><th>el</th><th>nj</th><th>nk</th><th>group</th><th>name</th><th>Ek</th><th>f</th><th>wrest</th><th>Ref</th><th>mol</th><th>Ej</th><th>Am</th><th>ion</th><th>Ex</th><th>Jj</th><th>Jk</th><th>Z</th><th>gk</th><th>gj</th><th>gamma</th><th>col0</th><th>col6</th></tr></thead>\n",
       "<thead><tr><th>1 / s</th><th></th><th></th><th></th><th></th><th></th><th>1 / cm</th><th></th><th>Angstrom</th><th></th><th></th><th>1 / cm</th><th></th><th></th><th>1 / cm</th><th></th><th></th><th></th><th></th><th></th><th>1 / s</th><th></th><th></th></tr></thead>\n",
       "<thead><tr><th>float64</th><th>int64</th><th>int64</th><th>int64</th><th>int64</th><th>string640</th><th>float64</th><th>float64</th><th>float64</th><th>string1600</th><th>string320</th><th>float64</th><th>int64</th><th>int64</th><th>float64</th><th>float64</th><th>float64</th><th>int64</th><th>int64</th><th>int64</th><th>float64</th><th>int64</th><th>int64</th></tr></thead>\n",
       "<tr><td>49400000.0</td><td>0</td><td>0</td><td>0</td><td>1</td><td>ClII 1063</td><td>93999.88</td><td>0.00503</td><td>1063.8311</td><td>Morton2003</td><td></td><td>0.0</td><td>0</td><td>2</td><td>0.0</td><td>0.0</td><td>0.0</td><td>17</td><td>3</td><td>5</td><td>49400000.0</td><td>--</td><td>--</td></tr>\n",
       "<tr><td>87100000.0</td><td>0</td><td>0</td><td>0</td><td>1</td><td>ClII 1071</td><td>93367.56</td><td>0.015</td><td>1071.0358</td><td>Morton2003</td><td></td><td>0.0</td><td>0</td><td>2</td><td>0.0</td><td>0.0</td><td>0.0</td><td>17</td><td>5</td><td>5</td><td>87100000.0</td><td>--</td><td>--</td></tr>\n",
       "</table>"
      ],
      "text/plain": [
       "<QTable masked=True length=2>\n",
       "    A        el    nj    nk  group ...   gk    gj    gamma     col0  col6\n",
       "  1 / s                            ...               1 / s               \n",
       " float64   int64 int64 int64 int64 ... int64 int64  float64   int64 int64\n",
       "---------- ----- ----- ----- ----- ... ----- ----- ---------- ----- -----\n",
       "49400000.0     0     0     0     1 ...     3     5 49400000.0    --    --\n",
       "87100000.0     0     0     0     1 ...     5     5 87100000.0    --    --"
      ]
     },
     "execution_count": 19,
     "metadata": {},
     "output_type": "execute_result"
    }
   ],
   "source": [
    "ism.all_transitions('ClII')"
   ]
  },
  {
   "cell_type": "code",
   "execution_count": 11,
   "metadata": {
    "collapsed": false
   },
   "outputs": [
    {
     "name": "stdout",
     "output_type": "stream",
     "text": [
      "linetools.lists.parse: Reading linelist --- \n",
      "   /Users/xavier/local/Python/linetools/linetools/data/lines/morton03_table2.dat\n",
      "> /Users/xavier/local/Python/linetools/linetools/lists/parse.py(408)parse_morton03()\n",
      "-> tbl[count]['name'] = elmc[gdZ]+ionv[gdi]+' {:d}'.format(\n",
      "(Pdb) elmZ\n",
      "[1, 2, 3, 4, 5, 6, 7, 8, 9, 10, 11, 12, 13, 14, 15, 16, 17, 18, 19, 21, 22, 23, 24, 25, 26, 27, 28, 29, 30, 31]\n",
      "(Pdb) c\n"
     ]
    },
    {
     "data": {
      "text/html": [
       "&lt;Table masked=False length=3293&gt;\n",
       "<table id=\"table4454061968\">\n",
       "<thead><tr><th>A</th><th>el</th><th>nj</th><th>nk</th><th>group</th><th>name</th><th>Ek</th><th>f</th><th>wrest</th><th>Ref</th><th>mol</th><th>Ej</th><th>Am</th><th>ion</th><th>Ex</th><th>Jj</th><th>Jk</th><th>Z</th><th>gk</th><th>gj</th><th>gamma</th></tr></thead>\n",
       "<thead><tr><th>1 / s</th><th></th><th></th><th></th><th></th><th></th><th>1 / cm</th><th></th><th>Angstrom</th><th></th><th></th><th>1 / cm</th><th></th><th></th><th>1 / cm</th><th></th><th></th><th></th><th></th><th></th><th>1 / s</th></tr></thead>\n",
       "<thead><tr><th>float64</th><th>int64</th><th>int64</th><th>int64</th><th>int64</th><th>unicode640</th><th>float64</th><th>float64</th><th>float64</th><th>unicode1600</th><th>unicode320</th><th>float64</th><th>int64</th><th>int64</th><th>float64</th><th>float64</th><th>float64</th><th>int64</th><th>int64</th><th>int64</th><th>float64</th></tr></thead>\n",
       "<tr><td>626500000.0</td><td>0</td><td>0</td><td>0</td><td>1</td><td>HI 1215</td><td>2259.163</td><td>0.4164</td><td>1215.67</td><td>Morton2003</td><td></td><td>0.0</td><td>0</td><td>1</td><td>0.0</td><td>0.0</td><td>0.0</td><td>1</td><td>6</td><td>2</td><td>0.0</td></tr>\n",
       "<tr><td>167300000.0</td><td>0</td><td>0</td><td>0</td><td>1</td><td>HI 1025</td><td>7492.28344</td><td>0.07914</td><td>1025.7222</td><td>Morton2003</td><td></td><td>0.0</td><td>0</td><td>1</td><td>0.0</td><td>0.0</td><td>0.0</td><td>1</td><td>6</td><td>2</td><td>626500000.0</td></tr>\n",
       "<tr><td>68190000.0</td><td>0</td><td>0</td><td>0</td><td>1</td><td>HI 972</td><td>2823.879</td><td>0.02901</td><td>972.5367</td><td>Morton2003</td><td></td><td>0.0</td><td>0</td><td>1</td><td>0.0</td><td>0.0</td><td>0.0</td><td>1</td><td>6</td><td>2</td><td>189700000.0</td></tr>\n",
       "<tr><td>34370000.0</td><td>0</td><td>0</td><td>0</td><td>1</td><td>HI 949</td><td>5291.6442</td><td>0.01395</td><td>949.743</td><td>Morton2003</td><td></td><td>0.0</td><td>0</td><td>1</td><td>0.0</td><td>0.0</td><td>0.0</td><td>1</td><td>6</td><td>2</td><td>81270000.0</td></tr>\n",
       "<tr><td>19730000.0</td><td>0</td><td>0</td><td>0</td><td>1</td><td>HI 937</td><td>6632.1575</td><td>0.007803</td><td>937.8034</td><td>Morton2003</td><td></td><td>0.0</td><td>0</td><td>1</td><td>0.0</td><td>0.0</td><td>0.0</td><td>1</td><td>6</td><td>2</td><td>42040000.0</td></tr>\n",
       "<tr><td>12360000.0</td><td>0</td><td>0</td><td>0</td><td>1</td><td>HI 930</td><td>7440.4442</td><td>0.004816</td><td>930.7482</td><td>Morton2003</td><td></td><td>0.0</td><td>0</td><td>1</td><td>0.0</td><td>0.0</td><td>0.0</td><td>1</td><td>6</td><td>2</td><td>24500000.0</td></tr>\n",
       "<tr><td>8255000.0</td><td>0</td><td>0</td><td>0</td><td>1</td><td>HI 926</td><td>7965.0529</td><td>0.003185</td><td>926.2256</td><td>Morton2003</td><td></td><td>0.0</td><td>0</td><td>1</td><td>0.0</td><td>0.0</td><td>0.0</td><td>1</td><td>6</td><td>2</td><td>0.0</td></tr>\n",
       "<tr><td>5785000.0</td><td>0</td><td>0</td><td>0</td><td>1</td><td>HI 923</td><td>8324.7228</td><td>0.002217</td><td>923.1503</td><td>Morton2003</td><td></td><td>0.0</td><td>0</td><td>1</td><td>0.0</td><td>0.0</td><td>0.0</td><td>1</td><td>6</td><td>2</td><td>0.0</td></tr>\n",
       "<tr><td>4210000.0</td><td>0</td><td>0</td><td>0</td><td>1</td><td>HI 920</td><td>8581.9924</td><td>0.001606</td><td>920.963</td><td>Morton2003</td><td></td><td>0.0</td><td>0</td><td>1</td><td>0.0</td><td>0.0</td><td>0.0</td><td>1</td><td>6</td><td>2</td><td>0.0</td></tr>\n",
       "<tr><td>...</td><td>...</td><td>...</td><td>...</td><td>...</td><td>...</td><td>...</td><td>...</td><td>...</td><td>...</td><td>...</td><td>...</td><td>...</td><td>...</td><td>...</td><td>...</td><td>...</td><td>...</td><td>...</td><td>...</td><td>...</td></tr>\n",
       "<tr><td>4000000.0</td><td>0</td><td>0</td><td>0</td><td>1</td><td>GaI 2236</td><td>45536.66</td><td>0.0015</td><td>2236.61</td><td>Morton2003</td><td></td><td>826.19</td><td>0</td><td>1</td><td>0.0</td><td>0.0</td><td>0.0</td><td>31</td><td>2</td><td>4</td><td>0.0</td></tr>\n",
       "<tr><td>1940000.0</td><td>0</td><td>0</td><td>0</td><td>1</td><td>GaI 2196</td><td>45536.66</td><td>0.0014</td><td>2196.03</td><td>Morton2003</td><td></td><td>0.0</td><td>0</td><td>1</td><td>0.0</td><td>0.0</td><td>0.0</td><td>31</td><td>2</td><td>2</td><td>0.0</td></tr>\n",
       "<tr><td>530000.0</td><td>0</td><td>0</td><td>0</td><td>1</td><td>GaI 2215</td><td>45969.2</td><td>0.00039</td><td>2215.18</td><td>Morton2003</td><td></td><td>826.19</td><td>0</td><td>1</td><td>0.0</td><td>0.0</td><td>0.0</td><td>31</td><td>4</td><td>4</td><td>0.0</td></tr>\n",
       "<tr><td>3170000.0</td><td>0</td><td>0</td><td>0</td><td>1</td><td>GaI 2215</td><td>45972.0</td><td>0.0035</td><td>2215.04</td><td>Morton2003</td><td></td><td>826.19</td><td>0</td><td>1</td><td>0.0</td><td>0.0</td><td>0.0</td><td>31</td><td>6</td><td>4</td><td>0.0</td></tr>\n",
       "<tr><td>3110000.0</td><td>0</td><td>0</td><td>0</td><td>1</td><td>GaI 2200</td><td>46273.9</td><td>0.00113</td><td>2200.33</td><td>Morton2003</td><td></td><td>826.19</td><td>0</td><td>1</td><td>0.0</td><td>0.0</td><td>0.0</td><td>31</td><td>2</td><td>4</td><td>0.0</td></tr>\n",
       "<tr><td>409000.0</td><td>0</td><td>0</td><td>0</td><td>1</td><td>GaII 2091</td><td>47814.113</td><td>0.000805</td><td>2091.4327</td><td>Morton2003</td><td></td><td>0.0</td><td>0</td><td>2</td><td>0.0</td><td>0.0</td><td>0.0</td><td>31</td><td>3</td><td>1</td><td>409000.0</td></tr>\n",
       "<tr><td>1970000000.0</td><td>0</td><td>0</td><td>0</td><td>1</td><td>GaII 1414</td><td>70701.27</td><td>1.77</td><td>1414.402</td><td>Morton2003</td><td></td><td>0.0</td><td>0</td><td>2</td><td>0.0</td><td>0.0</td><td>0.0</td><td>31</td><td>3</td><td>1</td><td>1970000000.0</td></tr>\n",
       "<tr><td>783000000.0</td><td>0</td><td>0</td><td>0</td><td>1</td><td>GaIII 1507</td><td>66314.89</td><td>0.801</td><td>1507.957</td><td>Morton2003</td><td></td><td>0.0</td><td>0</td><td>3</td><td>0.0</td><td>0.0</td><td>0.0</td><td>31</td><td>6</td><td>2</td><td>0.0</td></tr>\n",
       "<tr><td>742000000.0</td><td>0</td><td>0</td><td>0</td><td>1</td><td>GaIII 1534</td><td>65169.4</td><td>0.262</td><td>1534.462</td><td>Morton2003</td><td></td><td>0.0</td><td>0</td><td>3</td><td>0.0</td><td>0.0</td><td>0.0</td><td>31</td><td>2</td><td>2</td><td>742000000.0</td></tr>\n",
       "<tr><td>805000000.0</td><td>0</td><td>0</td><td>0</td><td>1</td><td>GaIII 1495</td><td>66887.63</td><td>0.539</td><td>1495.045</td><td>Morton2003</td><td></td><td>0.0</td><td>0</td><td>3</td><td>0.0</td><td>0.0</td><td>0.0</td><td>31</td><td>4</td><td>2</td><td>805000000.0</td></tr>\n",
       "</table>"
      ],
      "text/plain": [
       "<Table masked=False length=3293>\n",
       "     A         el    nj    nk  group ...    Jk     Z     gk    gj     gamma    \n",
       "   1 / s                             ...                              1 / s    \n",
       "  float64    int64 int64 int64 int64 ... float64 int64 int64 int64   float64   \n",
       "------------ ----- ----- ----- ----- ... ------- ----- ----- ----- ------------\n",
       " 626500000.0     0     0     0     1 ...     0.0     1     6     2          0.0\n",
       " 167300000.0     0     0     0     1 ...     0.0     1     6     2  626500000.0\n",
       "  68190000.0     0     0     0     1 ...     0.0     1     6     2  189700000.0\n",
       "  34370000.0     0     0     0     1 ...     0.0     1     6     2   81270000.0\n",
       "  19730000.0     0     0     0     1 ...     0.0     1     6     2   42040000.0\n",
       "  12360000.0     0     0     0     1 ...     0.0     1     6     2   24500000.0\n",
       "   8255000.0     0     0     0     1 ...     0.0     1     6     2          0.0\n",
       "   5785000.0     0     0     0     1 ...     0.0     1     6     2          0.0\n",
       "   4210000.0     0     0     0     1 ...     0.0     1     6     2          0.0\n",
       "         ...   ...   ...   ...   ... ...     ...   ...   ...   ...          ...\n",
       "   4000000.0     0     0     0     1 ...     0.0    31     2     4          0.0\n",
       "   1940000.0     0     0     0     1 ...     0.0    31     2     2          0.0\n",
       "    530000.0     0     0     0     1 ...     0.0    31     4     4          0.0\n",
       "   3170000.0     0     0     0     1 ...     0.0    31     6     4          0.0\n",
       "   3110000.0     0     0     0     1 ...     0.0    31     2     4          0.0\n",
       "    409000.0     0     0     0     1 ...     0.0    31     3     1     409000.0\n",
       "1970000000.0     0     0     0     1 ...     0.0    31     3     1 1970000000.0\n",
       " 783000000.0     0     0     0     1 ...     0.0    31     6     2          0.0\n",
       " 742000000.0     0     0     0     1 ...     0.0    31     2     2  742000000.0\n",
       " 805000000.0     0     0     0     1 ...     0.0    31     4     2  805000000.0"
      ]
     },
     "execution_count": 11,
     "metadata": {},
     "output_type": "execute_result"
    }
   ],
   "source": [
    "reload(llp)\n",
    "llp.parse_morton03(orig=True)\n",
    "# Chlorine line didn't have ' A = ' only ' A ='"
   ]
  },
  {
   "cell_type": "code",
   "execution_count": 14,
   "metadata": {
    "collapsed": false
   },
   "outputs": [
    {
     "name": "stdout",
     "output_type": "stream",
     "text": [
      "linetools.lists.parse: Reading linelist --- \n",
      "   /Users/xavier/local/Python/linetools/linetools/data/lines/morton03_table2.dat\n",
      "mktab_morton03: Wrote /Users/xavier/local/Python/linetools/linetools/data/lines/morton03_table2.fits\n",
      "mktab_morton03: Now compressing...\n"
     ]
    }
   ],
   "source": [
    "reload(llp)\n",
    "llp.mktab_morton03(do_this=True)"
   ]
  },
  {
   "cell_type": "code",
   "execution_count": null,
   "metadata": {
    "collapsed": true
   },
   "outputs": [],
   "source": []
  }
 ],
 "metadata": {
  "kernelspec": {
   "display_name": "Python 2",
   "language": "python",
   "name": "python2"
  },
  "language_info": {
   "codemirror_mode": {
    "name": "ipython",
    "version": 2
   },
   "file_extension": ".py",
   "mimetype": "text/x-python",
   "name": "python",
   "nbconvert_exporter": "python",
   "pygments_lexer": "ipython2",
   "version": "2.7.10"
  }
 },
 "nbformat": 4,
 "nbformat_minor": 0
}
