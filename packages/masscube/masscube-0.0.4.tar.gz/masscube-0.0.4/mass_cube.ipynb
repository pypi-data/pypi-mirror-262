{
 "cells": [
  {
   "cell_type": "markdown",
   "metadata": {},
   "source": [
    "# Metabolomics data processing by *metabengine*\n",
    "\n",
    "Welcome to ```metabengine```!\n",
    "\n",
    "* ```metabengine``` aims to provide tools for the accurate and reproducible metabolomics data processing. Informed by ion identity, ```metabengine``` groups millions of ions in liquid chromatography-mass spectrometry (LC-MS) data for generating a list of unique chemical species.\n",
    "\n",
    "* Artificial neural network (ANN) is employed in ```metabengine``` to automatically interpret chromatographic peak shapes, labeling the high-quality features with Gaussian-shaped peak for reliable quantitative analysis.\n",
    "\n",
    "* ```metabengine``` also labels isotope, adducts, and in-source fragments based on peak-peak correlation and tandem MS/MS spectra (if available)."
   ]
  },
  {
   "cell_type": "markdown",
   "metadata": {},
   "source": [
    "## Example 1 | Untargeted metabolomics workflow (Data-dependent acquisition)\n",
    "\n",
    "This section demonstrates the most commonly used untargeted metabolomics data processing workflow. The goal is to generate feature table from raw LC-MS data with annotation.\n",
    "\n",
    "The proposed workflow contains five steps:\n",
    "\n",
    "1. Initiate project folder and set parameters\n",
    "\n",
    "2. Peak picking\n",
    "\n",
    "3. Peak evaluation by artificial neural network (ANN) model\n",
    "\n",
    "4. Feature grouping (isotopes, adducts, in-source fragments)\n",
    "\n",
    "5. Feature annotation\n",
    "\n",
    "🛎️**Note** \n",
    "\n",
    "Create a folder for the new project, and load raw LC-MS data to the ```sample``` directory. Example:\n",
    "\n",
    "```md\n",
    "project/\n",
    "├── sample\n",
    "└── sample_table.csv\n",
    "```"
   ]
  },
  {
   "cell_type": "code",
   "execution_count": null,
   "metadata": {},
   "outputs": [],
   "source": [
    "# import\n",
    "import metabengine as mbe\n",
    "from metabengine.params import Params\n",
    "\n",
    "# STEP 1: Create a new project and set parameters\n",
    "parameters = Params()\n",
    "parameters.project_dir = \"C:/Users/.../metabengine_project\"   # Project directory, character string\n",
    "\n",
    "parameters.rt_range = [0.0, 1000.0]   # RT range in minutes, list of two numbers\n",
    "parameters.ms2_sim_tol = 0.8    # MS2 similarity tolerance\n",
    "parameters.ion_mode = \"positive\"   # Ionization mode, \"positive\" or \"negative\"\n",
    "\n",
    "# Parameters for feature detection\n",
    "parameters.mz_tol_ms1 = 0.01    # m/z tolerance for MS1, default is 0.01\n",
    "parameters.mz_tol_ms2 = 0.015   # m/z tolerance for MS2, default is 0.015\n",
    "parameters.int_tol = 1000       # Intensity tolerance. We recommend 1000 for QTOF and 30000 for Orbitrap\n",
    "parameters.roi_gap = 2          # Gap within a feature, default is 2 (i.e. 2 consecutive scans without signal)\n",
    "parameters.min_ion_num = 10     # Minimum scan number a feature, default is 10\n",
    "parameters.cut_roi = True       # Whether to cut ROI, default is True\n",
    "parameters.ann_model = None     # ANN model for peak quality prediction, default is None\n",
    "\n",
    "# Parameters for feature alignment\n",
    "parameters.align_mz_tol = 0.01        # m/z tolerance for MS1, default is 0.01\n",
    "parameters.align_rt_tol = 0.2         # RT tolerance, default is 0.2\n",
    "parameters.discard_short_roi = True   # Whether to discard short ROIs with length < 5 and without MS2 from alignment, default is True\n",
    "\n",
    "# Parameters for feature annotation\n",
    "parameters.msms_library = None   # MS/MS library in MSP format, character string\n",
    "parameters.ppr = 0.7             # Peak peak correlation threshold, default is 0.7\n",
    "\n",
    "# Parameters for output\n",
    "parameters.output_single_file = False   # Whether to output a single file for each raw file, default is False\n",
    "parameters.output_aligned_file = True   # Output aligned file path, character string\n",
    "\n",
    "# see https: for more parameters and their default values\n",
    "\n",
    "# STEP 2-5: Untargeted metabolomics workflow\n",
    "mbe.untargeted_workflow(parameters)"
   ]
  },
  {
   "cell_type": "markdown",
   "metadata": {},
   "source": [
    "### Output\n",
    "\n",
    "The untargeted workflow will output files in the project folder as specified.\n",
    "\n",
    "```md\n",
    "project/\n",
    "├── sample\n",
    "│   ├── qc_1.mzML\n",
    "│   ├── qc_2.mzML\n",
    "│   ├── ...\n",
    "│   └── sample_1000.mzML\n",
    "├── single_file_output\n",
    "│   ├── qc_1.csv\n",
    "│   ├── qc_2.csv\n",
    "│   ├── ...\n",
    "│   └── sample_1000.csv\n",
    "├── mbe_project.pickle\n",
    "└── feature_table.csv\n",
    "```"
   ]
  },
  {
   "cell_type": "markdown",
   "metadata": {},
   "source": [
    "## Example 2 | Load an existing project and re-processing\n",
    "\n",
    "This section demonstrates how to load an existing project and perform further analysis"
   ]
  },
  {
   "cell_type": "code",
   "execution_count": null,
   "metadata": {},
   "outputs": [],
   "source": [
    "import metabengine as mbe\n",
    "\n",
    "mbe.load_project(\"C:/Users/.../mbe_project.pickle\")   # Load project"
   ]
  },
  {
   "cell_type": "markdown",
   "metadata": {},
   "source": [
    "## Example 3 | Process single file for quick inspection\n",
    "\n",
    "This example demonstrates the quick processing of single LC-MS data file for feature detection. The processed results can further be used for inspection."
   ]
  },
  {
   "cell_type": "code",
   "execution_count": null,
   "metadata": {},
   "outputs": [],
   "source": [
    "# Set parameters for processing single file for feature detection\n",
    "from metabengine.params import Params\n",
    "\n",
    "# STEP 1: Create a new project and set parameters\n",
    "parameters = Params()\n",
    "parameters.project_dir = \"C:/Users/.../metabengine_project\"   # Project directory, character string\n",
    "\n",
    "parameters.rt_range = [0.0, 60.0]   # RT range in minutes, list of two numbers\n",
    "parameters.mode = \"dda\"         # Acquisition mode, \"dda\", \"dia\", or \"full_scan\"\n",
    "parameters.ms2_sim_tol = 0.7    # MS2 similarity tolerance\n",
    "parameters.ion_mode = \"pos\"     # Ionization mode, \"pos\" or \"neg\"\n",
    "\n",
    "# Parameters for feature detection\n",
    "parameters.mz_tol_ms1 = 0.01    # m/z tolerance for MS1, default is 0.01\n",
    "parameters.mz_tol_ms2 = 0.015   # m/z tolerance for MS2, default is 0.015\n",
    "parameters.int_tol = 1000       # Intensity tolerance, recommand 10000 for Orbitrap and 1000 for QTOF MS\n",
    "parameters.roi_gap = 2          # Gap within a feature, default is 2 (i.e. 2 consecutive scans without signal)\n",
    "parameters.min_ion_num = 10      # Minimum scan number a feature, default is 10\n",
    "\n",
    "# Parameters for feature annotation (optional, set to None if not needed)\n",
    "parameters.msms_library = None  # MS/MS library in MSP format, character string\n",
    "\n",
    "# see https: for more parameters and their default values"
   ]
  },
  {
   "cell_type": "code",
   "execution_count": null,
   "metadata": {},
   "outputs": [],
   "source": [
    "# Example 3-1: Quick inspection on a blank file for background noise\n",
    "\n",
    "from metabengine import feat_detection\n",
    "\n",
    "file_name = \"C:/Users/.../blank.mzML\"\n",
    "blank_file = feat_detection(file_name, parameters)\n",
    "\n",
    "# Export a csv file for background noise to a folder\n",
    "export_path = \"C:/Users/.../\"   # Folder path\n",
    "blank_file.output_roi_report(export_path)\n",
    "\n",
    "# Export extracted ion chromatogram (EIC) for background noise features\n",
    "export_path = \"C:/Users/.../\"  # Folder path\n",
    "blank_file.plot_all_rois(export_path)"
   ]
  },
  {
   "cell_type": "code",
   "execution_count": null,
   "metadata": {},
   "outputs": [],
   "source": [
    "# Example 3-2: Quick inspection on a quality control file for internal standards\n",
    "\n",
    "from metabengine import feat_detection"
   ]
  },
  {
   "cell_type": "markdown",
   "metadata": {},
   "source": [
    "## Example 4 | Quality control analysis\n",
    "\n",
    "This example shows how to evaluate the quality control (QC) of LC-MS analysis using pooled QC samples"
   ]
  },
  {
   "cell_type": "markdown",
   "metadata": {},
   "source": [
    "## Example 5 | Inspection on carryover issue\n",
    "\n",
    "This example shows how to evaluate the quality control (QC) of LC-MS analysis using pooled QC samples"
   ]
  },
  {
   "cell_type": "markdown",
   "metadata": {},
   "source": [
    "## Example 6 | Generate molecular networking\n",
    "\n",
    "This example shows how to compute the correlation between features for creating molecular networking."
   ]
  },
  {
   "cell_type": "markdown",
   "metadata": {},
   "source": [
    "## Example 7 | Create EIC for a ion"
   ]
  },
  {
   "cell_type": "code",
   "execution_count": null,
   "metadata": {},
   "outputs": [],
   "source": [
    "from metabengine import read_raw_file_to_obj\n",
    "\n",
    "file_name = \"\"          # specify the file path (end with .mzml or .mzxml)\n",
    "d = read_raw_file_to_obj(file_name)\n",
    "# plot EIC\n",
    "target_mz = 121.0508    # m/z value of the ion\n",
    "targeted_rt = None      # RT value of the ion, set to None if you want to plot the whole EIC\n",
    "mz_tol = 0.01           # m/z tolerance for EIC\n",
    "rt_tol = 0.3            # RT window for EIC\n",
    "output = False          # False to show the plot. If you want to save the plot, set it as a file path\n",
    "# plot EIC\n",
    "d.plot_eic(target_mz, targeted_rt, mz_tol, rt_tol, output)\n",
    "# get EIC data\n",
    "eic_rt, eic_int, eic_mz, eic_scan_idx = d.get_eic_data(target_mz, targeted_rt, mz_tol, rt_tol)"
   ]
  }
 ],
 "metadata": {
  "kernelspec": {
   "display_name": "Python 3",
   "language": "python",
   "name": "python3"
  },
  "language_info": {
   "codemirror_mode": {
    "name": "ipython",
    "version": 3
   },
   "file_extension": ".py",
   "mimetype": "text/x-python",
   "name": "python",
   "nbconvert_exporter": "python",
   "pygments_lexer": "ipython3",
   "version": "3.11.7"
  },
  "orig_nbformat": 4
 },
 "nbformat": 4,
 "nbformat_minor": 2
}
