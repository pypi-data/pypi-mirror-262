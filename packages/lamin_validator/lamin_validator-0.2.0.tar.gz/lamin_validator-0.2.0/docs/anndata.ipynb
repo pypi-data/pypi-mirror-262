{
 "cells": [
  {
   "cell_type": "markdown",
   "id": "1d2cd769",
   "metadata": {},
   "source": [
    "# Validate and register an AnnData object\n",
    "\n",
    "This guide shows how to validate and curate an AnnData object using LaminDB registries.\n",
    "\n",
    "The validated object can be subsequently registered as an {class}`~lamindb.Artifact` in your LaminDB instance."
   ]
  },
  {
   "cell_type": "markdown",
   "id": "553332e1",
   "metadata": {},
   "source": [
    "## Set up"
   ]
  },
  {
   "cell_type": "markdown",
   "id": "cbe9ae41",
   "metadata": {},
   "source": [
    "Load your instance to register the validated AnnData:"
   ]
  },
  {
   "cell_type": "code",
   "execution_count": null,
   "id": "74008c61",
   "metadata": {
    "tags": [
     "hide-output"
    ]
   },
   "outputs": [],
   "source": [
    "!lamin init --storage ./test-anndata-validator --schema bionty"
   ]
  },
  {
   "cell_type": "code",
   "execution_count": null,
   "id": "a691aae0",
   "metadata": {},
   "outputs": [],
   "source": [
    "import lamindb as ln\n",
    "import bionty as bt\n",
    "from lamin_validator import AnnDataValidator, datasets\n",
    "\n",
    "ln.settings.verbosity = \"hint\""
   ]
  },
  {
   "cell_type": "markdown",
   "id": "65c71f2f",
   "metadata": {},
   "source": [
    "## An AnnData object with metadata"
   ]
  },
  {
   "cell_type": "markdown",
   "id": "52bbbac2",
   "metadata": {},
   "source": [
    "Let's load an AnnData object that we want to curate.\n",
    "Note that our convenience dataloader prepopulates the registries to speed up the curation process."
   ]
  },
  {
   "cell_type": "code",
   "execution_count": null,
   "id": "9cec7bf7",
   "metadata": {},
   "outputs": [],
   "source": [
    "adata = datasets.anndata_human_immune_cells(populate_registries=True)\n",
    "adata"
   ]
  },
  {
   "cell_type": "markdown",
   "id": "946a3371",
   "metadata": {},
   "source": [
    "## Validate and curate metadata"
   ]
  },
  {
   "cell_type": "markdown",
   "id": "abc3aafa",
   "metadata": {},
   "source": [
    "Define validation criteria for the observation columns:"
   ]
  },
  {
   "cell_type": "code",
   "execution_count": null,
   "id": "cfb3492d",
   "metadata": {},
   "outputs": [],
   "source": [
    "obs_fields = {\n",
    "    \"assay\": bt.ExperimentalFactor.name,\n",
    "    \"cell_type\": bt.CellType.name,\n",
    "    \"donor\": ln.ULabel.name,\n",
    "    \"sex_ontology_term_id\": bt.Phenotype.ontology_id,\n",
    "    \"tissue\": bt.Tissue.name,\n",
    "}"
   ]
  },
  {
   "cell_type": "markdown",
   "id": "acdb45d8",
   "metadata": {},
   "source": [
    "Next, we create a {class}`~lamin_validator.AnnDataValidator` object where we specify which `var_fields` and `obs_fields` to validate against.\n",
    "We further specify to use the [cellxgene instance](https://lamin.ai/laminlabs/cellxgene) registries to curate against.\n",
    "This allows us to register values that are currently missing in our instance from the [cellxgene instance](https://lamin.ai/laminlabs/cellxgene) directly.\n",
    "By having our own registry but also validating against the [cellxgene instance](https://lamin.ai/laminlabs/cellxgene), we enable the addition of new registry values while keeping the [cellxgene instance](https://lamin.ai/laminlabs/cellxgene) focused on the [cellxgene schema](https://github.com/chanzuckerberg/single-cell-curation/tree/main/schema)."
   ]
  },
  {
   "cell_type": "code",
   "execution_count": null,
   "id": "15137652",
   "metadata": {},
   "outputs": [],
   "source": [
    "validator = AnnDataValidator(\n",
    "    adata, \n",
    "    using=\"laminlabs/cellxgene\",\n",
    "    var_field=bt.Gene.ensembl_gene_id, \n",
    "    obs_fields=obs_fields,\n",
    ")"
   ]
  },
  {
   "cell_type": "code",
   "execution_count": null,
   "id": "24e00633",
   "metadata": {},
   "outputs": [],
   "source": [
    "validated = validator.validate(organism=\"human\")"
   ]
  },
  {
   "cell_type": "code",
   "execution_count": null,
   "id": "f75d3f15",
   "metadata": {},
   "outputs": [],
   "source": [
    "validated"
   ]
  },
  {
   "cell_type": "markdown",
   "id": "7c157df6",
   "metadata": {},
   "source": [
    "## Register new metadata labels\n",
    "\n",
    "Following the suggestions above to register genes and labels that aren't present in the current instance:\n",
    "\n",
    "(Note that our instance is rather empty. Once you filled up the registries, registering new labels won't be frequently needed)"
   ]
  },
  {
   "cell_type": "code",
   "execution_count": null,
   "id": "7c58652e",
   "metadata": {},
   "outputs": [],
   "source": [
    "validator.register_variables()"
   ]
  },
  {
   "cell_type": "code",
   "execution_count": null,
   "id": "943e0e7a",
   "metadata": {},
   "outputs": [],
   "source": [
    "validator.register_labels(\"assay\")"
   ]
  },
  {
   "cell_type": "code",
   "execution_count": null,
   "id": "bf6b06f6",
   "metadata": {},
   "outputs": [],
   "source": [
    "validator.register_labels(\"donor\")"
   ]
  },
  {
   "cell_type": "code",
   "execution_count": null,
   "id": "b393accf",
   "metadata": {},
   "outputs": [],
   "source": [
    "validator.register_labels(\"donor\", validated_only=False)"
   ]
  },
  {
   "cell_type": "code",
   "execution_count": null,
   "id": "fc38f911",
   "metadata": {},
   "outputs": [],
   "source": [
    "validator.register_labels('sex_ontology_term_id')"
   ]
  },
  {
   "cell_type": "code",
   "execution_count": null,
   "id": "09830185",
   "metadata": {},
   "outputs": [],
   "source": [
    "validator.register_labels('tissue')"
   ]
  },
  {
   "cell_type": "markdown",
   "id": "0861e207",
   "metadata": {},
   "source": [
    "An error is shown for the tissue label \"lungg\", which is a typo, should be \"lung\". Let's fix it:"
   ]
  },
  {
   "cell_type": "code",
   "execution_count": null,
   "id": "e56e2fcb",
   "metadata": {},
   "outputs": [],
   "source": [
    "# using a lookup object to find the correct term\n",
    "tissues = validator.lookup()[\"tissue\"]"
   ]
  },
  {
   "cell_type": "code",
   "execution_count": null,
   "id": "daeb0568",
   "metadata": {},
   "outputs": [],
   "source": [
    "adata.obs[\"tissue\"] = adata.obs[\"tissue\"].cat.rename_categories({\"lungg\": tissues.lung.name})"
   ]
  },
  {
   "cell_type": "code",
   "execution_count": null,
   "id": "bc7c7e4a",
   "metadata": {},
   "outputs": [],
   "source": [
    "validator.register_labels('tissue')"
   ]
  },
  {
   "cell_type": "markdown",
   "id": "1f3cd3a9",
   "metadata": {},
   "source": [
    "Let's validate it again:"
   ]
  },
  {
   "cell_type": "code",
   "execution_count": null,
   "id": "1a90599b",
   "metadata": {},
   "outputs": [],
   "source": [
    "validated = validator.validate()"
   ]
  },
  {
   "cell_type": "code",
   "execution_count": null,
   "id": "55b9b30e",
   "metadata": {},
   "outputs": [],
   "source": [
    "validated"
   ]
  },
  {
   "cell_type": "markdown",
   "id": "38a30170",
   "metadata": {},
   "source": [
    "## Register file"
   ]
  },
  {
   "cell_type": "markdown",
   "id": "a814ef37",
   "metadata": {},
   "source": [
    "Now we are ready to register the artifact to the working instance:"
   ]
  },
  {
   "cell_type": "code",
   "execution_count": null,
   "id": "a70fe66d",
   "metadata": {},
   "outputs": [],
   "source": [
    "ln.transform.stem_uid = \"WOK3vP0bNGLx\"\n",
    "ln.transform.version = \"0\"\n",
    "ln.track()"
   ]
  },
  {
   "cell_type": "code",
   "execution_count": null,
   "id": "f12ec345",
   "metadata": {},
   "outputs": [],
   "source": [
    "artifact = validator.register_artifact(description=\"test h5ad file\")"
   ]
  },
  {
   "cell_type": "markdown",
   "id": "4fc354e4",
   "metadata": {},
   "source": [
    "View the registered artifact with metadata:"
   ]
  },
  {
   "cell_type": "code",
   "execution_count": null,
   "id": "5e901343",
   "metadata": {},
   "outputs": [],
   "source": [
    "artifact.describe()"
   ]
  },
  {
   "cell_type": "markdown",
   "id": "1aa82222",
   "metadata": {},
   "source": [
    "## Register collection"
   ]
  },
  {
   "cell_type": "markdown",
   "id": "3cf67f90",
   "metadata": {},
   "source": [
    "Register a new collection for the registered artifact:"
   ]
  },
  {
   "cell_type": "code",
   "execution_count": null,
   "id": "8940e83c",
   "metadata": {},
   "outputs": [],
   "source": [
    "# register a new collection\n",
    "collection = validator.register_collection(\n",
    "    artifact,  # registered artifact above, can also pass a list of artifacts\n",
    "    name=\"Cross-tissue immune cell analysis reveals tissue-specific features in humans (for test demo only)\",  # title of the publication\n",
    "    description=\"10.1126/science.abl5197\",  # DOI of the publication\n",
    "    reference=\"E-MTAB-11536\", # accession number (e.g. GSE#, E-MTAB#, etc.)\n",
    "    reference_type=\"ArrayExpress\") # source type (e.g. GEO, ArrayExpress, SRA, etc.)"
   ]
  },
  {
   "cell_type": "code",
   "execution_count": null,
   "id": "867e52b8",
   "metadata": {},
   "outputs": [],
   "source": [
    "collection.artifact"
   ]
  },
  {
   "cell_type": "code",
   "execution_count": null,
   "id": "6e963036",
   "metadata": {},
   "outputs": [],
   "source": [
    "artifact.collection"
   ]
  }
 ],
 "metadata": {
  "kernelspec": {
   "display_name": "Python 3 (ipykernel)",
   "language": "python",
   "name": "python3"
  },
  "language_info": {
   "codemirror_mode": {
    "name": "ipython",
    "version": 3
   },
   "file_extension": ".py",
   "mimetype": "text/x-python",
   "name": "python",
   "nbconvert_exporter": "python",
   "pygments_lexer": "ipython3",
   "version": "3.11.7"
  },
  "nbproject": {
   "id": "WOK3vP0bNGLx",
   "parent": null,
   "pypackage": null,
   "time_init": "2023-12-20T04:27:49.536493+00:00",
   "user_handle": null,
   "user_id": null,
   "user_name": null,
   "version": "0"
  }
 },
 "nbformat": 4,
 "nbformat_minor": 5
}
