{
 "cells": [
  {
   "cell_type": "markdown",
   "id": "1d2cd769",
   "metadata": {},
   "source": [
    "# Validate and register labels\n",
    "\n",
    "This guide shows how to validate and curate labels in a DataFrame using LaminDB registries.\n",
    "\n",
    "The validated object can be subsequently registered as an {class}`~lamindb.Artifact` in your LaminDB instance."
   ]
  },
  {
   "cell_type": "markdown",
   "id": "553332e1",
   "metadata": {},
   "source": [
    "## Set up"
   ]
  },
  {
   "cell_type": "code",
   "execution_count": null,
   "id": "74008c61",
   "metadata": {
    "tags": [
     "hide-output"
    ]
   },
   "outputs": [],
   "source": [
    "!lamin init --storage ./test-validator --schema bionty"
   ]
  },
  {
   "cell_type": "code",
   "execution_count": null,
   "id": "a691aae0",
   "metadata": {},
   "outputs": [],
   "source": [
    "import lamindb as ln\n",
    "import bionty as bt\n",
    "import pandas as pd\n",
    "from lamin_validator import Validator\n",
    "\n",
    "ln.settings.verbosity = \"hint\""
   ]
  },
  {
   "cell_type": "markdown",
   "id": "65c71f2f",
   "metadata": {},
   "source": [
    "## A DataFrame with labels"
   ]
  },
  {
   "cell_type": "markdown",
   "id": "52bbbac2",
   "metadata": {},
   "source": [
    "Let's start with a DataFrame object that we'd like to validate and curate:"
   ]
  },
  {
   "cell_type": "code",
   "execution_count": null,
   "id": "6e313088",
   "metadata": {},
   "outputs": [],
   "source": [
    "df = pd.DataFrame({\n",
    "    \"cell_type\": [\"cerebral pyramidal neuron\", \"astrocyte\", \"oligodendrocyte\"],\n",
    "    \"assay_ontology_id\": [\"EFO:0008913\", \"EFO:0008913\", \"EFO:0008913\"],\n",
    "    \"donor\": [\"D0001\", \"D0002\", \"DOOO3\"],\n",
    "})\n",
    "df"
   ]
  },
  {
   "cell_type": "markdown",
   "id": "946a3371",
   "metadata": {},
   "source": [
    "## Validate and curate metadata"
   ]
  },
  {
   "cell_type": "markdown",
   "id": "abc3aafa",
   "metadata": {},
   "source": [
    "Define validation criteria for the columns:"
   ]
  },
  {
   "cell_type": "code",
   "execution_count": null,
   "id": "cfb3492d",
   "metadata": {},
   "outputs": [],
   "source": [
    "fields = {\n",
    "    \"cell_type\": bt.CellType.name,\n",
    "    \"assay_ontology_id\": bt.ExperimentalFactor.ontology_id,\n",
    "    \"donor\": ln.ULabel.name,\n",
    "}"
   ]
  },
  {
   "cell_type": "markdown",
   "id": "acdb45d8",
   "metadata": {},
   "source": [
    "Validate the Pandas DataFrame:"
   ]
  },
  {
   "cell_type": "code",
   "execution_count": null,
   "id": "15137652",
   "metadata": {},
   "outputs": [],
   "source": [
    "validator = Validator(df, fields=fields)"
   ]
  },
  {
   "cell_type": "code",
   "execution_count": null,
   "id": "24e00633",
   "metadata": {},
   "outputs": [],
   "source": [
    "validated = validator.validate()"
   ]
  },
  {
   "cell_type": "code",
   "execution_count": null,
   "id": "f75d3f15",
   "metadata": {},
   "outputs": [],
   "source": [
    "validated"
   ]
  },
  {
   "cell_type": "markdown",
   "id": "7c157df6",
   "metadata": {},
   "source": [
    "## Register new metadata labels\n",
    "\n",
    "Following the suggestions above to register labels that aren't present in the current instance:\n",
    "\n",
    "(Note that our current instance is empty. Once you filled up the registries, registering new labels won't be frequently needed)"
   ]
  },
  {
   "cell_type": "code",
   "execution_count": null,
   "id": "943e0e7a",
   "metadata": {},
   "outputs": [],
   "source": [
    "validator.register_labels(\"cell_type\")"
   ]
  },
  {
   "cell_type": "markdown",
   "id": "2dcd5a3d",
   "metadata": {},
   "source": [
    "Fix typo and register again:"
   ]
  },
  {
   "cell_type": "code",
   "execution_count": null,
   "id": "ea6b82b8",
   "metadata": {},
   "outputs": [],
   "source": [
    "# use a lookup object to get the correct spelling of categories from public reference\n",
    "lookup = validator.lookup(\"public\")"
   ]
  },
  {
   "cell_type": "code",
   "execution_count": null,
   "id": "24a56369",
   "metadata": {},
   "outputs": [],
   "source": [
    "lookup"
   ]
  },
  {
   "cell_type": "code",
   "execution_count": null,
   "id": "4c98914a",
   "metadata": {},
   "outputs": [],
   "source": [
    "cell_types = lookup[\"cell_type\"]"
   ]
  },
  {
   "cell_type": "code",
   "execution_count": null,
   "id": "c49dc7eb",
   "metadata": {},
   "outputs": [],
   "source": [
    "cell_types.cerebral_cortex_pyramidal_neuron"
   ]
  },
  {
   "cell_type": "code",
   "execution_count": null,
   "id": "b06c7875",
   "metadata": {},
   "outputs": [],
   "source": [
    "# fix the typo\n",
    "df[\"cell_type\"] = df[\"cell_type\"].replace({\"cerebral pyramidal neuron\": cell_types.cerebral_cortex_pyramidal_neuron.name})\n",
    "\n",
    "validator.register_labels(\"cell_type\")"
   ]
  },
  {
   "cell_type": "code",
   "execution_count": null,
   "id": "bf6b06f6",
   "metadata": {},
   "outputs": [],
   "source": [
    "validator.register_labels(\"assay_ontology_id\")"
   ]
  },
  {
   "cell_type": "code",
   "execution_count": null,
   "id": "13cec5d4",
   "metadata": {},
   "outputs": [],
   "source": [
    "validator.register_labels(\"donor\")"
   ]
  },
  {
   "cell_type": "markdown",
   "id": "b182af1c",
   "metadata": {},
   "source": [
    "To register non-validated terms, pass `validated_only=False`:"
   ]
  },
  {
   "cell_type": "code",
   "execution_count": null,
   "id": "b393accf",
   "metadata": {},
   "outputs": [],
   "source": [
    "validator.register_labels(\"donor\", validated_only=False)"
   ]
  },
  {
   "cell_type": "markdown",
   "id": "1f3cd3a9",
   "metadata": {},
   "source": [
    "Let's validate it again:"
   ]
  },
  {
   "cell_type": "code",
   "execution_count": null,
   "id": "1a90599b",
   "metadata": {},
   "outputs": [],
   "source": [
    "validated = validator.validate()"
   ]
  },
  {
   "cell_type": "code",
   "execution_count": null,
   "id": "55b9b30e",
   "metadata": {},
   "outputs": [],
   "source": [
    "validated"
   ]
  },
  {
   "cell_type": "markdown",
   "id": "38a30170",
   "metadata": {},
   "source": [
    "## Register file"
   ]
  },
  {
   "cell_type": "markdown",
   "id": "a814ef37",
   "metadata": {},
   "source": [
    "Now we are ready to register the artifact to the working instance:"
   ]
  },
  {
   "cell_type": "code",
   "execution_count": null,
   "id": "a70fe66d",
   "metadata": {},
   "outputs": [],
   "source": [
    "ln.transform.stem_uid = \"WOK3vP0bNGLx\"\n",
    "ln.transform.version = \"0\"\n",
    "ln.track()"
   ]
  },
  {
   "cell_type": "code",
   "execution_count": null,
   "id": "f12ec345",
   "metadata": {},
   "outputs": [],
   "source": [
    "artifact = validator.register_artifact(description=\"test sample sheet\")"
   ]
  },
  {
   "cell_type": "markdown",
   "id": "4fc354e4",
   "metadata": {},
   "source": [
    "View the registered artifact with metadata:"
   ]
  },
  {
   "cell_type": "code",
   "execution_count": null,
   "id": "5e901343",
   "metadata": {},
   "outputs": [],
   "source": [
    "artifact.describe()"
   ]
  },
  {
   "cell_type": "markdown",
   "id": "1aa82222",
   "metadata": {},
   "source": [
    "## Register collection"
   ]
  },
  {
   "cell_type": "markdown",
   "id": "3cf67f90",
   "metadata": {},
   "source": [
    "Register a new collection for the registered artifact:"
   ]
  },
  {
   "cell_type": "code",
   "execution_count": null,
   "id": "8940e83c",
   "metadata": {},
   "outputs": [],
   "source": [
    "# register a new collection\n",
    "collection = validator.register_collection(\n",
    "    artifact,  # registered artifact above, can also pass a list of artifacts\n",
    "    name=\"Experiment X in brain\",  # title of the publication\n",
    "    description=\"10.1126/science.abl5197\",  # DOI of the publication\n",
    "    reference=\"E-MTAB-11536\", # accession number (e.g. GSE#, E-MTAB#, etc.)\n",
    "    reference_type=\"ArrayExpress\") # source type (e.g. GEO, ArrayExpress, SRA, etc.)"
   ]
  },
  {
   "cell_type": "code",
   "execution_count": null,
   "id": "867e52b8",
   "metadata": {},
   "outputs": [],
   "source": [
    "collection.artifact"
   ]
  },
  {
   "cell_type": "code",
   "execution_count": null,
   "id": "6e963036",
   "metadata": {},
   "outputs": [],
   "source": [
    "artifact.collection"
   ]
  }
 ],
 "metadata": {
  "kernelspec": {
   "display_name": "Python 3 (ipykernel)",
   "language": "python",
   "name": "python3"
  },
  "language_info": {
   "codemirror_mode": {
    "name": "ipython",
    "version": 3
   },
   "file_extension": ".py",
   "mimetype": "text/x-python",
   "name": "python",
   "nbconvert_exporter": "python",
   "pygments_lexer": "ipython3",
   "version": "3.10.13"
  },
  "nbproject": {
   "id": "WOK3vP0bNGLx",
   "parent": null,
   "pypackage": null,
   "time_init": "2023-12-20T04:27:49.536493+00:00",
   "user_handle": null,
   "user_id": null,
   "user_name": null,
   "version": "0"
  }
 },
 "nbformat": 4,
 "nbformat_minor": 5
}
